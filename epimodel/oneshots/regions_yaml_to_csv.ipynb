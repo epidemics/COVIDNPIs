{
 "cells": [
  {
   "cell_type": "markdown",
   "metadata": {},
   "source": [
    "## This notebook extracts data from regions.yaml and writes it to a csv file\n",
    "make sure regions.yaml is in the current directory"
   ]
  },
  {
   "cell_type": "markdown",
   "metadata": {},
   "source": [
    "imports"
   ]
  },
  {
   "cell_type": "code",
   "execution_count": null,
   "metadata": {},
   "outputs": [],
   "source": [
    "import pandas as pd\n",
    "import numpy as np\n",
    "import yaml"
   ]
  },
  {
   "cell_type": "markdown",
   "metadata": {},
   "source": [
    "define function for data extraction from dictionary tree"
   ]
  },
  {
   "cell_type": "code",
   "execution_count": null,
   "metadata": {},
   "outputs": [],
   "source": [
    "def extract_data(region_dict, names=[], kind=[], \n",
    "                 population=[], gleam_id=[], \n",
    "                 iana=[], iso_alpha_3=[],\n",
    "                 country_code=[],country_track=[],\n",
    "                 lat=[], lon=[]):\n",
    "    '''\n",
    "    recurse through nested dictionaries in tree\n",
    "    to extract data from dictionary \n",
    "    '''\n",
    "    if 'gleam_id' in region_dict.keys():\n",
    "        gleam_id.append(region_dict['gleam_id'])\n",
    "    else:\n",
    "        gleam_id.append(None)\n",
    "        \n",
    "    if 'iana' in region_dict.keys():   \n",
    "        iana.append(region_dict['iana'])\n",
    "    else:\n",
    "        iana.append(None)\n",
    "        \n",
    "    if 'iso_alpha_3' in region_dict.keys():\n",
    "        iso_alpha_3.append(region_dict['iso_alpha_3'])\n",
    "    else:\n",
    "        iso_alpha_3.append(None)\n",
    "        \n",
    "    if 'kind' in region_dict.keys():\n",
    "        kind.append(region_dict['kind'])\n",
    "        if region_dict['kind']=='country':\n",
    "            country_track = region_dict['names'][0]\n",
    "            country_code.append(region_dict['names'][0])\n",
    "        else:\n",
    "            country_code.append(country_track)\n",
    "            \n",
    "    if 'names' in region_dict.keys():\n",
    "        names.append(region_dict['names'][0])\n",
    "        \n",
    "    if 'population' in region_dict.keys():\n",
    "        population.append(region_dict['population'])\n",
    "    else:\n",
    "        population.append(None)\n",
    "        \n",
    "    if 'lat' in region_dict.keys():\n",
    "        lat.append(region_dict['lat'])\n",
    "    else:\n",
    "        lat.append(None)\n",
    "        \n",
    "    if 'lon' in region_dict.keys():\n",
    "        lon.append(region_dict['lon'])\n",
    "    else:\n",
    "        lon.append(None)\n",
    "        \n",
    "    if 'subregions' in region_dict.keys():\n",
    "            for i in range(0,len(region_dict['subregions'])):\n",
    "                extract_data(region_dict['subregions'][i], names=names, kind=kind, \n",
    "                             population=population, gleam_id=gleam_id, \n",
    "                             iana=iana, iso_alpha_3=iso_alpha_3,\n",
    "                             country_code=country_code, country_track=country_track,\n",
    "                             lat=lat, lon=lon)\n",
    "    return(names, kind, population, gleam_id, iana, iso_alpha_3, country_code, lat, lon)"
   ]
  },
  {
   "cell_type": "markdown",
   "metadata": {},
   "source": [
    "open file and extract data"
   ]
  },
  {
   "cell_type": "code",
   "execution_count": null,
   "metadata": {},
   "outputs": [],
   "source": [
    "# open regions.yaml\n",
    "with open('regions.yaml') as file:\n",
    "    regions = yaml.safe_load(file)\n",
    "\n",
    "# extract the data from the dictionary tree\n",
    "(names, \n",
    "kind, \n",
    "population, \n",
    "gleam_id, \n",
    "iana, \n",
    "iso_alpha_3, \n",
    "country_code, \n",
    "lat, \n",
    "lon) = extract_data(regions)"
   ]
  },
  {
   "cell_type": "markdown",
   "metadata": {},
   "source": [
    "write to csv file"
   ]
  },
  {
   "cell_type": "code",
   "execution_count": null,
   "metadata": {},
   "outputs": [],
   "source": [
    "# create a blank list for formatting table\n",
    "blank = ['']*len(names)\n",
    "\n",
    "# write to dataframe first \n",
    "df = pd.DataFrame(data={'Code': iana,\n",
    "                        'Level': kind, \n",
    "                        'Name': names,\n",
    "                        'OfficialName': blank,\n",
    "                        'OtherNames': blank,\n",
    "                        'CountryCode': blank,\n",
    "                        'CountryCodeISOa3':iso_alpha_3,\n",
    "                        'M49Code': blank,\n",
    "                        'Lat':lat, \n",
    "                        'Lon':lon,\n",
    "                        'Population':population,\n",
    "                        'GleamID':gleam_id})\n",
    "df = df.sort_values(by=['Level','Name'])\n",
    "print(df)\n",
    "\n",
    "# write to csv\n",
    "df.to_csv('regions_new.csv', index=False)"
   ]
  }
 ],
 "metadata": {
  "kernelspec": {
   "display_name": "Python 3",
   "language": "python",
   "name": "python3"
  },
  "language_info": {
   "codemirror_mode": {
    "name": "ipython",
    "version": 3
   },
   "file_extension": ".py",
   "mimetype": "text/x-python",
   "name": "python",
   "nbconvert_exporter": "python",
   "pygments_lexer": "ipython3",
   "version": "3.8.2"
  }
 },
 "nbformat": 4,
 "nbformat_minor": 4
}
