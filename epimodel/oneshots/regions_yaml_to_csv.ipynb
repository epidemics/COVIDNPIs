{
 "cells": [
  {
   "cell_type": "markdown",
   "metadata": {},
   "source": [
    "## This notebook extracts data from regions.yaml and writes it to a csv file\n",
    "make sure regions.yaml is in the current directory"
   ]
  },
  {
   "cell_type": "markdown",
   "metadata": {},
   "source": [
    "imports"
   ]
  },
  {
   "cell_type": "code",
   "execution_count": 1,
   "metadata": {},
   "outputs": [],
   "source": [
    "import pandas as pd\n",
    "import numpy as np\n",
    "import yaml"
   ]
  },
  {
   "cell_type": "markdown",
   "metadata": {},
   "source": [
    "define function for data extraction from dictionary tree"
   ]
  },
  {
   "cell_type": "code",
   "execution_count": 2,
   "metadata": {},
   "outputs": [],
   "source": [
    "def extract_data(region_dict, names=[], kind=[], \n",
    "                 population=[], gleam_id=[], \n",
    "                 iana=[], iso_alpha_3=[],\n",
    "                 country_code=[],iso_alpha_3_track=None,\n",
    "                 lat=[], lon=[], other_names=[]):\n",
    "    '''\n",
    "    recurse through nested dictionaries in tree\n",
    "    to extract data from dictionary \n",
    "    '''\n",
    "    # extract name\n",
    "    names.append(region_dict['names'][0])\n",
    "    \n",
    "    # extract other names\n",
    "    if len(region_dict['names'])>1:\n",
    "        for j in range(1,len(region_dict['names'])):\n",
    "            if j==1:\n",
    "                other_name_str = region_dict['names'][j]\n",
    "            else:\n",
    "                other_name_str = other_name_str + ', ' + region_dict['names'][j]\n",
    "        other_names.append(other_name_str)\n",
    "    else:\n",
    "        other_names.append(None)   \n",
    "    \n",
    "        \n",
    "    # extract kind aka level \n",
    "    kind.append(region_dict['kind'])\n",
    "    \n",
    "    # if kind is country, keep this iso_alpha_3 code until next country\n",
    "    if region_dict['kind']=='country':\n",
    "        if 'iso_alpha_3' in region_dict.keys():\n",
    "            iso_alpha_3_track = region_dict['iso_alpha_3']\n",
    "        else:\n",
    "            iso_alpha_3_track = None\n",
    "    \n",
    "    # extract iso_alpha_3 code\n",
    "    if 'iso_alpha_3' in region_dict.keys():\n",
    "        iso_alpha_3.append(region_dict['iso_alpha_3'])\n",
    "    else:\n",
    "        iso_alpha_3.append(iso_alpha_3_track)\n",
    "    \n",
    "    # extract gleam id\n",
    "    if 'gleam_id' in region_dict.keys():\n",
    "        gleam_id.append(region_dict['gleam_id'])\n",
    "    else:\n",
    "        gleam_id.append(None)\n",
    "       \n",
    "    # extract iana code\n",
    "    if 'iana' in region_dict.keys():   \n",
    "        iana.append(region_dict['iana'])\n",
    "    else:\n",
    "        iana.append(None)\n",
    "        \n",
    "    # extract population\n",
    "    if 'population' in region_dict.keys():\n",
    "        population.append(region_dict['population'])\n",
    "    else:\n",
    "        population.append(None)\n",
    "     \n",
    "    # extract latitude\n",
    "    if 'lat' in region_dict.keys():\n",
    "        lat.append(region_dict['lat'])\n",
    "    else:\n",
    "        lat.append(None)\n",
    "    \n",
    "    # extract longitude\n",
    "    if 'lon' in region_dict.keys():\n",
    "        lon.append(region_dict['lon'])\n",
    "    else:\n",
    "        lon.append(None)\n",
    "      \n",
    "    # extract subregions\n",
    "    if 'subregions' in region_dict.keys():\n",
    "            for i in range(0,len(region_dict['subregions'])):\n",
    "                # use recursion to go deeper into tree\n",
    "                extract_data(region_dict['subregions'][i], names=names, kind=kind, \n",
    "                             population=population, gleam_id=gleam_id, \n",
    "                             iana=iana, iso_alpha_3=iso_alpha_3,\n",
    "                             country_code=country_code, iso_alpha_3_track=iso_alpha_3_track,\n",
    "                             lat=lat, lon=lon, other_names=other_names)\n",
    "                \n",
    "    return(names, kind, population, \n",
    "           gleam_id, iana, iso_alpha_3, \n",
    "           country_code, lat, lon, other_names)"
   ]
  },
  {
   "cell_type": "markdown",
   "metadata": {},
   "source": [
    "open file and extract data"
   ]
  },
  {
   "cell_type": "code",
   "execution_count": 3,
   "metadata": {},
   "outputs": [],
   "source": [
    "# open regions.yaml\n",
    "with open('regions.yaml') as file:\n",
    "    regions = yaml.safe_load(file)\n",
    "\n",
    "# extract the data from the dictionary tree\n",
    "(names, \n",
    "kind, \n",
    "population, \n",
    "gleam_id, \n",
    "iana, \n",
    "iso_alpha_3, \n",
    "country_code, \n",
    "lat, \n",
    "lon,\n",
    "other_names) = extract_data(regions)"
   ]
  },
  {
   "cell_type": "markdown",
   "metadata": {},
   "source": [
    "write to csv file"
   ]
  },
  {
   "cell_type": "code",
   "execution_count": 4,
   "metadata": {},
   "outputs": [
    {
     "name": "stdout",
     "output_type": "stream",
     "text": [
      "      Code  Level        Name OfficialName OtherNames CountryCode  \\\n",
      "1672   AAL   city     Aalborg                    None               \n",
      "1673   AAR   city      Aarhus                    None               \n",
      "600    ABD   city      Abadan                    None               \n",
      "1465   ABA   city      Abakan                    None               \n",
      "3092   YXX   city  Abbotsford                    None               \n",
      "...    ...    ...         ...          ...        ...         ...   \n",
      "1186  None  state    xinjiang                    None               \n",
      "3269  None  state       yukon                    None               \n",
      "1133  None  state      yunnan                    None               \n",
      "1146  None  state    zhejiang                    None               \n",
      "0     None  world       world                   earth               \n",
      "\n",
      "     CountryCodeISOa3 M49Code     Lat      Lon    Population  GleamID  \n",
      "1672              DNK          57.093    9.849  1.220000e+05   1565.0  \n",
      "1673              DNK          56.300   10.619  2.380000e+05   1566.0  \n",
      "600               IRN          30.371   48.228  4.100000e+04   2962.0  \n",
      "1465              RUS          53.740   91.385  1.670000e+05   1901.0  \n",
      "3092              CAN          49.025 -122.361  1.520000e+05   2725.0  \n",
      "...               ...     ...     ...      ...           ...      ...  \n",
      "1186              CHN             NaN      NaN  2.360000e+07      NaN  \n",
      "3269              CAN             NaN      NaN  3.500000e+04      NaN  \n",
      "1133              CHN             NaN      NaN  4.596600e+07      NaN  \n",
      "1146              CHN             NaN      NaN  5.737000e+07      NaN  \n",
      "0                None             NaN      NaN  7.713000e+09      NaN  \n",
      "\n",
      "[3598 rows x 12 columns]\n"
     ]
    }
   ],
   "source": [
    "# create a blank list for formatting table\n",
    "blank = ['']*len(names)\n",
    "\n",
    "# write to dataframe first \n",
    "df = pd.DataFrame(data={'Code': iana,\n",
    "                        'Level': kind, \n",
    "                        'Name': names,\n",
    "                        'OfficialName': blank,\n",
    "                        'OtherNames': other_names,\n",
    "                        'CountryCode': blank,\n",
    "                        'CountryCodeISOa3':iso_alpha_3,\n",
    "                        'M49Code': blank,\n",
    "                        'Lat':lat, \n",
    "                        'Lon':lon,\n",
    "                        'Population':population,\n",
    "                        'GleamID':gleam_id})\n",
    "df = df.sort_values(by=['Level','Name'])\n",
    "print(df)\n",
    "\n",
    "# write to csv\n",
    "df.to_csv('regions_new.csv', index=False)"
   ]
  },
  {
   "cell_type": "code",
   "execution_count": null,
   "metadata": {},
   "outputs": [],
   "source": []
  }
 ],
 "metadata": {
  "kernelspec": {
   "display_name": "Python 3",
   "language": "python",
   "name": "python3"
  },
  "language_info": {
   "codemirror_mode": {
    "name": "ipython",
    "version": 3
   },
   "file_extension": ".py",
   "mimetype": "text/x-python",
   "name": "python",
   "nbconvert_exporter": "python",
   "pygments_lexer": "ipython3",
   "version": "3.8.2"
  }
 },
 "nbformat": 4,
 "nbformat_minor": 4
}
