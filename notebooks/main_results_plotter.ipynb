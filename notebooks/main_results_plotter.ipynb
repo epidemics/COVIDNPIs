{
 "cells": [
  {
   "cell_type": "markdown",
   "metadata": {},
   "source": [
    "This file loads results from a main model run, and produces the figures used in the paper. "
   ]
  },
  {
   "cell_type": "code",
   "execution_count": null,
   "metadata": {},
   "outputs": [],
   "source": [
    "%load_ext autoreload\n",
    "%autoreload 2"
   ]
  },
  {
   "cell_type": "code",
   "execution_count": null,
   "metadata": {},
   "outputs": [],
   "source": [
    "from epimodel import EpidemiologicalParameters, DefaultModel, preprocess_data\n",
    "from epimodel.pymc3_models.base_model import produce_CIs, add_cms_to_plot\n",
    "\n",
    "import numpy as np\n",
    "import pymc3 as pm\n",
    "import pickle\n",
    "\n",
    "from matplotlib.font_manager import FontProperties\n",
    "import matplotlib.pyplot as plt\n",
    "import seaborn as sns\n",
    "sns.set_style('ticks')\n",
    "\n",
    "from ipywidgets import *"
   ]
  },
  {
   "cell_type": "code",
   "execution_count": null,
   "metadata": {},
   "outputs": [],
   "source": [
    "data = preprocess_data('../merged_data/data_final_nov.csv', last_day='2020-05-30', smoothing=1)\n",
    "data.mask_reopenings(print_out=False)"
   ]
  },
  {
   "cell_type": "code",
   "execution_count": null,
   "metadata": {},
   "outputs": [],
   "source": [
    "data.CMs"
   ]
  },
  {
   "cell_type": "code",
   "execution_count": null,
   "metadata": {},
   "outputs": [],
   "source": [
    "current_palette = sns.color_palette('colorblind')\n",
    "sns.palplot(current_palette)"
   ]
  },
  {
   "cell_type": "code",
   "execution_count": null,
   "metadata": {},
   "outputs": [],
   "source": [
    "# cols = sns.cubehelix_palette(3, start=0, light=0.7, dark=0.3, rot=0.2)\n",
    "cols = sns.cubehelix_palette(3, start=0.2, light=0.6, dark=0.1, rot=0.2)\n",
    "sns.palplot(cols)"
   ]
  },
  {
   "cell_type": "code",
   "execution_count": null,
   "metadata": {},
   "outputs": [],
   "source": [
    "trace = pickle.load(open(\"traces/final_final_nov.pkl\", \"rb\"))"
   ]
  },
  {
   "cell_type": "markdown",
   "metadata": {},
   "source": [
    "# mitigation calculator csv"
   ]
  },
  {
   "cell_type": "code",
   "execution_count": null,
   "metadata": {},
   "outputs": [],
   "source": [
    "full_cm_red.shape"
   ]
  },
  {
   "cell_type": "code",
   "execution_count": null,
   "metadata": {},
   "outputs": [],
   "source": [
    "nS, _ = full_cm_red.shape"
   ]
  },
  {
   "cell_type": "code",
   "execution_count": null,
   "metadata": {},
   "outputs": [],
   "source": [
    "# csv file for mitigation calculator\n",
    "full_cm_red = np.exp(np.log(trace.CMReduction) + np.random.normal(size=(8000, 8)) * trace.CMAlphaScales)\n",
    "cm_red = np.zeros((nS, 7))\n",
    "\n",
    "cm_red[:, :] = full_cm_red[:, [0, 1, 2, 3, 4, 5, 7]]\n",
    "\n",
    "# combine schools and unis into one NPI\n",
    "cm_red[:, 5] = cm_red[:, 5] * full_cm_red[:, 6]\n",
    "\n",
    "np.savetxt('traces.txt', cm_red, delimiter=',', header='Gatherings<1000, Gatherings<100, Gatherings<10, Some Business, Most Business, School+Uni, StayHome' )"
   ]
  },
  {
   "cell_type": "code",
   "execution_count": null,
   "metadata": {},
   "outputs": [],
   "source": [
    "100*(1-np.median(cm_red, axis=0))"
   ]
  },
  {
   "cell_type": "code",
   "execution_count": null,
   "metadata": {},
   "outputs": [],
   "source": [
    "1-np.percentile(np.prod(full_cm_red, axis=-1), 50)"
   ]
  },
  {
   "cell_type": "code",
   "execution_count": null,
   "metadata": {},
   "outputs": [],
   "source": [
    "1-np.percentile(np.prod(full_cm_red, axis=-1), 2.5)"
   ]
  },
  {
   "cell_type": "code",
   "execution_count": null,
   "metadata": {},
   "outputs": [],
   "source": [
    "1-np.percentile(np.prod(full_cm_red, axis=-1), 97.5)"
   ]
  },
  {
   "cell_type": "code",
   "execution_count": null,
   "metadata": {},
   "outputs": [],
   "source": [
    "3.3*np.percentile(np.prod(full_cm_red, axis=-1), 2.5)"
   ]
  },
  {
   "cell_type": "markdown",
   "metadata": {},
   "source": [
    "# main results figure"
   ]
  },
  {
   "cell_type": "code",
   "execution_count": null,
   "metadata": {},
   "outputs": [],
   "source": [
    "trace = pickle.load(open(\"traces/final_final_nov.pkl\", \"rb\"))"
   ]
  },
  {
   "cell_type": "code",
   "execution_count": null,
   "metadata": {},
   "outputs": [],
   "source": [
    "country_noise = trace.CMAlphaScales * np.random.normal(size=(8000, 8))"
   ]
  },
  {
   "cell_type": "code",
   "execution_count": null,
   "metadata": {},
   "outputs": [],
   "source": [
    "from matplotlib.gridspec import GridSpec\n",
    "\n",
    "derived_features = [\n",
    " (\"Gatherings limited to\\n1000 people or less\", [0]),\n",
    " (\"Gatherings limited to\\n100 people or less\", [1, 0]),\n",
    " (\"Gatherings limited to\\n10 people or less\", [2, 1, 0]),\n",
    " (\"Some businesses\\nclosed\", [3]),\n",
    " (\"Most nonessential\\nbusinesses closed\", [4, 3]),\n",
    " (\"Schools and universities\\nclosed\", [5, 6]),\n",
    " (\"Additional effect of\\nstay at home order\\non top of above NPIs\", [7])\n",
    "]\n",
    "\n",
    "\n",
    "cm_plot_style = [\n",
    "            (\"\\uf0c0\", (0.922, 0.564, 0.612)), # ppl\n",
    "            (\"\\uf0c0\", (0.671, 0.290, 0.341)), # ppl\n",
    "            (\"\\uf0c0\", (0.211, 0.086, 0.011)), # ppl\n",
    "            (\"\\uf07a\", (0.316, 0.506, 0.420)), # shop 1\n",
    "            (\"\\uf07a\", (0.082, 0.196, 0.110)), # shop2\n",
    "            (\"\\uf549\", (0.098, 0.364, 0.58)), # school\n",
    "            (\"\\uf19d\", (0.0, 0.22, 0.4)), # university\n",
    "            (\"\\uf965\", (0.803, 0.376, 0)) # home\n",
    "]\n",
    "\n",
    "features = [x for x, _ in derived_features]\n",
    "\n",
    "country_noise = np.random.normal(size=(8000, 8)) * trace.CMAlphaScales\n",
    "\n",
    "res = np.exp(np.log(trace.CMReduction)-country_noise)\n",
    "nS, _ = res.shape\n",
    "nF = len(derived_features)\n",
    "\n",
    "derived_res = np.zeros((nS, nF))\n",
    "\n",
    "for f_i, (f, prodrows) in enumerate(derived_features):\n",
    "    samples = np.ones(nS)\n",
    "    for r in prodrows:\n",
    "        samples = samples * res[:, r] \n",
    "    derived_res[:, f_i] = samples\n",
    "\n",
    "derived_res = 100*(1-derived_res)\n",
    "\n",
    "def produce_ranges(trace):\n",
    "    means = np.mean(trace, axis=0)\n",
    "    med = np.median(trace, axis=0)\n",
    "    li = np.percentile(trace, 2.5, axis=0)\n",
    "    ui = np.percentile(trace, 97.5, axis=0)\n",
    "    lq = np.percentile(trace, 25, axis=0)\n",
    "    uq = np.percentile(trace, 75, axis=0)\n",
    "    return means, med, li, ui, lq, uq\n",
    "\n",
    "mn, med, li, ui, lq, uq = produce_ranges(derived_res)\n",
    "\n",
    "N_cms = mn.size\n",
    "\n",
    "fp2 = FontProperties(fname=r\"../../fonts/Font Awesome 5 Free-Solid-900.otf\")\n",
    "\n",
    "fig = plt.figure(figsize=(4.75, 3.5), dpi=300)\n",
    "ax1=plt.gca()\n",
    "\n",
    "# gs = GridSpec(3, 2, figure=fig)\n",
    "# ax1 = plt.subplot(gs.new_subplotspec((0, 0), colspan=2, rowspan=2))\n",
    "\n",
    "plt.plot([0, 0], [1, -(N_cms)], \"--\", color=cols[0], linewidth=0.5)\n",
    "y_vals = -1 * np.arange(N_cms)\n",
    "\n",
    "xrange = np.array([-100, 100])\n",
    "for height in range(0, nF, 2):\n",
    "    plt.fill_between(xrange, -(height-0.5), -(height+0.5), color=\"silver\", alpha=0.5, linewidth=0)\n",
    "plt.fill_between(xrange, -(nF-1.5), -(nF+1.5), color=\"silver\", alpha=0.5, linewidth=0)\n",
    "    \n",
    "plt.scatter(med+0.25, y_vals, marker=\"|\", color=\"black\", s=55, label='UK Disentangled')\n",
    "\n",
    "for cm in range(N_cms):\n",
    "    plt.plot([li[cm]+0.25, ui[cm]+0.25], [y_vals[cm], y_vals[cm]], \"black\", alpha=0.25, linewidth=3)\n",
    "    plt.plot([lq[cm]+0.25, uq[cm]+0.25], [y_vals[cm], y_vals[cm]], \"black\", alpha=0.75, linewidth=3)\n",
    "\n",
    "x_min = -25\n",
    "x_max = 75\n",
    "plt.xlim([x_min, x_max])\n",
    "xtick_vals = [-25, 0, 25, 50, 75, 100]\n",
    "xtick_str = [f\"{x:.0f}%\" for x in xtick_vals]\n",
    "plt.ylim([-(N_cms - 0.5), 0.5])\n",
    "\n",
    "x_r = np.abs(x_min - x_max)\n",
    "for cm in range(N_cms):\n",
    "    for i, val in enumerate(derived_features[cm][1]):\n",
    "        if val < len(cm_plot_style):\n",
    "            col = cm_plot_style[val][1]\n",
    "        else:\n",
    "            col = \"k\"\n",
    "        plt.text(x_min - 6.5 - 7.5*i, -cm, cm_plot_style[val][0], horizontalalignment='center', verticalalignment='center',\n",
    "                     fontproperties=fp2, fontsize=10, color=col)\n",
    "\n",
    "ax = plt.gca()\n",
    "plt.yticks(-np.arange(N_cms), [f\"{f[0]}\" for f in derived_features], fontsize=8, ha=\"left\")\n",
    "yax = ax.get_yaxis()\n",
    "yax.set_tick_params(pad=120)\n",
    "\n",
    "for i, (ticklabel, tickloc) in enumerate(zip(ax.get_yticklabels(), ax.get_yticks())):\n",
    "    if i < len(cm_plot_style):\n",
    "            col = cm_plot_style[i][1]\n",
    "    else:\n",
    "        col = \"k\"\n",
    "    ticklabel.set_color(col)\n",
    "\n",
    "plt.xticks(xtick_vals, xtick_str, fontsize=8)\n",
    "plt.xlabel(\"Average reduction in $R_t$,\\nin the context of our data\", fontsize=8)\n",
    "\n",
    "\n",
    "# country_noise = np.random.normal(size=(8000, 8)) * trace.CMAlphaScales\n",
    "\n",
    "# res = np.exp(np.log(trace_def.CMReduction))\n",
    "# nS, _ = res.shape\n",
    "# nF = len(derived_features)\n",
    "\n",
    "# derived_res = np.zeros((nS, nF))\n",
    "\n",
    "# for f_i, (f, prodrows) in enumerate(derived_features):\n",
    "#     samples = np.ones(nS)\n",
    "#     for r in prodrows:\n",
    "#         samples = samples * res[:, r] \n",
    "#     derived_res[:, f_i] = samples\n",
    "\n",
    "# derived_res = 100*(1-derived_res)\n",
    "# mn, med, li, ui, lq, uq = produce_ranges(derived_res)\n",
    "# plt.scatter(med, y_vals+0.25, marker=\"|\", color=\"tab:purple\", s=55, label='Default')\n",
    "\n",
    "# for cm in range(N_cms):\n",
    "#     plt.plot([li[cm], ui[cm]], [y_vals[cm]+0.25, y_vals[cm]+0.25], \"tab:purple\", alpha=0.25, linewidth=3)\n",
    "#     plt.plot([lq[cm], uq[cm]], [y_vals[cm]+0.25, y_vals[cm]+0.25], \"tab:purple\", alpha=0.75, linewidth=3)\n",
    "\n",
    "# plt.text(0, -0.1, \"Doubles\\nTransmission\", fontsize=6, ha='center', va='center',  transform=ax.transAxes, style='italic')\n",
    "# plt.text(1, -0.1, \"Ends\\nTransmission\", fontsize=6, ha='center',  va='center', transform=ax.transAxes, style='italic')\n",
    "sns.despine()\n",
    "\n",
    "# ax1 = plt.subplot(gs.new_subplotspec((2, 0), colspan=1, rowspan=1))\n",
    "# data.conditional_activation_plot(cm_plot_style, newfig=False, skip_yticks=True,)\n",
    "\n",
    "# ax1 = plt.subplot(gs.new_subplotspec((2, 1), colspan=1, rowspan=1))\n",
    "# data.cumulative_days_plot(cm_plot_style, skip_yticks=True, newfig=False)\n",
    "\n",
    "# plt.tight_layout()\n",
    "# plt.legend()\n",
    "plt.savefig(\"figs/FigureEF.pdf\", bbox_inches=\"tight\")"
   ]
  },
  {
   "cell_type": "markdown",
   "metadata": {},
   "source": [
    "# Pareto Graphs"
   ]
  },
  {
   "cell_type": "code",
   "execution_count": null,
   "metadata": {},
   "outputs": [],
   "source": [
    "schools_index = data.CMs.index(\"School Closure\")\n",
    "uni_index = data.CMs.index(\"University Closure\")\n",
    "\n",
    "pkg_mask = np.ones(len(data.CMs))\n",
    "pkg_mask[uni_index] = 0"
   ]
  },
  {
   "cell_type": "code",
   "execution_count": null,
   "metadata": {},
   "outputs": [],
   "source": [
    "total_cms = data.ActiveCMs\n",
    "diff_cms = np.zeros_like(total_cms)\n",
    "diff_cms[:, :, 1:] = total_cms[:, :, 1:] - total_cms[:, :, :-1]\n",
    "rs, ds = np.nonzero(np.any(diff_cms < 0, axis=1))\n",
    "nnz = rs.size\n",
    "\n",
    "data_mask = False * np.ones((len(data.Rs), len(data.Ds)), dtype=np.bool)\n",
    "\n",
    "for nz_i in range(nnz):\n",
    "    data_mask[rs[nz_i], ds[nz_i]:] = True"
   ]
  },
  {
   "cell_type": "code",
   "execution_count": null,
   "metadata": {},
   "outputs": [],
   "source": [
    "data.ActiveCMs = data.ActiveCMs * np.repeat(np.logical_not(data_mask).reshape((41, 1, 130)), 8, axis=1)"
   ]
  },
  {
   "cell_type": "code",
   "execution_count": null,
   "metadata": {},
   "outputs": [],
   "source": [
    "stk = np.hstack([data.ActiveCMs[r, :, :] for r in range(len(data.Rs))])\n",
    "unique_columns, counts = np.unique(stk, return_counts = True, axis=1)\n",
    "nCMs, nPkgs = unique_columns.shape\n",
    "n_active = np.zeros(nPkgs)\n",
    "for p in range(nPkgs):\n",
    "    n_active[p] = np.sum(unique_columns[:, p]*pkg_mask)\n",
    "    if unique_columns[schools_index, p] == 1 and unique_columns[uni_index, p] == 0:\n",
    "        counts[p] = 0\n",
    "    \n",
    "    if unique_columns[schools_index, p] == 0 and unique_columns[uni_index, p] == 1:\n",
    "        counts[p] = 0"
   ]
  },
  {
   "cell_type": "code",
   "execution_count": null,
   "metadata": {},
   "outputs": [],
   "source": [
    "counts"
   ]
  },
  {
   "cell_type": "code",
   "execution_count": null,
   "metadata": {},
   "outputs": [],
   "source": [
    "display_together = [1, 2, None, 4, None, None, None,None]"
   ]
  },
  {
   "cell_type": "code",
   "execution_count": null,
   "metadata": {},
   "outputs": [],
   "source": [
    "for d, dt in zip(data.CMs, display_together):\n",
    "    print(d)\n",
    "    if dt is not None:\n",
    "        print(f\"  with {data.CMs[dt]}\")"
   ]
  },
  {
   "cell_type": "code",
   "execution_count": null,
   "metadata": {},
   "outputs": [],
   "source": [
    "def traverse(cm_i, pkg):\n",
    "    dt = display_together[cm_i]\n",
    "    \n",
    "    if dt == None:\n",
    "        return 0\n",
    "    elif pkg[dt] == 0: \n",
    "        return 0\n",
    "    elif pkg[dt] == 1:\n",
    "        return 1 + traverse(dt, pkg)\n",
    "    \n",
    "    \n",
    "def effective_active(pkg):\n",
    "    n_active = 0\n",
    "    for cm_i, cm in enumerate(pkg):\n",
    "        if cm == 1:\n",
    "            if traverse(cm_i, pkg) == 0:\n",
    "                n_active += 1\n",
    "    return n_active"
   ]
  },
  {
   "cell_type": "code",
   "execution_count": null,
   "metadata": {},
   "outputs": [],
   "source": [
    "import scipy.stats as ss"
   ]
  },
  {
   "cell_type": "code",
   "execution_count": null,
   "metadata": {},
   "outputs": [],
   "source": [
    "country_noise = np.random.normal(size=(8000, 8)) * trace.CMAlphaScales\n",
    "res = np.exp(np.log(trace.CMReduction) - country_noise)\n",
    "R_0 = 3.28 "
   ]
  },
  {
   "cell_type": "markdown",
   "metadata": {},
   "source": [
    "# most common packages"
   ]
  },
  {
   "cell_type": "code",
   "execution_count": null,
   "metadata": {},
   "outputs": [],
   "source": [
    "order = np.argsort(n_active)[::-1]"
   ]
  },
  {
   "cell_type": "code",
   "execution_count": null,
   "metadata": {},
   "outputs": [],
   "source": [
    "order = np.argsort(counts)[::-1]\n",
    "\n",
    "for oi in order:\n",
    "    pkg = unique_columns[:, oi]\n",
    "    nd = counts[oi]\n",
    "    na = n_active[oi]\n",
    "    \n",
    "    if nd > 0 and na > 0:\n",
    "        cm_str = [f\"{data.CMs[i]} \" if pkg[i] == 1 else \"\" for i in range(8)]\n",
    "        print(f'{cm_str} N_d {nd} na {na}')\n",
    "\n",
    "to_show_mask = counts>8\n",
    "to_show_mask[0] = False"
   ]
  },
  {
   "cell_type": "code",
   "execution_count": null,
   "metadata": {},
   "outputs": [],
   "source": [
    "np.sum(to_show_mask)"
   ]
  },
  {
   "cell_type": "code",
   "execution_count": null,
   "metadata": {},
   "outputs": [],
   "source": [
    "import seaborn as sns\n",
    "sns.set_style(\"ticks\")\n",
    "colors = sns.color_palette()\n",
    "\n",
    "fig = plt.figure(figsize=(5.25, 6), dpi=500)\n",
    "n_active_xlabels = []\n",
    "plt.subplot(211)\n",
    "x = 1\n",
    "for oi in range(nPkgs):\n",
    "    p = order[oi]\n",
    "    pkg = unique_columns[:, p]\n",
    "    count_p = counts[p]\n",
    "    n_active_p = int(np.sum(pkg*pkg_mask))\n",
    "    if to_show_mask[p]:\n",
    "        print(x)\n",
    "        if n_active_p > 0:\n",
    "            \n",
    "            if n_active_p == 1:\n",
    "                marker_size = 100*2\n",
    "                text_size = 8\n",
    "                r = 0.2\n",
    "                lw = 20\n",
    "                \n",
    "            elif n_active_p < 4:\n",
    "                marker_size = 150*2\n",
    "                text_size = 8\n",
    "                r = 0.22\n",
    "                lw = 20\n",
    "                \n",
    "            elif n_active_p < 7:\n",
    "                marker_size = 175*2\n",
    "                text_size = 7.5\n",
    "                r = 0.23\n",
    "                lw = 20\n",
    "                \n",
    "            else:\n",
    "                marker_size = 200*2\n",
    "                text_size = 7\n",
    "                r = 0.23\n",
    "                lw = 20\n",
    "            \n",
    "            vals = np.ones(nS)\n",
    "            for c_i in range(nCMs):\n",
    "                if pkg[c_i] != 0:\n",
    "                    vals = vals * res[:, c_i]\n",
    "            R_vals = 0.999/vals\n",
    "            \n",
    "            plt.scatter(x, np.median(R_vals), color=\"black\", facecolor=\"white\", s=marker_size, zorder=0, linewidth=0.5)\n",
    "            plt.plot([x, x], [np.percentile(R_vals, 2.5), np.percentile(R_vals, 97.5)], zorder=-1, color=\"lightgray\", linewidth=lw, solid_capstyle='butt')\n",
    "            plt.plot([x, x], [np.percentile(R_vals, 25), np.percentile(R_vals, 75)], zorder=-1, color=\"gray\", linewidth=lw, solid_capstyle='butt')\n",
    "            plt.plot([x-0.475, x+0.475], [np.percentile(R_vals, 50), np.percentile(R_vals, 50)], zorder=-3, color=\"black\", linewidth=2)\n",
    "            \n",
    "            if n_active_p > 1 or (pkg[schools_index]==1 and n_active_p == 1):\n",
    "                points = [(np.cos(2*np.pi/n_active_p*theta -np.pi/2)*r,np.sin((2*np.pi/n_active_p*theta) -np.pi/2)*r) for theta in range(0,n_active_p+1)]\n",
    "                for c_i, c in enumerate(np.nonzero(pkg)[0].tolist()): \n",
    "                    plt.text(x + points[c_i][0], np.median(R_vals) + points[c_i][1], cm_plot_style[c][0], zorder=2, color=cm_plot_style[c][1], fontproperties=fp2, ha=\"center\", va=\"center\", size=text_size)\n",
    "            else:\n",
    "                nz = np.nonzero(pkg)[0].tolist()[0]\n",
    "                plt.text(x , np.median(R_vals), cm_plot_style[nz][0], zorder=2, color=cm_plot_style[nz][1], fontproperties=fp2, ha=\"center\", va=\"center\", size=text_size)\n",
    "            \n",
    "            x += 1\n",
    "            n_active_xlabels.append(n_active_p)\n",
    "\n",
    "plt.xlabel(\"Number NPIs Active\", fontsize=8)\n",
    "plt.ylabel(\"Maximum $R_0$\\nthat can be brought below 1\", fontsize=8)\n",
    "plt.xticks(np.arange(1, len(n_active_xlabels)+1), n_active_xlabels, fontsize=8)\n",
    "plt.yticks(fontsize=10)\n",
    "plt.ylim([0, 7])\n",
    "plt.xlim([0.5, 15.75])\n",
    "\n",
    "plt.subplot(212)\n",
    "x = 1\n",
    "order = np.argsort(n_active)\n",
    "\n",
    "n_active_xlabels = []\n",
    "\n",
    "for oi in range(nPkgs):\n",
    "    p = order[oi]\n",
    "    pkg = unique_columns[:, p]\n",
    "    count_p = counts[p]\n",
    "    n_active_p = int(np.sum(pkg*pkg_mask))\n",
    "    if to_show_mask[p]:\n",
    "        if n_active_p > 0:\n",
    "            if n_active_p == 1:\n",
    "                marker_size = 65*2\n",
    "                text_size = 8\n",
    "                r = 0.12\n",
    "                lw = 15\n",
    "                e = 0.42\n",
    "            elif n_active_p < 4:\n",
    "                marker_size = 125*2\n",
    "                text_size = 8\n",
    "                r = 0.14\n",
    "                lw = 25\n",
    "                e = 0.45\n",
    "            elif n_active_p < 7:\n",
    "                marker_size = 125*2\n",
    "                text_size = 7.5\n",
    "                r = 0.17\n",
    "                lw = 30\n",
    "                e = 0.4625\n",
    "            else:\n",
    "                marker_size = 150*2\n",
    "                text_size = 7\n",
    "                r = 0.13\n",
    "                lw = 30\n",
    "                e = 0.475\n",
    "            \n",
    "            vals = np.ones(8000)\n",
    "            for c_i in range(nCMs):\n",
    "                if pkg[c_i] != 0:\n",
    "                    vals = vals * res[:, c_i]\n",
    "            R_vals = R_0 * vals\n",
    "            \n",
    "            plt.scatter(x, np.median(R_vals), color=\"black\", facecolor='white', s=marker_size, zorder=1, linewidth=1.05)\n",
    "            plt.plot([x, x], [np.percentile(R_vals, 2.5), np.percentile(R_vals, 97.5)], zorder=-1, color=\"black\",  alpha=0.05, linewidth=lw, solid_capstyle='butt')\n",
    "            plt.plot([x, x], [np.percentile(R_vals, 25), np.percentile(R_vals, 75)], zorder=-1, color=\"black\", alpha=0.5, linewidth=lw, solid_capstyle='butt') \n",
    "            plt.plot([x-e, x+e], [np.percentile(R_vals, 50), np.percentile(R_vals, 50)], zorder=0, color=\"black\", linewidth=1)\n",
    "            \n",
    "            if n_active_p > 1 or (pkg[schools_index]==1 and n_active_p == 1):\n",
    "                points = [(np.cos(2*np.pi/n_active_p*theta -np.pi/2)*r,np.sin((2*np.pi/n_active_p*theta) -np.pi/2)*r*0.6) for theta in range(0,n_active_p+1)]\n",
    "                for c_i, c in enumerate(np.nonzero(pkg)[0].tolist()): \n",
    "                    plt.text(x + points[c_i][0], np.median(R_vals) + points[c_i][1], cm_plot_style[c][0], zorder=2, color=cm_plot_style[c][1], fontproperties=fp2, ha=\"center\", va=\"center\", size=text_size)\n",
    "            else:\n",
    "                nz = np.nonzero(pkg)[0].tolist()[0]\n",
    "                plt.text(x, np.median(R_vals), cm_plot_style[nz][0], zorder=2, color=cm_plot_style[nz][1], fontproperties=fp2, ha=\"center\", va=\"center\", size=text_size)\n",
    "            \n",
    "            x += 1\n",
    "            n_active_xlabels.append(n_active_p)\n",
    "\n",
    "plt.ylim([0, 4])\n",
    "plt.xlim([0.5, 15.75])\n",
    "plt.plot([-1, 17], [1, 1], \"--\", linewidth=1, color=cols[0], zorder=-5)\n",
    "\n",
    "\n",
    "plt.xlabel(\"Number NPIs Active\", fontsize=8)\n",
    "plt.ylabel(\"Resulting $R$ if $R_0=3.3$\", fontsize=8)\n",
    "plt.xticks(np.arange(1, len(n_active_xlabels)+1), n_active_xlabels, fontsize=8)\n",
    "plt.yticks(fontsize=8)\n",
    "sns.despine()\n",
    "plt.tight_layout()\n",
    "\n",
    "plt.savefig(f\"figs/main/FigurePR.pdf\", bbox_inches='tight')"
   ]
  },
  {
   "cell_type": "code",
   "execution_count": null,
   "metadata": {},
   "outputs": [],
   "source": [
    "np.percentile(R_vals, 2.5)"
   ]
  },
  {
   "cell_type": "code",
   "execution_count": null,
   "metadata": {},
   "outputs": [],
   "source": [
    "f;"
   ]
  },
  {
   "cell_type": "markdown",
   "metadata": {},
   "source": [
    "# Numerical Values"
   ]
  },
  {
   "cell_type": "code",
   "execution_count": null,
   "metadata": {},
   "outputs": [],
   "source": [
    "full_cm_red = np.log(np.repeat(trace.CMReduction, 2000, axis=0)) + (np.random.normal(size=(8000*2000, 8)) * np.repeat(trace.CMAlphaScales, 2000, axis=0))"
   ]
  },
  {
   "cell_type": "code",
   "execution_count": null,
   "metadata": {},
   "outputs": [],
   "source": [
    "full_cm_red = np.exp(full_cm_red)"
   ]
  },
  {
   "cell_type": "code",
   "execution_count": null,
   "metadata": {},
   "outputs": [],
   "source": [
    "nS, _ = res.shape\n",
    "nF = len(derived_features)\n",
    "\n",
    "derived_res = np.zeros((nS*2000, nF))\n",
    "\n",
    "for f_i, (f, prodrows) in enumerate(derived_features):\n",
    "    samples = np.ones(nS*2000)\n",
    "    for r in prodrows:\n",
    "        samples = samples * full_cm_red[:, r] \n",
    "    derived_res[:, f_i] = samples\n",
    "\n",
    "derived_res = 100*(1-derived_res)"
   ]
  },
  {
   "cell_type": "code",
   "execution_count": null,
   "metadata": {},
   "outputs": [],
   "source": [
    "derived_res = full_cm_red "
   ]
  },
  {
   "cell_type": "code",
   "execution_count": null,
   "metadata": {},
   "outputs": [],
   "source": [
    "for cm_i, cm in enumerate(derived_features):\n",
    "    print(f\"{cm[0]}\")\n",
    "    print(f\"  {np.percentile(derived_res[:, cm_i], 50):.3f} [{np.percentile(derived_res[:, cm_i], 2.5):.3f} ...  {np.percentile(derived_res[:, cm_i], 97.5):.3f}] std: {np.std(derived_res[:, cm_i]):.3f}% Credence Positive: {100 * np.mean(derived_res[:, cm_i] > 0):.3f}%\")"
   ]
  },
  {
   "cell_type": "code",
   "execution_count": null,
   "metadata": {},
   "outputs": [],
   "source": [
    "reduction = 1-np.prod(full_cm_red, axis=1)"
   ]
  },
  {
   "cell_type": "code",
   "execution_count": null,
   "metadata": {},
   "outputs": [],
   "source": [
    "100*np.median(reduction)"
   ]
  },
  {
   "cell_type": "code",
   "execution_count": null,
   "metadata": {},
   "outputs": [],
   "source": [
    "100*np.percentile(reduction, 2.5)"
   ]
  },
  {
   "cell_type": "code",
   "execution_count": null,
   "metadata": {},
   "outputs": [],
   "source": [
    "100*np.percentile(reduction, 97.5)"
   ]
  },
  {
   "cell_type": "markdown",
   "metadata": {},
   "source": [
    "# mitigation calculator csv "
   ]
  },
  {
   "cell_type": "code",
   "execution_count": null,
   "metadata": {},
   "outputs": [],
   "source": [
    "target_derived_res = derived_res"
   ]
  },
  {
   "cell_type": "code",
   "execution_count": null,
   "metadata": {},
   "outputs": [],
   "source": [
    "target_median = np.median(derived_res, axis=0)"
   ]
  },
  {
   "cell_type": "code",
   "execution_count": null,
   "metadata": {},
   "outputs": [],
   "source": [
    "target_lower = np.percentile(derived_res, 2.5, axis=0)\n",
    "target_upper = np.percentile(derived_res, 97.5, axis=0)"
   ]
  },
  {
   "cell_type": "code",
   "execution_count": null,
   "metadata": {},
   "outputs": [],
   "source": [
    "from tqdm import tqdm"
   ]
  },
  {
   "cell_type": "code",
   "execution_count": null,
   "metadata": {},
   "outputs": [],
   "source": [
    "best_cm_red = None\n",
    "best_dist = 9999"
   ]
  },
  {
   "cell_type": "code",
   "execution_count": null,
   "metadata": {},
   "outputs": [],
   "source": [
    "for i in tqdm(range(100)):\n",
    "    cm_red = trace.CMReduction, 2000, axis=0) + (np.random.normal(size=(8000*2000, 8)) * np.repeat(trace.CMAlphaScales, 2000, axis=0))"
   ]
  },
  {
   "cell_type": "code",
   "execution_count": null,
   "metadata": {},
   "outputs": [],
   "source": [
    "full_cm_red = np.repeat(trace.CMReduction, 2000, axis=0) + (np.random.normal(size=(8000*2000, 8)) * np.repeat(trace.CMAlphaScales, 2000, axis=0))"
   ]
  },
  {
   "cell_type": "markdown",
   "metadata": {},
   "source": [
    "# Region Rs"
   ]
  },
  {
   "cell_type": "code",
   "execution_count": null,
   "metadata": {},
   "outputs": [],
   "source": [
    "for r_i, r in enumerate(data.Rs):\n",
    "    print(f\"{r}: R_0 = {np.mean(trace.RegionR[:, r_i]):.2f} [{np.percentile(trace.RegionR[:, r_i], 2.5):.2f} ... {np.percentile(trace.RegionR[:, r_i], 97.5):.2f}]\")"
   ]
  },
  {
   "cell_type": "markdown",
   "metadata": {},
   "source": [
    "# Correlation Plot"
   ]
  },
  {
   "cell_type": "code",
   "execution_count": null,
   "metadata": {},
   "outputs": [],
   "source": [
    "np.product(np.median(trace.CMReduction, axis=0))"
   ]
  },
  {
   "cell_type": "code",
   "execution_count": null,
   "metadata": {},
   "outputs": [],
   "source": [
    "correlation = np.corrcoef(trace.CMReduction, rowvar=False)"
   ]
  },
  {
   "cell_type": "code",
   "execution_count": null,
   "metadata": {},
   "outputs": [],
   "source": [
    "res = trace.CMReduction[:, [0, 1, 2, 3, 4, 5, 7]]\n",
    "res[:, 6] = trace.CMReduction[:, 6] * trace.CMReduction[:, 5]\n",
    "\n",
    "cms = [\"Gatherings <1000\", \"Gatherings <100\", \"Gatherings <10\", \"Some businesses closed\", \"Most businesses closed\", \"Schools and universities closed\", \"Stay-at-home order\"]"
   ]
  },
  {
   "cell_type": "code",
   "execution_count": null,
   "metadata": {},
   "outputs": [],
   "source": [
    "fig = plt.figure(figsize=(4, 3), dpi=300)\n",
    "correlation = np.corrcoef(res, rowvar=False)\n",
    "plt.imshow(correlation, cmap=\"PuOr\", vmin=-1, vmax=1)\n",
    "cbr = plt.colorbar()\n",
    "cbr.ax.tick_params(labelsize=6)\n",
    "plt.yticks(np.arange(N_cms), cms, fontsize=6)\n",
    "plt.xticks(np.arange(N_cms), cms, fontsize=6, rotation=-30, ha=\"left\")\n",
    "plt.title(\"Posterior Correlation\", fontsize=10);\n",
    "\n",
    "plt.savefig(f\"figs/main/FigureCorr.pdf\", bbox_inches='tight')"
   ]
  },
  {
   "cell_type": "code",
   "execution_count": null,
   "metadata": {},
   "outputs": [],
   "source": [
    "correlation"
   ]
  },
  {
   "cell_type": "code",
   "execution_count": null,
   "metadata": {},
   "outputs": [],
   "source": [
    "az.plot_pair(trace, var_names=['GrowthNoiseScale', 'CMAlphaScales'])"
   ]
  },
  {
   "cell_type": "code",
   "execution_count": null,
   "metadata": {},
   "outputs": [],
   "source": [
    "correlation"
   ]
  },
  {
   "cell_type": "code",
   "execution_count": null,
   "metadata": {},
   "outputs": [],
   "source": [
    "np.min(correlation)"
   ]
  },
  {
   "cell_type": "code",
   "execution_count": null,
   "metadata": {},
   "outputs": [],
   "source": [
    "import arviz as az"
   ]
  },
  {
   "cell_type": "code",
   "execution_count": null,
   "metadata": {},
   "outputs": [],
   "source": [
    "ep = EpidemiologicalParameters()"
   ]
  },
  {
   "cell_type": "code",
   "execution_count": null,
   "metadata": {},
   "outputs": [],
   "source": [
    "ep.get_model_build_dict()"
   ]
  },
  {
   "cell_type": "code",
   "execution_count": null,
   "metadata": {},
   "outputs": [],
   "source": [
    "import scipy.stats as stats"
   ]
  },
  {
   "cell_type": "code",
   "execution_count": null,
   "metadata": {},
   "outputs": [],
   "source": [
    "varnames = [\"GI_mean\", \"DeathsDelayMean\", \"CasesDelayMean\", \"GI_sd\",  \"DeathsDelayDisp\", \"CasesDelayDisp\"]\n",
    "titles = ['Generation Interval Mean',  'Infection to Death Delay Mean', 'Infection to Case-Confirmation Delay Mean', 'Generation Interval std.', \n",
    "          'Infection to Death Delay disp.', 'Infection to Case-Confirmation Delay disp.']\n",
    "\n",
    "prior_means = [5.06, 21.81, 10.92, 2.11, 14.3, 5.4]\n",
    "prior_stds = [0.3265, 1.00, 0.94, 0.5, 5.18, 0.269]\n",
    "plt.figure(figsize=(7, 3), dpi=300)\n",
    "for v_i, v in enumerate(varnames):\n",
    "    plt.subplot(2, 3, v_i + 1)\n",
    "    az.plot_kde(trace[v], plot_kwargs={'color':cols[0]}, label='posterior', ax=plt.gca())\n",
    "    plt.title(titles[v_i], fontsize=8)\n",
    "    \n",
    "    l, u = plt.xlim()\n",
    "    x = np.linspace(l, u, 500)\n",
    "    d = stats.norm(loc=prior_means[v_i], scale=prior_stds[v_i])\n",
    "    p = d.pdf(x)\n",
    "    plt.plot(x, p, label='prior', color=cols[2])\n",
    "    \n",
    "    plt.xticks(fontsize=6)\n",
    "    plt.yticks(fontsize=6)\n",
    "    if v_i == 0 or v_i == 3:\n",
    "        plt.ylabel('density', fontsize=7)\n",
    "    \n",
    "    if v_i > 2:\n",
    "        plt.xlabel('value', fontsize=7)\n",
    "                \n",
    "    if v_i == 0:\n",
    "        plt.legend(fontsize=6, fancybox=True, shadow=True)\n",
    "    else:\n",
    "        plt.gca().get_legend().remove()\n",
    "\n",
    "plt.tight_layout()\n",
    "plt.savefig(f\"figs/main/FigureEpiParamPosts.pdf\", bbox_inches='tight')"
   ]
  },
  {
   "cell_type": "markdown",
   "metadata": {},
   "source": [
    "# NPI Combinations"
   ]
  },
  {
   "cell_type": "code",
   "execution_count": null,
   "metadata": {},
   "outputs": [],
   "source": [
    "sc_comb_trace = np.zeros((8000, 8))\n",
    "eff_cm_red = np.exp(np.log(trace.CMReduction) + + np.random.normal(size=(8000, 8)) * trace.CMAlphaScales)\n",
    "sc_comb_trace[:, :7] = eff_cm_red[:, :7]\n",
    "sc_comb_trace[:, 5] = eff_cm_red[:, 5] * eff_cm_red[:, 6]\n",
    "sc_comb_trace[:, 6] = eff_cm_red[:, 6]"
   ]
  },
  {
   "cell_type": "code",
   "execution_count": null,
   "metadata": {},
   "outputs": [],
   "source": [
    "data.CMs"
   ]
  },
  {
   "cell_type": "code",
   "execution_count": null,
   "metadata": {},
   "outputs": [],
   "source": [
    "requirements = [\n",
    "    [],\n",
    "    [0],\n",
    "    [0, 1], \n",
    "    [],\n",
    "    [3],\n",
    "    [], \n",
    "    []\n",
    "]"
   ]
  },
  {
   "cell_type": "code",
   "execution_count": null,
   "metadata": {},
   "outputs": [],
   "source": [
    "import itertools\n",
    "lst = list(itertools.product([0, 1], repeat=8))"
   ]
  },
  {
   "cell_type": "code",
   "execution_count": null,
   "metadata": {},
   "outputs": [],
   "source": [
    "table = np.empty((0, 11))\n",
    "\n",
    "for l in lst:\n",
    "    cont = True\n",
    "    \n",
    "    for cm_i in range(7):\n",
    "        for cm_req in requirements[cm_i]:\n",
    "            if l[cm_req] == 0 and l[cm_i] == 1:\n",
    "                cont = False\n",
    "    \n",
    "    if cont:\n",
    "        comb_reduction = 100*(1-np.product(sc_comb_trace[:, np.array(l) == 1], axis=1))\n",
    "        row = np.array([*l, np.percentile(comb_reduction, 50),  np.percentile(comb_reduction, 2.5),  np.percentile(comb_reduction, 97.5)]).reshape((1, 11))\n",
    "        table = np.append(table, row, axis=0)"
   ]
  },
  {
   "cell_type": "code",
   "execution_count": null,
   "metadata": {},
   "outputs": [],
   "source": [
    "header_str = ''\n",
    "\n",
    "n = '\\n'\n",
    "for l, _ in derived_features:\n",
    "    header_str = f'{header_str}{l.replace(n, \" \")},'\n",
    "\n",
    "header_str += 'median percentage reduction in R_t, lower 95% credible interval, upper 95% credible interval, '"
   ]
  },
  {
   "cell_type": "code",
   "execution_count": null,
   "metadata": {},
   "outputs": [],
   "source": [
    "np.savetxt('NPI_combination_effects.csv', table, delimiter=',', header=header_str, fmt='%f')"
   ]
  },
  {
   "cell_type": "markdown",
   "metadata": {},
   "source": [
    "# diagonostic plots"
   ]
  },
  {
   "cell_type": "code",
   "execution_count": null,
   "metadata": {},
   "outputs": [],
   "source": [
    "import arviz as az"
   ]
  },
  {
   "cell_type": "code",
   "execution_count": null,
   "metadata": {},
   "outputs": [],
   "source": [
    "ess = az.ess(trace)"
   ]
  },
  {
   "cell_type": "code",
   "execution_count": null,
   "metadata": {},
   "outputs": [],
   "source": [
    "rhat = az.rhat(trace)"
   ]
  },
  {
   "cell_type": "code",
   "execution_count": null,
   "metadata": {},
   "outputs": [],
   "source": [
    "trace.varnames"
   ]
  },
  {
   "cell_type": "code",
   "execution_count": null,
   "metadata": {},
   "outputs": [],
   "source": [
    "def collate(stat):\n",
    "    stat_all = []\n",
    "    stat_nums = []\n",
    "    for var in [\"CMReduction\", \"GI_mean\", \"GI_sd\", \"GrowthCasesNoise\", \"GrowthDeathsNoise\", \"CasesDelayMean\", \"CasesDelayDisp\",\n",
    "                \"InitialSizeDeaths_log\", \"InitialSizeCases_log\", \"DeathsDelayMean\", \"DeathsDelayDisp\", \"HyperRVar\", \"PsiCases\",\n",
    "                \"PsiDeaths\", \"InfectedDeaths\", \"InfectedCases\", \"ExpectedDeaths\", \"ExpectedCases\", \"AllCMAlphaNoise\", \"CMAlphaScales\", \"GrowthNoiseScale\", \"CMAlphaScales\"]:\n",
    "        if stat[str(var)].size>1:\n",
    "            stat_all.append(stat[str(var)].to_dataframe().to_numpy().flatten())\n",
    "        else:\n",
    "            stat_nums.append(float(stat[str(var)]))\n",
    "    stat_all = np.concatenate(np.array(stat_all))\n",
    "    stat_all = np.concatenate([stat_all, stat_nums])\n",
    "#     stat_all[stat_all > 100] = 1\n",
    "    return stat_all"
   ]
  },
  {
   "cell_type": "code",
   "execution_count": null,
   "metadata": {},
   "outputs": [],
   "source": [
    "plt.figure(figsize=(7, 3), dpi=300)\n",
    "plt.subplot(121)\n",
    "plt.hist(collate(rhat), bins=40, color=cols[0])\n",
    "plt.title(\"$\\hat{R}$\", fontsize=12)\n",
    "\n",
    "plt.subplot(122)\n",
    "plt.hist(collate(ess)/8000, bins=40, color=cols[0])\n",
    "plt.xlim([0, 2])\n",
    "plt.title(\"Relative ESS\", fontsize=12)\n",
    "plt.savefig(f\"figs/main/FigureMCMCStats.pdf\", bbox_inches='tight')"
   ]
  },
  {
   "cell_type": "markdown",
   "metadata": {},
   "source": [
    "# Model Fit Graphs"
   ]
  },
  {
   "cell_type": "code",
   "execution_count": null,
   "metadata": {},
   "outputs": [],
   "source": [
    "def epicurve_plot(region, start_d_i=30):\n",
    "    r_i = data.Rs.index(region)\n",
    "    \n",
    "    if len(np.nonzero(data.NewCases.mask[r_i, :])[0]) > 0:\n",
    "        end_d_i = np.nonzero(data.NewCases.mask[r_i, :])[0][0]+3\n",
    "    else:\n",
    "        end_d_i = len(data.Ds)\n",
    "\n",
    "    ec = trace.ExpectedDeaths[:, r_i]\n",
    "    nS, nDs = ec.shape\n",
    "\n",
    "    try:\n",
    "        dist = pm.NegativeBinomial.dist(mu=ec, alpha=np.repeat(trace.PsiDeaths.reshape((nS, 1)), nDs, axis=-1))\n",
    "        ec_output = dist.random()\n",
    "    except ValueError:\n",
    "        ec_output = 0 * ec\n",
    "        means_d = means_d * 0\n",
    "        lu_id = lu_id * 0\n",
    "        up_id = up_id * 0\n",
    "\n",
    "    means_expected_deaths, lu_ed, up_ed, _, _ = produce_CIs(\n",
    "        ec_output\n",
    "    )\n",
    "\n",
    "    eco = trace.ExpectedCases[:, r_i]\n",
    "    nS, nDs = eco.shape\n",
    "\n",
    "    try:\n",
    "        dist = pm.NegativeBinomial.dist(mu=eco, alpha=np.repeat(trace.PsiCases.reshape((nS, 1)), nDs, axis=-1))\n",
    "        eco_output = dist.random()\n",
    "    except ValueError:\n",
    "        eco_output = 10**-10 * ec\n",
    "\n",
    "    means_expected_cases, lu_ec, up_ec, _, _ = produce_CIs(\n",
    "        eco_output\n",
    "    )\n",
    "\n",
    "    days = data.Ds\n",
    "    days_x = np.arange(len(days))\n",
    "    deaths = data.NewDeaths[r_i, :]\n",
    "    cases = data.NewCases[r_i, :]\n",
    "\n",
    "    ax = plt.gca()\n",
    "    \n",
    "    plt.plot(\n",
    "        days_x,\n",
    "        means_expected_deaths,\n",
    "        label=\"Predicted Daily Deaths\",\n",
    "        zorder=2,\n",
    "        color=\"tab:red\"\n",
    "    )\n",
    "\n",
    "    plt.fill_between(\n",
    "        days_x, lu_ed, up_ed, alpha=0.25, color=\"tab:red\", linewidth=0\n",
    "    )\n",
    "\n",
    "    plt.scatter(\n",
    "        days_x,\n",
    "        deaths,\n",
    "        label=\"Daily Deaths\",\n",
    "        marker=\"o\",\n",
    "        s=10,\n",
    "        color=\"tab:red\",\n",
    "        alpha=0.9,\n",
    "        zorder=3,\n",
    "    )\n",
    "    \n",
    "    plt.plot(\n",
    "        days_x,\n",
    "        means_expected_cases,\n",
    "        label=\"Predicted Daily Confirmed Cases\",\n",
    "        zorder=2,\n",
    "        color=\"tab:blue\"\n",
    "    )\n",
    "\n",
    "    plt.fill_between(\n",
    "        days_x, lu_ec, up_ec, alpha=0.25, color=\"tab:blue\", linewidth=0\n",
    "    )\n",
    "\n",
    "    plt.scatter(\n",
    "        days_x,\n",
    "        cases,\n",
    "        label=\"Daily Confirmed Cases\",\n",
    "        marker=\"o\",\n",
    "        s=10,\n",
    "        color=\"tab:blue\",\n",
    "        alpha=0.9,\n",
    "        zorder=3,\n",
    "    )\n",
    "\n",
    "    ax.set_yscale(\"log\")\n",
    "    plt.ylim([10 ** 0, 10 ** 6])\n",
    "    locs = np.arange(start_d_i, end_d_i, 14)\n",
    "    xlabels = [f\"{data.Ds[ts].day}-{month_to_str(data.Ds[ts].month)}\" for ts in locs]\n",
    "    plt.xticks(locs, xlabels, rotation=-30, ha=\"left\")\n",
    "    plt.xlim((start_d_i, end_d_i))\n",
    "    \n",
    "    ax=plt.gca()\n",
    "    add_cms_to_plot(ax, data.ActiveCMs, r_i, start_d_i, end_d_i, data.Ds, cm_plot_style)\n",
    "    plt.title(data.RNames[region][0], fontsize=12)\n",
    "    \n",
    "    return ax\n",
    "    \n",
    "def reprod_plot(r, start_d_i=30):\n",
    "    r_i = data.Rs.index(r)\n",
    "    \n",
    "    nS, nCMs = trace.CM_Alpha.shape\n",
    "    nDs = len(data.Ds)\n",
    "    \n",
    "    \n",
    "    ActiveCMRed = np.sum(data.ActiveCMs[r_i, :, : ].reshape((1, nCMs, nDs)) * trace.CM_Alpha.reshape((nS, nCMs, 1)), axis=1)    \n",
    "    RegionR = trace['RegionR'][:, r_i]\n",
    "\n",
    "    rs = np.exp(np.log(RegionR.reshape((nS, 1))) - ActiveCMRed)\n",
    "    \n",
    "    if len(np.nonzero(data.NewCases.mask[r_i, :])[0]) > 0:\n",
    "        end_d_i = np.nonzero(data.NewCases.mask[r_i, :])[0][0]+3\n",
    "    else:\n",
    "        end_d_i = len(data.Ds)\n",
    "    \n",
    "    days_x = np.arange(len(data.Ds))\n",
    "    \n",
    "    \n",
    "    mns, lu, up, _, _ = produce_CIs(\n",
    "        rs\n",
    "    )\n",
    "    \n",
    "    plt.plot(days_x, mns, color=cols[0])\n",
    "    plt.fill_between(\n",
    "        days_x, lu, up, alpha=0.25, color=cols[0], linewidth=0\n",
    "    )\n",
    "    \n",
    "    locs = np.arange(start_d_i, end_d_i, 14)\n",
    "    xlabels = [f\"{data.Ds[ts].day}-{month_to_str(data.Ds[ts].month)}\" for ts in locs]\n",
    "    plt.xticks(locs, xlabels, rotation=-30, ha=\"left\")\n",
    "    plt.xlim((start_d_i, end_d_i))\n",
    "    plt.ylim([0, 5])\n",
    "    plt.plot([start_d_i, end_d_i], [1, 1], color=cols[1])\n",
    "    plt.ylabel(\"$R_t$\", fontsize=10)\n",
    "    ax=plt.gca()\n",
    "    add_cms_to_plot(ax, data.ActiveCMs, r_i, start_d_i, end_d_i, data.Ds, cm_plot_style)\n",
    "    plt.title(data.RNames[r][0], fontsize=12)\n",
    "    \n",
    "def month_to_str(x):\n",
    "    if x == 1:\n",
    "        return \"JAN\"\n",
    "    if x == 2:\n",
    "        return \"FEB\"\n",
    "    if x == 3:\n",
    "        return \"MAR\"\n",
    "    if x == 4:\n",
    "        return \"APR\"\n",
    "    if x == 5:\n",
    "        return \"MAY\"\n",
    "    "
   ]
  },
  {
   "cell_type": "code",
   "execution_count": null,
   "metadata": {},
   "outputs": [],
   "source": [
    "import pymc3 as pm\n",
    "\n",
    "rs = [\"GB\", \"IT\"]\n",
    "plt.figure(figsize=(8, 8), dpi=300)\n",
    "\n",
    "plt.subplot(221)\n",
    "epicurve_plot(rs[0])\n",
    "\n",
    "plt.subplot(222)\n",
    "reprod_plot(rs[0])\n",
    "\n",
    "plt.subplot(223)\n",
    "ax = epicurve_plot(rs[1])\n",
    "\n",
    "plt.subplot(224)\n",
    "reprod_plot(rs[1])\n",
    "\n",
    "\n",
    "plt.tight_layout()\n",
    "\n",
    "\n",
    "ax.legend(shadow=True, fancybox=True, loc = \"upper center\", bbox_to_anchor = (1.15, -0.15), fontsize=8, ncol=2)\n",
    "\n",
    "plt.savefig(f\"figs/main/FigureFits.pdf\", bbox_inches='tight')"
   ]
  },
  {
   "cell_type": "markdown",
   "metadata": {},
   "source": [
    "# Growth Noise Scale "
   ]
  },
  {
   "cell_type": "code",
   "execution_count": null,
   "metadata": {},
   "outputs": [],
   "source": [
    "np.mean(trace.GrowthNoiseScale)"
   ]
  },
  {
   "cell_type": "code",
   "execution_count": null,
   "metadata": {},
   "outputs": [],
   "source": [
    "plt.figure(figsize=(4, 3), dpi=300)\n",
    "az.plot_kde(trace['GrowthNoiseScale'], plot_kwargs={'color':cols[0]}, label='posterior', ax=plt.gca())\n",
    "plt.title('Growth Noise Scale, $\\sigma_N$', fontsize=10)\n",
    "\n",
    "l, u = plt.xlim()\n",
    "x = np.linspace(l, u, 500)\n",
    "\n",
    "prior = pm.HalfStudentT.dist(nu=3, sigma=0.15).random(size=1000000)\n",
    "az.plot_kde(prior, plot_kwargs={'color':'k'}, label='prior', ax=plt.gca())\n",
    "plt.xticks(fontsize=6)\n",
    "plt.yticks(fontsize=6)\n",
    "plt.ylabel('density', fontsize=7)\n",
    "plt.xlabel('value', fontsize=7)\n",
    "plt.xlim([0, 0.5])\n",
    "\n",
    "\n",
    "plt.tight_layout()\n",
    "plt.savefig(f\"figs/main/FigureGrowthNoiseScale.pdf\", bbox_inches='tight')"
   ]
  },
  {
   "cell_type": "code",
   "execution_count": null,
   "metadata": {},
   "outputs": [],
   "source": [
    "az.plot_trace(trace, ['CMAlphaScales'])"
   ]
  },
  {
   "cell_type": "markdown",
   "metadata": {},
   "source": [
    "# Conditional Activation Plots"
   ]
  },
  {
   "cell_type": "code",
   "execution_count": null,
   "metadata": {},
   "outputs": [],
   "source": [
    "plt.figure(figsize=(5.25, 2), dpi=300)\n",
    "plt.subplot(121)\n",
    "data.conditional_activation_plot(cm_plot_style, False)\n",
    "\n",
    "plt.subplot(122)\n",
    "data.cumulative_days_plot(cm_plot_style, False, True)\n",
    "\n",
    "plt.tight_layout()\n",
    "plt.savefig('figs/main/FigureDataContext.pdf')"
   ]
  },
  {
   "cell_type": "markdown",
   "metadata": {},
   "source": [
    "# Conditioning Videos"
   ]
  },
  {
   "cell_type": "code",
   "execution_count": null,
   "metadata": {},
   "outputs": [],
   "source": [
    "import matplotlib.animation as animation\n",
    "from matplotlib import animation, rc\n",
    "from IPython.display import HTML\n",
    "\n",
    "import copy"
   ]
  },
  {
   "cell_type": "code",
   "execution_count": null,
   "metadata": {},
   "outputs": [],
   "source": [
    "def condition_on(results, cm_index, value):\n",
    "    copy_res = copy.deepcopy(results)\n",
    "    remaining_res = np.delete(copy_res, cm_index, axis=1)\n",
    "    \n",
    "    cms = np.arange(7)\n",
    "\n",
    "    cms_remaining = np.delete(cms, cm_index)\n",
    "    res_mat = np.zeros((nS, nCMs))\n",
    "    res_mat[:, -1] = copy_res[:, cm_index]\n",
    "    res_mat[:, :-1] = remaining_res \n",
    "    \n",
    "    mu = np.mean(100*(1-res_mat), axis=0)\n",
    "    cov = np.cov(100*(1-res_mat), rowvar=False)\n",
    "    \n",
    "    m_1 = mu[:nCMs-1]\n",
    "    m_2 = mu[-1]\n",
    "    s_11 = cov[:nCMs-1, :nCMs-1]\n",
    "    s_12 = cov[:nCMs-1, -1]\n",
    "    s_22 = cov[-1, -1]\n",
    "    \n",
    "    mu_bar = m_1 + s_12 * (s_22**-1) * (value - m_2)\n",
    "    sigma_bar = s_11 - (1/s_22) * s_12 @ s_12.T\n",
    "    \n",
    "    low = mu_bar - 1.96*np.diag(sigma_bar)**0.5\n",
    "    high = mu_bar + 1.96*np.diag(sigma_bar)**0.5\n",
    "    \n",
    "    return (mu_bar, low, high, cms_remaining.tolist())"
   ]
  },
  {
   "cell_type": "code",
   "execution_count": null,
   "metadata": {},
   "outputs": [],
   "source": [
    "np.mean(res, axis=0)"
   ]
  },
  {
   "cell_type": "code",
   "execution_count": null,
   "metadata": {},
   "outputs": [],
   "source": [
    "full_res = np.exp(np.log(trace.CMReduction) + np.random.normal(size=(8000, 8)) * trace.CMAlphaScales)\n",
    "\n",
    "res = full_res[:, [0, 1, 2, 3, 4, 5, 7]] \n",
    "res[:, 5] = res[:, 5] * full_res[:, 6] "
   ]
  },
  {
   "cell_type": "code",
   "execution_count": null,
   "metadata": {},
   "outputs": [],
   "source": [
    "CMs = ['Gatherings <1000',\n",
    " 'Gatherings <100',\n",
    " 'Gatherings <10',\n",
    " 'Some businesses closed',\n",
    " 'Most businesses closed',\n",
    " 'Schools and universities closed',\n",
    " 'Stay at home order']\n",
    "\n",
    "nCMs = len(CMs) "
   ]
  },
  {
   "cell_type": "code",
   "execution_count": null,
   "metadata": {},
   "outputs": [],
   "source": [
    "npi = 0\n",
    "\n",
    "fig = plt.figure(figsize=(5, 3), dpi=300)\n",
    "\n",
    "x_min = -25\n",
    "x_max = 75\n",
    "plt.plot([0, 0], [1, -(nCMs)], \"--k\", linewidth=0.5)\n",
    "xrange = np.array([x_min, x_max])\n",
    "for height in range(0, nCMs+2, 2):\n",
    "    plt.fill_between(xrange, -(height-0.5), -(height+0.5), color=\"silver\", alpha=0.5, linewidth=0)\n",
    "xtick_vals = [-50, -25, 0, 25, 50, 75, 100]\n",
    "xtick_str = [f\"{x:.0f}%\" for x in xtick_vals]\n",
    "plt.yticks([])\n",
    "\n",
    "x_r = np.abs(x_min - x_max)\n",
    "plt.xticks(xtick_vals, xtick_str, fontsize=8)\n",
    "plt.xlim([x_min, x_max])\n",
    "plt.ylim([-(nCMs - 0.25), 0.75])\n",
    "\n",
    "lines = []\n",
    "mu = np.mean(100*(1-res), axis=0)\n",
    "stds = np.diag(np.cov(100*(1-res), rowvar=False))**0.5\n",
    "\n",
    "for cm in range(nCMs): \n",
    "    line, = plt.gca().plot([mu[cm] - 1.96*stds[cm], mu[cm] + 1.96*stds[cm]], [-cm, -cm], color=\"black\", alpha=0.25)\n",
    "    line2, = plt.gca().plot([mu[cm] , mu[cm]], [-cm-0.1, -cm+0.1], color=\"black\")\n",
    "    lines.append((line, line2))\n",
    "\n",
    "plt.yticks(-np.arange(nCMs), CMs, fontsize=8)\n",
    "yticklabels = plt.gca().yaxis.get_ticklabels()\n",
    "yticklabels[npi].set_color(cols[0])\n",
    "plt.xlabel('Average reduction in $R$,\\n in the context of our data.', fontsize=8)\n",
    "plt.text(35, -0.05, \"Note: this video shows the\\nadditional effect, and not the\\ncumulative effect of each NPI.\", fontsize=5.5, va=\"center\", weight=\"bold\")   \n",
    "plt.title(f\"Approximate Posterior\\nConditioned on {CMs[npi]}\", fontsize=10)\n",
    "\n",
    "def animate(i, which_cm, n_frames):\n",
    "    val = mu[which_cm] + (1.96*stds[which_cm] * 2*float(i)/n_frames) - 1.96*stds[which_cm]\n",
    "    lines[which_cm][0].set_xdata([-200, -200])\n",
    "    lines[which_cm][1].set_xdata([val, val])\n",
    "    lines[which_cm][1].set_color(cols[0])\n",
    "    \n",
    "    mu_bar, low, high, cms_remaining = condition_on(res, which_cm, val)\n",
    "    for i, cm in enumerate(cms_remaining):\n",
    "        lines[cm][0].set_xdata([low[i], high[i]])\n",
    "        lines[cm][1].set_xdata([mu_bar[i], mu_bar[i]])\n",
    "    plt.tight_layout()\n",
    "    \n",
    "anim = animation.FuncAnimation(fig, animate, frames=100, interval=50, fargs=(npi, 100,))\n",
    "HTML(anim.to_jshtml())"
   ]
  },
  {
   "cell_type": "code",
   "execution_count": null,
   "metadata": {},
   "outputs": [],
   "source": [
    "npi = 1\n",
    "\n",
    "fig = plt.figure(figsize=(5, 3), dpi=300)\n",
    "\n",
    "x_min = -25\n",
    "x_max = 75\n",
    "plt.plot([0, 0], [1, -(nCMs)], \"--k\", linewidth=0.5)\n",
    "xrange = np.array([x_min, x_max])\n",
    "for height in range(0, nCMs+2, 2):\n",
    "    plt.fill_between(xrange, -(height-0.5), -(height+0.5), color=\"silver\", alpha=0.5, linewidth=0)\n",
    "xtick_vals = [-50, -25, 0, 25, 50, 75, 100]\n",
    "xtick_str = [f\"{x:.0f}%\" for x in xtick_vals]\n",
    "plt.yticks([])\n",
    "\n",
    "x_r = np.abs(x_min - x_max)\n",
    "plt.xticks(xtick_vals, xtick_str, fontsize=8)\n",
    "plt.xlim([x_min, x_max])\n",
    "plt.ylim([-(nCMs - 0.25), 0.75])\n",
    "\n",
    "lines = []\n",
    "mu = np.mean(100*(1-res), axis=0)\n",
    "stds = np.diag(np.cov(100*(1-res), rowvar=False))**0.5\n",
    "\n",
    "for cm in range(nCMs): \n",
    "    line, = plt.gca().plot([mu[cm] - 1.96*stds[cm], mu[cm] + 1.96*stds[cm]], [-cm, -cm], color=\"black\", alpha=0.25)\n",
    "    line2, = plt.gca().plot([mu[cm] , mu[cm]], [-cm-0.1, -cm+0.1], color=\"black\")\n",
    "    lines.append((line, line2))\n",
    "\n",
    "plt.yticks(-np.arange(nCMs), CMs, fontsize=8)\n",
    "yticklabels = plt.gca().yaxis.get_ticklabels()\n",
    "yticklabels[npi].set_color(cols[0])\n",
    "plt.xlabel('Average reduction in $R$,\\n in the context of our data.', fontsize=8)\n",
    "plt.text(35, -0.05, \"Note: this video shows the\\nadditional effect, and not the\\ncumulative effect of each NPI.\", fontsize=5.5, va=\"center\", weight=\"bold\")   \n",
    "plt.title(f\"Approximate Posterior\\nConditioned on {CMs[npi]}\", fontsize=10)\n",
    "\n",
    "def animate(i, which_cm, n_frames):\n",
    "    val = mu[which_cm] + (1.96*stds[which_cm] * 2*float(i)/n_frames) - 1.96*stds[which_cm]\n",
    "    lines[which_cm][0].set_xdata([-200, -200])\n",
    "    lines[which_cm][1].set_xdata([val, val])\n",
    "    lines[which_cm][1].set_color(cols[0])\n",
    "    \n",
    "    mu_bar, low, high, cms_remaining = condition_on(res, which_cm, val)\n",
    "    for i, cm in enumerate(cms_remaining):\n",
    "        lines[cm][0].set_xdata([low[i], high[i]])\n",
    "        lines[cm][1].set_xdata([mu_bar[i], mu_bar[i]])\n",
    "    plt.tight_layout()\n",
    "    \n",
    "anim = animation.FuncAnimation(fig, animate, frames=100, interval=50, fargs=(npi, 100, ));\n",
    "HTML(anim.to_jshtml())"
   ]
  },
  {
   "cell_type": "code",
   "execution_count": null,
   "metadata": {},
   "outputs": [],
   "source": [
    "npi = 2\n",
    "\n",
    "fig = plt.figure(figsize=(5, 3), dpi=300)\n",
    "\n",
    "x_min = -25\n",
    "x_max = 75\n",
    "plt.plot([0, 0], [1, -(nCMs)], \"--k\", linewidth=0.5)\n",
    "xrange = np.array([x_min, x_max])\n",
    "for height in range(0, nCMs+2, 2):\n",
    "    plt.fill_between(xrange, -(height-0.5), -(height+0.5), color=\"silver\", alpha=0.5, linewidth=0)\n",
    "xtick_vals = [-50, -25, 0, 25, 50, 75, 100]\n",
    "xtick_str = [f\"{x:.0f}%\" for x in xtick_vals]\n",
    "plt.yticks([])\n",
    "\n",
    "x_r = np.abs(x_min - x_max)\n",
    "plt.xticks(xtick_vals, xtick_str, fontsize=8)\n",
    "plt.xlim([x_min, x_max])\n",
    "plt.ylim([-(nCMs - 0.25), 0.75])\n",
    "\n",
    "lines = []\n",
    "mu = np.mean(100*(1-res), axis=0)\n",
    "stds = np.diag(np.cov(100*(1-res), rowvar=False))**0.5\n",
    "\n",
    "for cm in range(nCMs): \n",
    "    line, = plt.gca().plot([mu[cm] - 1.96*stds[cm], mu[cm] + 1.96*stds[cm]], [-cm, -cm], color=\"black\", alpha=0.25)\n",
    "    line2, = plt.gca().plot([mu[cm] , mu[cm]], [-cm-0.1, -cm+0.1], color=\"black\")\n",
    "    lines.append((line, line2))\n",
    "\n",
    "plt.yticks(-np.arange(nCMs), CMs, fontsize=8)\n",
    "yticklabels = plt.gca().yaxis.get_ticklabels()\n",
    "yticklabels[npi].set_color(cols[0])\n",
    "plt.xlabel('Average reduction in $R$,\\n in the context of our data.', fontsize=8)\n",
    "plt.text(35, -0.05, \"Note: this video shows the\\nadditional effect, and not the\\ncumulative effect of each NPI.\", fontsize=5.5, va=\"center\", weight=\"bold\")   \n",
    "plt.title(f\"Approximate Posterior\\nConditioned on {CMs[npi]}\", fontsize=10)\n",
    "\n",
    "def animate(i, which_cm, n_frames):\n",
    "    val = mu[which_cm] + (1.96*stds[which_cm] * 2*float(i)/n_frames) - 1.96*stds[which_cm]\n",
    "    lines[which_cm][0].set_xdata([-200, -200])\n",
    "    lines[which_cm][1].set_xdata([val, val])\n",
    "    lines[which_cm][1].set_color(cols[0])\n",
    "    \n",
    "    mu_bar, low, high, cms_remaining = condition_on(res, which_cm, val)\n",
    "    for i, cm in enumerate(cms_remaining):\n",
    "        lines[cm][0].set_xdata([low[i], high[i]])\n",
    "        lines[cm][1].set_xdata([mu_bar[i], mu_bar[i]])\n",
    "    plt.tight_layout()\n",
    "    \n",
    "anim = animation.FuncAnimation(fig, animate, frames=100, interval=50, fargs=(npi, 100, ));\n",
    "HTML(anim.to_jshtml())"
   ]
  },
  {
   "cell_type": "code",
   "execution_count": null,
   "metadata": {},
   "outputs": [],
   "source": [
    "npi = 3\n",
    "\n",
    "fig = plt.figure(figsize=(5, 3), dpi=300)\n",
    "\n",
    "x_min = -25\n",
    "x_max = 75\n",
    "plt.plot([0, 0], [1, -(nCMs)], \"--k\", linewidth=0.5)\n",
    "xrange = np.array([x_min, x_max])\n",
    "for height in range(0, nCMs+2, 2):\n",
    "    plt.fill_between(xrange, -(height-0.5), -(height+0.5), color=\"silver\", alpha=0.5, linewidth=0)\n",
    "xtick_vals = [-50, -25, 0, 25, 50, 75, 100]\n",
    "xtick_str = [f\"{x:.0f}%\" for x in xtick_vals]\n",
    "plt.yticks([])\n",
    "\n",
    "x_r = np.abs(x_min - x_max)\n",
    "plt.xticks(xtick_vals, xtick_str, fontsize=8)\n",
    "plt.xlim([x_min, x_max])\n",
    "plt.ylim([-(nCMs - 0.25), 0.75])\n",
    "\n",
    "lines = []\n",
    "mu = np.mean(100*(1-res), axis=0)\n",
    "stds = np.diag(np.cov(100*(1-res), rowvar=False))**0.5\n",
    "\n",
    "for cm in range(nCMs): \n",
    "    line, = plt.gca().plot([mu[cm] - 1.96*stds[cm], mu[cm] + 1.96*stds[cm]], [-cm, -cm], color=\"black\", alpha=0.25)\n",
    "    line2, = plt.gca().plot([mu[cm] , mu[cm]], [-cm-0.1, -cm+0.1], color=\"black\")\n",
    "    lines.append((line, line2))\n",
    "\n",
    "plt.yticks(-np.arange(nCMs), CMs, fontsize=8)\n",
    "yticklabels = plt.gca().yaxis.get_ticklabels()\n",
    "yticklabels[npi].set_color(cols[0])\n",
    "plt.xlabel('Average reduction in $R$,\\n in the context of our data.', fontsize=8)\n",
    "plt.text(35, -0.05, \"Note: this video shows the\\nadditional effect, and not the\\ncumulative effect of each NPI.\", fontsize=5.5, va=\"center\", weight=\"bold\")   \n",
    "plt.title(f\"Approximate Posterior\\nConditioned on {CMs[npi]}\", fontsize=10)\n",
    "\n",
    "def animate(i, which_cm, n_frames):\n",
    "    val = mu[which_cm] + (1.96*stds[which_cm] * 2*float(i)/n_frames) - 1.96*stds[which_cm]\n",
    "    lines[which_cm][0].set_xdata([-200, -200])\n",
    "    lines[which_cm][1].set_xdata([val, val])\n",
    "    lines[which_cm][1].set_color(cols[0])\n",
    "    \n",
    "    mu_bar, low, high, cms_remaining = condition_on(res, which_cm, val)\n",
    "    for i, cm in enumerate(cms_remaining):\n",
    "        lines[cm][0].set_xdata([low[i], high[i]])\n",
    "        lines[cm][1].set_xdata([mu_bar[i], mu_bar[i]])\n",
    "    plt.tight_layout()\n",
    "    \n",
    "anim = animation.FuncAnimation(fig, animate, frames=100, interval=50, fargs=(npi, 100, ));\n",
    "HTML(anim.to_jshtml())"
   ]
  },
  {
   "cell_type": "code",
   "execution_count": null,
   "metadata": {},
   "outputs": [],
   "source": [
    "npi = 4\n",
    "\n",
    "fig = plt.figure(figsize=(5, 3), dpi=300)\n",
    "\n",
    "x_min = -25\n",
    "x_max = 75\n",
    "plt.plot([0, 0], [1, -(nCMs)], \"--k\", linewidth=0.5)\n",
    "xrange = np.array([x_min, x_max])\n",
    "for height in range(0, nCMs+2, 2):\n",
    "    plt.fill_between(xrange, -(height-0.5), -(height+0.5), color=\"silver\", alpha=0.5, linewidth=0)\n",
    "xtick_vals = [-50, -25, 0, 25, 50, 75, 100]\n",
    "xtick_str = [f\"{x:.0f}%\" for x in xtick_vals]\n",
    "plt.yticks([])\n",
    "\n",
    "x_r = np.abs(x_min - x_max)\n",
    "plt.xticks(xtick_vals, xtick_str, fontsize=8)\n",
    "plt.xlim([x_min, x_max])\n",
    "plt.ylim([-(nCMs - 0.25), 0.75])\n",
    "\n",
    "lines = []\n",
    "mu = np.mean(100*(1-res), axis=0)\n",
    "stds = np.diag(np.cov(100*(1-res), rowvar=False))**0.5\n",
    "\n",
    "for cm in range(nCMs): \n",
    "    line, = plt.gca().plot([mu[cm] - 1.96*stds[cm], mu[cm] + 1.96*stds[cm]], [-cm, -cm], color=\"black\", alpha=0.25)\n",
    "    line2, = plt.gca().plot([mu[cm] , mu[cm]], [-cm-0.1, -cm+0.1], color=\"black\")\n",
    "    lines.append((line, line2))\n",
    "\n",
    "plt.yticks(-np.arange(nCMs), CMs, fontsize=8)\n",
    "yticklabels = plt.gca().yaxis.get_ticklabels()\n",
    "yticklabels[npi].set_color(cols[0])\n",
    "plt.xlabel('Average reduction in $R$,\\n in the context of our data.', fontsize=8)\n",
    "plt.text(35, -0.05, \"Note: this video shows the\\nadditional effect, and not the\\ncumulative effect of each NPI.\", fontsize=5.5, va=\"center\", weight=\"bold\")   \n",
    "plt.title(f\"Approximate Posterior\\nConditioned on {CMs[npi]}\", fontsize=10)\n",
    "\n",
    "def animate(i, which_cm, n_frames):\n",
    "    val = mu[which_cm] + (1.96*stds[which_cm] * 2*float(i)/n_frames) - 1.96*stds[which_cm]\n",
    "    lines[which_cm][0].set_xdata([-200, -200])\n",
    "    lines[which_cm][1].set_xdata([val, val])\n",
    "    lines[which_cm][1].set_color(cols[0])\n",
    "    \n",
    "    mu_bar, low, high, cms_remaining = condition_on(res, which_cm, val)\n",
    "    for i, cm in enumerate(cms_remaining):\n",
    "        lines[cm][0].set_xdata([low[i], high[i]])\n",
    "        lines[cm][1].set_xdata([mu_bar[i], mu_bar[i]])\n",
    "    plt.tight_layout()\n",
    "    \n",
    "anim = animation.FuncAnimation(fig, animate, frames=100, interval=50, fargs=(npi, 100, ));\n",
    "HTML(anim.to_jshtml())"
   ]
  },
  {
   "cell_type": "code",
   "execution_count": null,
   "metadata": {},
   "outputs": [],
   "source": [
    "npi = 5\n",
    "\n",
    "fig = plt.figure(figsize=(5, 3), dpi=300)\n",
    "\n",
    "x_min = -25\n",
    "x_max = 75\n",
    "plt.plot([0, 0], [1, -(nCMs)], \"--k\", linewidth=0.5)\n",
    "xrange = np.array([x_min, x_max])\n",
    "for height in range(0, nCMs+2, 2):\n",
    "    plt.fill_between(xrange, -(height-0.5), -(height+0.5), color=\"silver\", alpha=0.5, linewidth=0)\n",
    "xtick_vals = [-50, -25, 0, 25, 50, 75, 100]\n",
    "xtick_str = [f\"{x:.0f}%\" for x in xtick_vals]\n",
    "plt.yticks([])\n",
    "\n",
    "x_r = np.abs(x_min - x_max)\n",
    "plt.xticks(xtick_vals, xtick_str, fontsize=8)\n",
    "plt.xlim([x_min, x_max])\n",
    "plt.ylim([-(nCMs - 0.25), 0.75])\n",
    "\n",
    "lines = []\n",
    "mu = np.mean(100*(1-res), axis=0)\n",
    "stds = np.diag(np.cov(100*(1-res), rowvar=False))**0.5\n",
    "\n",
    "for cm in range(nCMs): \n",
    "    line, = plt.gca().plot([mu[cm] - 1.96*stds[cm], mu[cm] + 1.96*stds[cm]], [-cm, -cm], color=\"black\", alpha=0.25)\n",
    "    line2, = plt.gca().plot([mu[cm] , mu[cm]], [-cm-0.1, -cm+0.1], color=\"black\")\n",
    "    lines.append((line, line2))\n",
    "\n",
    "plt.yticks(-np.arange(nCMs), CMs, fontsize=8)\n",
    "yticklabels = plt.gca().yaxis.get_ticklabels()\n",
    "yticklabels[npi].set_color(cols[0])\n",
    "plt.xlabel('Average reduction in $R$,\\n in the context of our data.', fontsize=8)\n",
    "plt.text(35, -0.05, \"Note: this video shows the\\nadditional effect, and not the\\ncumulative effect of each NPI.\", fontsize=5.5, va=\"center\", weight=\"bold\")   \n",
    "plt.title(f\"Approximate Posterior\\nConditioned on {CMs[npi]}\", fontsize=10)\n",
    "\n",
    "def animate(i, which_cm, n_frames):\n",
    "    val = mu[which_cm] + (1.96*stds[which_cm] * 2*float(i)/n_frames) - 1.96*stds[which_cm]\n",
    "    lines[which_cm][0].set_xdata([-200, -200])\n",
    "    lines[which_cm][1].set_xdata([val, val])\n",
    "    lines[which_cm][1].set_color(cols[0])\n",
    "    \n",
    "    mu_bar, low, high, cms_remaining = condition_on(res, which_cm, val)\n",
    "    for i, cm in enumerate(cms_remaining):\n",
    "        lines[cm][0].set_xdata([low[i], high[i]])\n",
    "        lines[cm][1].set_xdata([mu_bar[i], mu_bar[i]])\n",
    "    plt.tight_layout()\n",
    "    \n",
    "anim = animation.FuncAnimation(fig, animate, frames=100, interval=50, fargs=(npi, 100, ));\n",
    "HTML(anim.to_jshtml())"
   ]
  },
  {
   "cell_type": "code",
   "execution_count": null,
   "metadata": {},
   "outputs": [],
   "source": [
    "npi = 6\n",
    "\n",
    "fig = plt.figure(figsize=(5, 3), dpi=300)\n",
    "\n",
    "x_min = -25\n",
    "x_max = 75\n",
    "plt.plot([0, 0], [1, -(nCMs)], \"--k\", linewidth=0.5)\n",
    "xrange = np.array([x_min, x_max])\n",
    "for height in range(0, nCMs+2, 2):\n",
    "    plt.fill_between(xrange, -(height-0.5), -(height+0.5), color=\"silver\", alpha=0.5, linewidth=0)\n",
    "xtick_vals = [-50, -25, 0, 25, 50, 75, 100]\n",
    "xtick_str = [f\"{x:.0f}%\" for x in xtick_vals]\n",
    "plt.yticks([])\n",
    "\n",
    "x_r = np.abs(x_min - x_max)\n",
    "plt.xticks(xtick_vals, xtick_str, fontsize=8)\n",
    "plt.xlim([x_min, x_max])\n",
    "plt.ylim([-(nCMs - 0.25), 0.75])\n",
    "\n",
    "lines = []\n",
    "mu = np.mean(100*(1-res), axis=0)\n",
    "stds = np.diag(np.cov(100*(1-res), rowvar=False))**0.5\n",
    "\n",
    "for cm in range(nCMs): \n",
    "    line, = plt.gca().plot([mu[cm] - 1.96*stds[cm], mu[cm] + 1.96*stds[cm]], [-cm, -cm], color=\"black\", alpha=0.25)\n",
    "    line2, = plt.gca().plot([mu[cm] , mu[cm]], [-cm-0.1, -cm+0.1], color=\"black\")\n",
    "    lines.append((line, line2))\n",
    "\n",
    "plt.yticks(-np.arange(nCMs), CMs, fontsize=8)\n",
    "yticklabels = plt.gca().yaxis.get_ticklabels()\n",
    "yticklabels[npi].set_color(cols[0])\n",
    "plt.xlabel('Average reduction in $R$,\\n in the context of our data.', fontsize=8)\n",
    "plt.text(35, -0.05, \"Note: this video shows the\\nadditional effect, and not the\\ncumulative effect of each NPI.\", fontsize=5.5, va=\"center\", weight=\"bold\")   \n",
    "plt.title(f\"Approximate Posterior\\nConditioned on {CMs[npi]}\", fontsize=10)\n",
    "\n",
    "def animate(i, which_cm, n_frames):\n",
    "    val = mu[which_cm] + (1.96*stds[which_cm] * 2*float(i)/n_frames) - 1.96*stds[which_cm]\n",
    "    lines[which_cm][0].set_xdata([-200, -200])\n",
    "    lines[which_cm][1].set_xdata([val, val])\n",
    "    lines[which_cm][1].set_color(cols[0])\n",
    "    \n",
    "    mu_bar, low, high, cms_remaining = condition_on(res, which_cm, val)\n",
    "    for i, cm in enumerate(cms_remaining):\n",
    "        lines[cm][0].set_xdata([low[i], high[i]])\n",
    "        lines[cm][1].set_xdata([mu_bar[i], mu_bar[i]])\n",
    "    plt.tight_layout()\n",
    "    \n",
    "anim = animation.FuncAnimation(fig, animate, frames=100, interval=50, fargs=(npi, 100, ));\n",
    "HTML(anim.to_jshtml())"
   ]
  }
 ],
 "metadata": {
  "kernelspec": {
   "display_name": "Python 3",
   "language": "python",
   "name": "python3"
  },
  "language_info": {
   "codemirror_mode": {
    "name": "ipython",
    "version": 3
   },
   "file_extension": ".py",
   "mimetype": "text/x-python",
   "name": "python",
   "nbconvert_exporter": "python",
   "pygments_lexer": "ipython3",
   "version": "3.8.3"
  }
 },
 "nbformat": 4,
 "nbformat_minor": 4
}
