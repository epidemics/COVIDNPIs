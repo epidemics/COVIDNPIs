{
 "cells": [
  {
   "cell_type": "markdown",
   "metadata": {},
   "source": [
    "This file loads results from a main model run, and produces the figures used in the paper. "
   ]
  },
  {
   "cell_type": "code",
   "execution_count": 1,
   "metadata": {},
   "outputs": [],
   "source": [
    "%load_ext autoreload\n",
    "%autoreload 2"
   ]
  },
  {
   "cell_type": "code",
   "execution_count": 2,
   "metadata": {},
   "outputs": [
    {
     "output_type": "stream",
     "name": "stdout",
     "text": [
      "Set Theano Environmental Variables for Parallelisation\n/home/gavento/proj/COVIDNPIs/notebooks\n"
     ]
    }
   ],
   "source": [
    "from epimodel import EpidemiologicalParameters, DefaultModel, preprocess_data\n",
    "from epimodel.pymc3_models.base_model import produce_CIs, add_cms_to_plot\n",
    "\n",
    "import numpy as np\n",
    "import pymc3 as pm\n",
    "import pickle\n",
    "\n",
    "from matplotlib.font_manager import FontProperties\n",
    "import matplotlib.pyplot as plt\n",
    "import seaborn as sns\n",
    "sns.set_style('ticks')\n",
    "\n",
    "from ipywidgets import *\n",
    "import os\n",
    "print(os.getcwd())"
   ]
  },
  {
   "cell_type": "code",
   "execution_count": 3,
   "metadata": {},
   "outputs": [
    {
     "output_type": "stream",
     "name": "stdout",
     "text": [
      "Dropping NPI Mask Wearing\n",
      "Dropping NPI Travel Screen/Quarantine\n",
      "Dropping NPI Travel Bans\n",
      "Dropping NPI Public Transport Limited\n",
      "Dropping NPI Internal Movement Limited\n",
      "Dropping NPI Public Information Campaigns\n",
      "Dropping NPI Symptomatic Testing\n",
      "Masking invalid values\n"
     ]
    }
   ],
   "source": [
    "data = preprocess_data('../merged_data/data_final_nov.csv', last_day='2020-05-30', smoothing=1)\n",
    "data.mask_reopenings(print_out=False)"
   ]
  },
  {
   "cell_type": "code",
   "execution_count": 4,
   "metadata": {},
   "outputs": [
    {
     "output_type": "execute_result",
     "data": {
      "text/plain": [
       "['Gatherings <1000',\n",
       " 'Gatherings <100',\n",
       " 'Gatherings <10',\n",
       " 'Some Businesses Suspended',\n",
       " 'Most Businesses Suspended',\n",
       " 'School Closure',\n",
       " 'University Closure',\n",
       " 'Stay Home Order']"
      ]
     },
     "metadata": {},
     "execution_count": 4
    }
   ],
   "source": [
    "data.CMs"
   ]
  },
  {
   "cell_type": "code",
   "execution_count": 5,
   "metadata": {},
   "outputs": [
    {
     "output_type": "display_data",
     "data": {
      "text/plain": "<Figure size 720x72 with 1 Axes>",
      "image/svg+xml": "<?xml version=\"1.0\" encoding=\"utf-8\" standalone=\"no\"?>\n<!DOCTYPE svg PUBLIC \"-//W3C//DTD SVG 1.1//EN\"\n  \"http://www.w3.org/Graphics/SVG/1.1/DTD/svg11.dtd\">\n<!-- Created with matplotlib (https://matplotlib.org/) -->\n<svg height=\"72.26pt\" version=\"1.1\" viewBox=\"0 0 575.9 72.26\" width=\"575.9pt\" xmlns=\"http://www.w3.org/2000/svg\" xmlns:xlink=\"http://www.w3.org/1999/xlink\">\n <metadata>\n  <rdf:RDF xmlns:cc=\"http://creativecommons.org/ns#\" xmlns:dc=\"http://purl.org/dc/elements/1.1/\" xmlns:rdf=\"http://www.w3.org/1999/02/22-rdf-syntax-ns#\">\n   <cc:Work>\n    <dc:type rdf:resource=\"http://purl.org/dc/dcmitype/StillImage\"/>\n    <dc:date>2021-03-20T02:27:32.880632</dc:date>\n    <dc:format>image/svg+xml</dc:format>\n    <dc:creator>\n     <cc:Agent>\n      <dc:title>Matplotlib v3.3.4, https://matplotlib.org/</dc:title>\n     </cc:Agent>\n    </dc:creator>\n   </cc:Work>\n  </rdf:RDF>\n </metadata>\n <defs>\n  <style type=\"text/css\">*{stroke-linecap:butt;stroke-linejoin:round;}</style>\n </defs>\n <g id=\"figure_1\">\n  <g id=\"patch_1\">\n   <path d=\"M 0 72.26 \nL 575.9 72.26 \nL 575.9 0 \nL 0 0 \nz\n\" style=\"fill:#ffffff;\"/>\n  </g>\n  <g id=\"axes_1\">\n   <g id=\"patch_2\">\n    <path d=\"M 10.7 61.56 \nL 568.7 61.56 \nL 568.7 7.2 \nL 10.7 7.2 \nz\n\" style=\"fill:#ffffff;\"/>\n   </g>\n   <g clip-path=\"url(#p8c8e989f50)\">\n    <image height=\"55\" id=\"image04c651e2ea\" transform=\"scale(1 -1)translate(0 -55)\" width=\"558\" x=\"10.7\" xlink:href=\"data:image/png;base64,\niVBORw0KGgoAAAANSUhEUgAAAi4AAAA3CAYAAAArDMGlAAABZUlEQVR4nO3WITIEcBxAYesCMmMkF3AQSXEGQdkjyHuATZJuBElwh82iM2i4gvKf3zzzfSd48W0225efo3/s4/xmOmGpy5P76YRlDu+76YSlvs7ephOW+j59mk5Y6uriYTphqf3n83TCMrfXj9MJS90dXqcTljqeDgAA+CvjAgBkGBcAIMO4AAAZxgUAyDAuAECGcQEAMowLAJBhXACADOMCAGQYFwAgw7gAABnGBQDIMC4AQIZxAQAyjAsAkGFcAIAM4wIAZBgXACDDuAAAGcYFAMgwLgBAhnEBADKMCwCQYVwAgAzjAgBkGBcAIMO4AAAZxgUAyDAuAECGcQEAMowLAJBhXACADOMCAGQYFwAgw7gAABnGBQDIMC4AQIZxAQAyjAsAkGFcAIAM4wIAZBgXACDDuAAAGcYFAMgwLgBAhnEBADKMCwCQYVwAgAzjAgBkGBcAIMO4AAAZxgUAyDAuAEDGL+/REGB5kvgnAAAAAElFTkSuQmCC\" y=\"-6.56\"/>\n   </g>\n   <g id=\"matplotlib.axis_1\">\n    <g id=\"xtick_1\">\n     <g id=\"line2d_1\">\n      <defs>\n       <path d=\"M 0 0 \nL 0 3.5 \n\" id=\"mc43f260079\" style=\"stroke:#262626;stroke-width:0.8;\"/>\n      </defs>\n      <g>\n       <use style=\"fill:#262626;stroke:#262626;stroke-width:0.8;\" x=\"10.7\" xlink:href=\"#mc43f260079\" y=\"61.56\"/>\n      </g>\n     </g>\n    </g>\n    <g id=\"xtick_2\">\n     <g id=\"line2d_2\">\n      <g>\n       <use style=\"fill:#262626;stroke:#262626;stroke-width:0.8;\" x=\"66.5\" xlink:href=\"#mc43f260079\" y=\"61.56\"/>\n      </g>\n     </g>\n    </g>\n    <g id=\"xtick_3\">\n     <g id=\"line2d_3\">\n      <g>\n       <use style=\"fill:#262626;stroke:#262626;stroke-width:0.8;\" x=\"122.3\" xlink:href=\"#mc43f260079\" y=\"61.56\"/>\n      </g>\n     </g>\n    </g>\n    <g id=\"xtick_4\">\n     <g id=\"line2d_4\">\n      <g>\n       <use style=\"fill:#262626;stroke:#262626;stroke-width:0.8;\" x=\"178.1\" xlink:href=\"#mc43f260079\" y=\"61.56\"/>\n      </g>\n     </g>\n    </g>\n    <g id=\"xtick_5\">\n     <g id=\"line2d_5\">\n      <g>\n       <use style=\"fill:#262626;stroke:#262626;stroke-width:0.8;\" x=\"233.9\" xlink:href=\"#mc43f260079\" y=\"61.56\"/>\n      </g>\n     </g>\n    </g>\n    <g id=\"xtick_6\">\n     <g id=\"line2d_6\">\n      <g>\n       <use style=\"fill:#262626;stroke:#262626;stroke-width:0.8;\" x=\"289.7\" xlink:href=\"#mc43f260079\" y=\"61.56\"/>\n      </g>\n     </g>\n    </g>\n    <g id=\"xtick_7\">\n     <g id=\"line2d_7\">\n      <g>\n       <use style=\"fill:#262626;stroke:#262626;stroke-width:0.8;\" x=\"345.5\" xlink:href=\"#mc43f260079\" y=\"61.56\"/>\n      </g>\n     </g>\n    </g>\n    <g id=\"xtick_8\">\n     <g id=\"line2d_8\">\n      <g>\n       <use style=\"fill:#262626;stroke:#262626;stroke-width:0.8;\" x=\"401.3\" xlink:href=\"#mc43f260079\" y=\"61.56\"/>\n      </g>\n     </g>\n    </g>\n    <g id=\"xtick_9\">\n     <g id=\"line2d_9\">\n      <g>\n       <use style=\"fill:#262626;stroke:#262626;stroke-width:0.8;\" x=\"457.1\" xlink:href=\"#mc43f260079\" y=\"61.56\"/>\n      </g>\n     </g>\n    </g>\n    <g id=\"xtick_10\">\n     <g id=\"line2d_10\">\n      <g>\n       <use style=\"fill:#262626;stroke:#262626;stroke-width:0.8;\" x=\"512.9\" xlink:href=\"#mc43f260079\" y=\"61.56\"/>\n      </g>\n     </g>\n    </g>\n   </g>\n   <g id=\"matplotlib.axis_2\">\n    <g id=\"ytick_1\">\n     <g id=\"line2d_11\">\n      <defs>\n       <path d=\"M 0 0 \nL -3.5 0 \n\" id=\"m3f5d50b57b\" style=\"stroke:#262626;stroke-width:0.8;\"/>\n      </defs>\n      <g>\n       <use style=\"fill:#262626;stroke:#262626;stroke-width:0.8;\" x=\"10.7\" xlink:href=\"#m3f5d50b57b\" y=\"7.2\"/>\n      </g>\n     </g>\n    </g>\n    <g id=\"ytick_2\">\n     <g id=\"line2d_12\">\n      <g>\n       <use style=\"fill:#262626;stroke:#262626;stroke-width:0.8;\" x=\"10.7\" xlink:href=\"#m3f5d50b57b\" y=\"61.56\"/>\n      </g>\n     </g>\n    </g>\n   </g>\n   <g id=\"patch_3\">\n    <path d=\"M 10.7 61.56 \nL 10.7 7.2 \n\" style=\"fill:none;stroke:#262626;stroke-linecap:square;stroke-linejoin:miter;stroke-width:0.8;\"/>\n   </g>\n   <g id=\"patch_4\">\n    <path d=\"M 568.7 61.56 \nL 568.7 7.2 \n\" style=\"fill:none;stroke:#262626;stroke-linecap:square;stroke-linejoin:miter;stroke-width:0.8;\"/>\n   </g>\n   <g id=\"patch_5\">\n    <path d=\"M 10.7 61.56 \nL 568.7 61.56 \n\" style=\"fill:none;stroke:#262626;stroke-linecap:square;stroke-linejoin:miter;stroke-width:0.8;\"/>\n   </g>\n   <g id=\"patch_6\">\n    <path d=\"M 10.7 7.2 \nL 568.7 7.2 \n\" style=\"fill:none;stroke:#262626;stroke-linecap:square;stroke-linejoin:miter;stroke-width:0.8;\"/>\n   </g>\n  </g>\n </g>\n <defs>\n  <clipPath id=\"p8c8e989f50\">\n   <rect height=\"54.36\" width=\"558\" x=\"10.7\" y=\"7.2\"/>\n  </clipPath>\n </defs>\n</svg>\n",
      "image/png": "[encoded data removed]"
     },
     "metadata": {}
    }
   ],
   "source": [
    "current_palette = sns.color_palette('colorblind')\n",
    "sns.palplot(current_palette)"
   ]
  },
  {
   "cell_type": "code",
   "execution_count": 6,
   "metadata": {},
   "outputs": [
    {
     "output_type": "display_data",
     "data": {
      "text/plain": "<Figure size 216x72 with 1 Axes>",
      "image/svg+xml": "<?xml version=\"1.0\" encoding=\"utf-8\" standalone=\"no\"?>\n<!DOCTYPE svg PUBLIC \"-//W3C//DTD SVG 1.1//EN\"\n  \"http://www.w3.org/Graphics/SVG/1.1/DTD/svg11.dtd\">\n<!-- Created with matplotlib (https://matplotlib.org/) -->\n<svg height=\"72.26pt\" version=\"1.1\" viewBox=\"0 0 185.3 72.26\" width=\"185.3pt\" xmlns=\"http://www.w3.org/2000/svg\" xmlns:xlink=\"http://www.w3.org/1999/xlink\">\n <metadata>\n  <rdf:RDF xmlns:cc=\"http://creativecommons.org/ns#\" xmlns:dc=\"http://purl.org/dc/elements/1.1/\" xmlns:rdf=\"http://www.w3.org/1999/02/22-rdf-syntax-ns#\">\n   <cc:Work>\n    <dc:type rdf:resource=\"http://purl.org/dc/dcmitype/StillImage\"/>\n    <dc:date>2021-03-20T02:27:32.997395</dc:date>\n    <dc:format>image/svg+xml</dc:format>\n    <dc:creator>\n     <cc:Agent>\n      <dc:title>Matplotlib v3.3.4, https://matplotlib.org/</dc:title>\n     </cc:Agent>\n    </dc:creator>\n   </cc:Work>\n  </rdf:RDF>\n </metadata>\n <defs>\n  <style type=\"text/css\">*{stroke-linecap:butt;stroke-linejoin:round;}</style>\n </defs>\n <g id=\"figure_1\">\n  <g id=\"patch_1\">\n   <path d=\"M 0 72.26 \nL 185.3 72.26 \nL 185.3 0 \nL 0 0 \nz\n\" style=\"fill:#ffffff;\"/>\n  </g>\n  <g id=\"axes_1\">\n   <g id=\"patch_2\">\n    <path d=\"M 10.7 61.56 \nL 178.1 61.56 \nL 178.1 7.2 \nL 10.7 7.2 \nz\n\" style=\"fill:#ffffff;\"/>\n   </g>\n   <g clip-path=\"url(#p896c9730c5)\">\n    <image height=\"55\" id=\"imageb41dddc2f7\" transform=\"scale(1 -1)translate(0 -55)\" width=\"168\" x=\"10.7\" xlink:href=\"data:image/png;base64,\niVBORw0KGgoAAAANSUhEUgAAAKgAAAA3CAYAAACYewEiAAAAx0lEQVR4nO3SsQ3CMAAAwSSbM487CtoUKZGyEmxAZ/mF7ib44vfzMT7bH3td79UJU437uTphqmN1APxiUNIMSppBSTMoaQYlzaCkGZQ0g5JmUNIMSppBSTMoaQYlzaCkGZQ0g5JmUNIMSppBSTMoaQYlzaCkGZQ0g5JmUNIMSppBSTMoaQYlzaCkGZQ0g5JmUNIMSppBSTMoaQYlzaCkGZQ0g5JmUNIMSppBSTMoaQYlzaCkGZQ0g5JmUNIMSppBSTMoaQYl7QtuzwfH/6q+igAAAABJRU5ErkJggg==\" y=\"-6.56\"/>\n   </g>\n   <g id=\"matplotlib.axis_1\">\n    <g id=\"xtick_1\">\n     <g id=\"line2d_1\">\n      <defs>\n       <path d=\"M 0 0 \nL 0 3.5 \n\" id=\"m255f8d3a31\" style=\"stroke:#262626;stroke-width:0.8;\"/>\n      </defs>\n      <g>\n       <use style=\"fill:#262626;stroke:#262626;stroke-width:0.8;\" x=\"10.7\" xlink:href=\"#m255f8d3a31\" y=\"61.56\"/>\n      </g>\n     </g>\n    </g>\n    <g id=\"xtick_2\">\n     <g id=\"line2d_2\">\n      <g>\n       <use style=\"fill:#262626;stroke:#262626;stroke-width:0.8;\" x=\"66.5\" xlink:href=\"#m255f8d3a31\" y=\"61.56\"/>\n      </g>\n     </g>\n    </g>\n    <g id=\"xtick_3\">\n     <g id=\"line2d_3\">\n      <g>\n       <use style=\"fill:#262626;stroke:#262626;stroke-width:0.8;\" x=\"122.3\" xlink:href=\"#m255f8d3a31\" y=\"61.56\"/>\n      </g>\n     </g>\n    </g>\n   </g>\n   <g id=\"matplotlib.axis_2\">\n    <g id=\"ytick_1\">\n     <g id=\"line2d_4\">\n      <defs>\n       <path d=\"M 0 0 \nL -3.5 0 \n\" id=\"m2984a5934b\" style=\"stroke:#262626;stroke-width:0.8;\"/>\n      </defs>\n      <g>\n       <use style=\"fill:#262626;stroke:#262626;stroke-width:0.8;\" x=\"10.7\" xlink:href=\"#m2984a5934b\" y=\"7.2\"/>\n      </g>\n     </g>\n    </g>\n    <g id=\"ytick_2\">\n     <g id=\"line2d_5\">\n      <g>\n       <use style=\"fill:#262626;stroke:#262626;stroke-width:0.8;\" x=\"10.7\" xlink:href=\"#m2984a5934b\" y=\"61.56\"/>\n      </g>\n     </g>\n    </g>\n   </g>\n   <g id=\"patch_3\">\n    <path d=\"M 10.7 61.56 \nL 10.7 7.2 \n\" style=\"fill:none;stroke:#262626;stroke-linecap:square;stroke-linejoin:miter;stroke-width:0.8;\"/>\n   </g>\n   <g id=\"patch_4\">\n    <path d=\"M 178.1 61.56 \nL 178.1 7.2 \n\" style=\"fill:none;stroke:#262626;stroke-linecap:square;stroke-linejoin:miter;stroke-width:0.8;\"/>\n   </g>\n   <g id=\"patch_5\">\n    <path d=\"M 10.7 61.56 \nL 178.1 61.56 \n\" style=\"fill:none;stroke:#262626;stroke-linecap:square;stroke-linejoin:miter;stroke-width:0.8;\"/>\n   </g>\n   <g id=\"patch_6\">\n    <path d=\"M 10.7 7.2 \nL 178.1 7.2 \n\" style=\"fill:none;stroke:#262626;stroke-linecap:square;stroke-linejoin:miter;stroke-width:0.8;\"/>\n   </g>\n  </g>\n </g>\n <defs>\n  <clipPath id=\"p896c9730c5\">\n   <rect height=\"54.36\" width=\"167.4\" x=\"10.7\" y=\"7.2\"/>\n  </clipPath>\n </defs>\n</svg>\n",
      "image/png": "[encoded data removed]"
     },
     "metadata": {}
    }
   ],
   "source": [
    "# cols = sns.cubehelix_palette(3, start=0, light=0.7, dark=0.3, rot=0.2)\n",
    "cols = sns.cubehelix_palette(3, start=0.2, light=0.6, dark=0.1, rot=0.2)\n",
    "sns.palplot(cols)"
   ]
  },
  {
   "cell_type": "markdown",
   "metadata": {},
   "source": [
    "# mitigation calculator csv"
   ]
  },
  {
   "cell_type": "code",
   "execution_count": 56,
   "metadata": {},
   "outputs": [],
   "source": [
    "trace = pickle.load(open(\"trace-skewed-T4-LO.pkl\", \"rb\"))"
   ]
  },
  {
   "cell_type": "code",
   "execution_count": null,
   "metadata": {},
   "outputs": [],
   "source": [
    "full_cm_red.shape"
   ]
  },
  {
   "cell_type": "code",
   "execution_count": null,
   "metadata": {},
   "outputs": [],
   "source": [
    "nS, _ = full_cm_red.shape"
   ]
  },
  {
   "cell_type": "code",
   "execution_count": null,
   "metadata": {},
   "outputs": [],
   "source": [
    "# csv file for mitigation calculator\n",
    "full_cm_red = np.exp(np.log(trace.CMReduction) + np.random.normal(size=(8000, 8)) * trace.CMAlphaScales)\n",
    "cm_red = np.zeros((nS, 7))\n",
    "\n",
    "cm_red[:, :] = full_cm_red[:, [0, 1, 2, 3, 4, 5, 7]]\n",
    "\n",
    "# combine schools and unis into one NPI\n",
    "cm_red[:, 5] = cm_red[:, 5] * full_cm_red[:, 6]\n",
    "\n",
    "np.savetxt('traces.txt', cm_red, delimiter=',', header='Gatherings<1000, Gatherings<100, Gatherings<10, Some Business, Most Business, School+Uni, StayHome' )"
   ]
  },
  {
   "cell_type": "code",
   "execution_count": null,
   "metadata": {},
   "outputs": [],
   "source": [
    "100*(1-np.median(cm_red, axis=0))"
   ]
  },
  {
   "cell_type": "code",
   "execution_count": null,
   "metadata": {},
   "outputs": [],
   "source": [
    "1-np.percentile(np.prod(full_cm_red, axis=-1), 50)"
   ]
  },
  {
   "cell_type": "code",
   "execution_count": null,
   "metadata": {},
   "outputs": [],
   "source": [
    "1-np.percentile(np.prod(full_cm_red, axis=-1), 2.5)"
   ]
  },
  {
   "cell_type": "code",
   "execution_count": null,
   "metadata": {},
   "outputs": [],
   "source": [
    "1-np.percentile(np.prod(full_cm_red, axis=-1), 97.5)"
   ]
  },
  {
   "cell_type": "code",
   "execution_count": null,
   "metadata": {},
   "outputs": [],
   "source": [
    "3.3*np.percentile(np.prod(full_cm_red, axis=-1), 2.5)"
   ]
  },
  {
   "cell_type": "markdown",
   "metadata": {},
   "source": [
    "# main results figure"
   ]
  },
  {
   "cell_type": "code",
   "execution_count": 38,
   "metadata": {},
   "outputs": [],
   "source": [
    "FN=\"final_final_nov-seasonality_TA096\"\n",
    "trace = pickle.load(open(f\"{FN}.pkl\", \"rb\"))"
   ]
  },
  {
   "cell_type": "code",
   "execution_count": 39,
   "metadata": {},
   "outputs": [
    {
     "output_type": "execute_result",
     "data": {
      "text/plain": [
       "array([[1.22499118, 1.22341676, 1.22177614, 1.2200698 , 1.21829825,\n",
       "        1.21646201, 1.21456163, 1.21259767, 1.21057071, 1.20848136,\n",
       "        1.20633023, 1.20411796, 1.2018452 , 1.19951264, 1.19712095,\n",
       "        1.19467085, 1.19216307, 1.18959835, 1.18697744, 1.18430113,\n",
       "        1.18157021, 1.17878548, 1.17594777, 1.17305793, 1.17011681,\n",
       "        1.16712528, 1.16408422, 1.16099455, 1.15785717, 1.15467301,\n",
       "        1.15144302, 1.14816815, 1.14484938, 1.14148768, 1.13808406,\n",
       "        1.13463953, 1.13115509, 1.12763179, 1.12407068, 1.12047279,\n",
       "        1.11683921, 1.11317101, 1.10946927, 1.1057351 , 1.10196959,\n",
       "        1.09817386, 1.09434905, 1.09049628, 1.08661669, 1.08271144,\n",
       "        1.07878167, 1.07482856, 1.07085328, 1.06685701, 1.06284092,\n",
       "        1.05880621, 1.05475407, 1.05068571, 1.04660234, 1.04250515,\n",
       "        1.03839537, 1.0342742 , 1.03014289, 1.02600264, 1.02185469,\n",
       "        1.01770026, 1.01354058, 1.0093769 , 1.00521043, 1.00104242,\n",
       "        0.9968741 , 0.99270671, 0.98854148, 0.98437964, 0.98022244,\n",
       "        0.97607109, 0.97192683, 0.9677909 , 0.9636645 , 0.95954888,\n",
       "        0.95544524, 0.9513548 , 0.94727878, 0.94321838, 0.93917481,\n",
       "        0.93514926, 0.93114292, 0.92715699, 0.92319265, 0.91925106,\n",
       "        0.9153334 , 0.91144083, 0.90757451, 0.90373557, 0.89992515,\n",
       "        0.89614439, 0.89239441, 0.88867631, 0.88499119, 0.88134016,\n",
       "        0.87772429, 0.87414465, 0.87060231, 0.86709831, 0.86363369,\n",
       "        0.86020947, 0.85682668, 0.85348632, 0.85018937, 0.84693682,\n",
       "        0.84372961, 0.84056872, 0.83745507, 0.83438958, 0.83137317,\n",
       "        0.82840673, 0.82549113, 0.82262724, 0.81981591, 0.81705798,\n",
       "        0.81435425, 0.81170554, 0.80911262, 0.80657626, 0.80409722,\n",
       "        0.80167623, 0.79931401, 0.79701125, 0.79476865, 0.79258686]])"
      ]
     },
     "metadata": {},
     "execution_count": 39
    }
   ],
   "source": [
    "np.mean(trace['SeasonalityMultEffect'], axis=0)"
   ]
  },
  {
   "cell_type": "code",
   "execution_count": 42,
   "metadata": {},
   "outputs": [
    {
     "output_type": "stream",
     "name": "stderr",
     "text": [
      "'Font Awesome 5 Free-Solid-900.otf' can not be subsetted into a Type 3 font. The entire font will be embedded in the output.\n",
      "0.7654354557747043\n",
      "(8000, 8) (8000,)\n",
      "[23.45645442 32.41865046 38.76369216 15.29012401 24.26404438 11.41910131\n",
      " 38.11384151 11.59410329 24.21495266] [24.2817067  33.33125568 39.84789177 15.98657448 25.45948085 10.14732745\n",
      " 38.67425093 11.63656163 24.09836703] [  0.98374644   8.2120523   13.00746076 -15.31658858  -6.85250776\n",
      "  -9.9967282   16.54582924  -7.53660862   7.17298015] [42.31332693 51.19242267 58.30001252 40.74130556 49.68196083 37.31428914\n",
      " 55.58062468 30.92772341 40.97270772] [16.71339466 26.1110874  31.97857127  6.57737843 15.87229381  2.56153402\n",
      " 32.11330445  5.5317535  18.53534429] [30.94562253 39.8141375  46.89318004 24.78147049 33.78147255 19.52080806\n",
      " 45.13244901 18.01983825 29.89896251]\n",
      "[('Gatherings limited to\\n1000 people or less', [0]), ('Gatherings limited to\\n100 people or less', [1, 0]), ('Gatherings limited to\\n10 people or less', [2, 1, 0]), ('Some businesses\\nclosed', [3]), ('Most nonessential\\nbusinesses closed', [4, 3]), ('Schools closed', [5]), ('Schools and universities\\nclosed', [5, 6]), ('Additional effect of\\nstay at home order', [7]), ('Seasonality\\n(peak R inc. on Jan 1)', [])] 9\n"
     ]
    },
    {
     "output_type": "display_data",
     "data": {
      "text/plain": "<Figure size 1425x960 with 1 Axes>",
      "image/svg+xml": "<?xml version=\"1.0\" encoding=\"utf-8\" standalone=\"no\"?>\n<!DOCTYPE svg PUBLIC \"-//W3C//DTD SVG 1.1//EN\"\n  \"http://www.w3.org/Graphics/SVG/1.1/DTD/svg11.dtd\">\n<!-- Created with matplotlib (https://matplotlib.org/) -->\n<svg height=\"223.81275pt\" version=\"1.1\" viewBox=\"0 0 411.840625 223.81275\" width=\"411.840625pt\" xmlns=\"http://www.w3.org/2000/svg\" xmlns:xlink=\"http://www.w3.org/1999/xlink\">\n <metadata>\n  <rdf:RDF xmlns:cc=\"http://creativecommons.org/ns#\" xmlns:dc=\"http://purl.org/dc/elements/1.1/\" xmlns:rdf=\"http://www.w3.org/1999/02/22-rdf-syntax-ns#\">\n   <cc:Work>\n    <dc:type rdf:resource=\"http://purl.org/dc/dcmitype/StillImage\"/>\n    <dc:date>2021-03-20T11:45:15.914943</dc:date>\n    <dc:format>image/svg+xml</dc:format>\n    <dc:creator>\n     <cc:Agent>\n      <dc:title>Matplotlib v3.3.4, https://matplotlib.org/</dc:title>\n     </cc:Agent>\n    </dc:creator>\n   </cc:Work>\n  </rdf:RDF>\n </metadata>\n <defs>\n  <style type=\"text/css\">*{stroke-linecap:butt;stroke-linejoin:round;}</style>\n </defs>\n <g id=\"figure_1\">\n  <g id=\"patch_1\">\n   <path d=\"M 0 223.81275 \nL 411.840625 223.81275 \nL 411.840625 0 \nL 0 0 \nz\n\" style=\"fill:#ffffff;\"/>\n  </g>\n  <g id=\"axes_1\">\n   <g id=\"patch_2\">\n    <path d=\"M 130.7 181.152 \nL 395.75 181.152 \nL 395.75 7.2 \nL 130.7 7.2 \nz\n\" style=\"fill:#ffffff;\"/>\n   </g>\n   <g id=\"matplotlib.axis_1\">\n    <g id=\"xtick_1\">\n     <g id=\"line2d_1\">\n      <defs>\n       <path d=\"M 0 0 \nL 0 3.5 \n\" id=\"m14a107f410\" style=\"stroke:#262626;stroke-width:0.8;\"/>\n      </defs>\n      <g>\n       <use style=\"fill:#262626;stroke:#262626;stroke-width:0.8;\" x=\"130.7\" xlink:href=\"#m14a107f410\" y=\"181.152\"/>\n      </g>\n     </g>\n     <g id=\"text_1\">\n      <!-- -25% -->\n      <g style=\"fill:#262626;\" transform=\"translate(120.36625 194.23075)scale(0.08 -0.08)\">\n       <defs>\n        <path d=\"M 4.890625 31.390625 \nL 31.203125 31.390625 \nL 31.203125 23.390625 \nL 4.890625 23.390625 \nz\n\" id=\"DejaVuSans-45\"/>\n        <path d=\"M 19.1875 8.296875 \nL 53.609375 8.296875 \nL 53.609375 0 \nL 7.328125 0 \nL 7.328125 8.296875 \nQ 12.9375 14.109375 22.625 23.890625 \nQ 32.328125 33.6875 34.8125 36.53125 \nQ 39.546875 41.84375 41.421875 45.53125 \nQ 43.3125 49.21875 43.3125 52.78125 \nQ 43.3125 58.59375 39.234375 62.25 \nQ 35.15625 65.921875 28.609375 65.921875 \nQ 23.96875 65.921875 18.8125 64.3125 \nQ 13.671875 62.703125 7.8125 59.421875 \nL 7.8125 69.390625 \nQ 13.765625 71.78125 18.9375 73 \nQ 24.125 74.21875 28.421875 74.21875 \nQ 39.75 74.21875 46.484375 68.546875 \nQ 53.21875 62.890625 53.21875 53.421875 \nQ 53.21875 48.921875 51.53125 44.890625 \nQ 49.859375 40.875 45.40625 35.40625 \nQ 44.1875 33.984375 37.640625 27.21875 \nQ 31.109375 20.453125 19.1875 8.296875 \nz\n\" id=\"DejaVuSans-50\"/>\n        <path d=\"M 10.796875 72.90625 \nL 49.515625 72.90625 \nL 49.515625 64.59375 \nL 19.828125 64.59375 \nL 19.828125 46.734375 \nQ 21.96875 47.46875 24.109375 47.828125 \nQ 26.265625 48.1875 28.421875 48.1875 \nQ 40.625 48.1875 47.75 41.5 \nQ 54.890625 34.8125 54.890625 23.390625 \nQ 54.890625 11.625 47.5625 5.09375 \nQ 40.234375 -1.421875 26.90625 -1.421875 \nQ 22.3125 -1.421875 17.546875 -0.640625 \nQ 12.796875 0.140625 7.71875 1.703125 \nL 7.71875 11.625 \nQ 12.109375 9.234375 16.796875 8.0625 \nQ 21.484375 6.890625 26.703125 6.890625 \nQ 35.15625 6.890625 40.078125 11.328125 \nQ 45.015625 15.765625 45.015625 23.390625 \nQ 45.015625 31 40.078125 35.4375 \nQ 35.15625 39.890625 26.703125 39.890625 \nQ 22.75 39.890625 18.8125 39.015625 \nQ 14.890625 38.140625 10.796875 36.28125 \nz\n\" id=\"DejaVuSans-53\"/>\n        <path d=\"M 72.703125 32.078125 \nQ 68.453125 32.078125 66.03125 28.46875 \nQ 63.625 24.859375 63.625 18.40625 \nQ 63.625 12.0625 66.03125 8.421875 \nQ 68.453125 4.78125 72.703125 4.78125 \nQ 76.859375 4.78125 79.265625 8.421875 \nQ 81.6875 12.0625 81.6875 18.40625 \nQ 81.6875 24.8125 79.265625 28.4375 \nQ 76.859375 32.078125 72.703125 32.078125 \nz\nM 72.703125 38.28125 \nQ 80.421875 38.28125 84.953125 32.90625 \nQ 89.5 27.546875 89.5 18.40625 \nQ 89.5 9.28125 84.9375 3.921875 \nQ 80.375 -1.421875 72.703125 -1.421875 \nQ 64.890625 -1.421875 60.34375 3.921875 \nQ 55.8125 9.28125 55.8125 18.40625 \nQ 55.8125 27.59375 60.375 32.9375 \nQ 64.9375 38.28125 72.703125 38.28125 \nz\nM 22.3125 68.015625 \nQ 18.109375 68.015625 15.6875 64.375 \nQ 13.28125 60.75 13.28125 54.390625 \nQ 13.28125 47.953125 15.671875 44.328125 \nQ 18.0625 40.71875 22.3125 40.71875 \nQ 26.5625 40.71875 28.96875 44.328125 \nQ 31.390625 47.953125 31.390625 54.390625 \nQ 31.390625 60.6875 28.953125 64.34375 \nQ 26.515625 68.015625 22.3125 68.015625 \nz\nM 66.40625 74.21875 \nL 74.21875 74.21875 \nL 28.609375 -1.421875 \nL 20.796875 -1.421875 \nz\nM 22.3125 74.21875 \nQ 30.03125 74.21875 34.609375 68.875 \nQ 39.203125 63.53125 39.203125 54.390625 \nQ 39.203125 45.171875 34.640625 39.84375 \nQ 30.078125 34.515625 22.3125 34.515625 \nQ 14.546875 34.515625 10.03125 39.859375 \nQ 5.515625 45.21875 5.515625 54.390625 \nQ 5.515625 63.484375 10.046875 68.84375 \nQ 14.59375 74.21875 22.3125 74.21875 \nz\n\" id=\"DejaVuSans-37\"/>\n       </defs>\n       <use xlink:href=\"#DejaVuSans-45\"/>\n       <use x=\"36.083984\" xlink:href=\"#DejaVuSans-50\"/>\n       <use x=\"99.707031\" xlink:href=\"#DejaVuSans-53\"/>\n       <use x=\"163.330078\" xlink:href=\"#DejaVuSans-37\"/>\n      </g>\n     </g>\n    </g>\n    <g id=\"xtick_2\">\n     <g id=\"line2d_2\">\n      <g>\n       <use style=\"fill:#262626;stroke:#262626;stroke-width:0.8;\" x=\"196.9625\" xlink:href=\"#m14a107f410\" y=\"181.152\"/>\n      </g>\n     </g>\n     <g id=\"text_2\">\n      <!-- 0% -->\n      <g style=\"fill:#262626;\" transform=\"translate(190.616875 194.23075)scale(0.08 -0.08)\">\n       <defs>\n        <path d=\"M 31.78125 66.40625 \nQ 24.171875 66.40625 20.328125 58.90625 \nQ 16.5 51.421875 16.5 36.375 \nQ 16.5 21.390625 20.328125 13.890625 \nQ 24.171875 6.390625 31.78125 6.390625 \nQ 39.453125 6.390625 43.28125 13.890625 \nQ 47.125 21.390625 47.125 36.375 \nQ 47.125 51.421875 43.28125 58.90625 \nQ 39.453125 66.40625 31.78125 66.40625 \nz\nM 31.78125 74.21875 \nQ 44.046875 74.21875 50.515625 64.515625 \nQ 56.984375 54.828125 56.984375 36.375 \nQ 56.984375 17.96875 50.515625 8.265625 \nQ 44.046875 -1.421875 31.78125 -1.421875 \nQ 19.53125 -1.421875 13.0625 8.265625 \nQ 6.59375 17.96875 6.59375 36.375 \nQ 6.59375 54.828125 13.0625 64.515625 \nQ 19.53125 74.21875 31.78125 74.21875 \nz\n\" id=\"DejaVuSans-48\"/>\n       </defs>\n       <use xlink:href=\"#DejaVuSans-48\"/>\n       <use x=\"63.623047\" xlink:href=\"#DejaVuSans-37\"/>\n      </g>\n     </g>\n    </g>\n    <g id=\"xtick_3\">\n     <g id=\"line2d_3\">\n      <g>\n       <use style=\"fill:#262626;stroke:#262626;stroke-width:0.8;\" x=\"263.225\" xlink:href=\"#m14a107f410\" y=\"181.152\"/>\n      </g>\n     </g>\n     <g id=\"text_3\">\n      <!-- 25% -->\n      <g style=\"fill:#262626;\" transform=\"translate(254.334375 194.23075)scale(0.08 -0.08)\">\n       <use xlink:href=\"#DejaVuSans-50\"/>\n       <use x=\"63.623047\" xlink:href=\"#DejaVuSans-53\"/>\n       <use x=\"127.246094\" xlink:href=\"#DejaVuSans-37\"/>\n      </g>\n     </g>\n    </g>\n    <g id=\"xtick_4\">\n     <g id=\"line2d_4\">\n      <g>\n       <use style=\"fill:#262626;stroke:#262626;stroke-width:0.8;\" x=\"329.4875\" xlink:href=\"#m14a107f410\" y=\"181.152\"/>\n      </g>\n     </g>\n     <g id=\"text_4\">\n      <!-- 50% -->\n      <g style=\"fill:#262626;\" transform=\"translate(320.596875 194.23075)scale(0.08 -0.08)\">\n       <use xlink:href=\"#DejaVuSans-53\"/>\n       <use x=\"63.623047\" xlink:href=\"#DejaVuSans-48\"/>\n       <use x=\"127.246094\" xlink:href=\"#DejaVuSans-37\"/>\n      </g>\n     </g>\n    </g>\n    <g id=\"xtick_5\">\n     <g id=\"line2d_5\">\n      <g>\n       <use style=\"fill:#262626;stroke:#262626;stroke-width:0.8;\" x=\"395.75\" xlink:href=\"#m14a107f410\" y=\"181.152\"/>\n      </g>\n     </g>\n     <g id=\"text_5\">\n      <!-- 75% -->\n      <g style=\"fill:#262626;\" transform=\"translate(386.859375 194.23075)scale(0.08 -0.08)\">\n       <defs>\n        <path d=\"M 8.203125 72.90625 \nL 55.078125 72.90625 \nL 55.078125 68.703125 \nL 28.609375 0 \nL 18.3125 0 \nL 43.21875 64.59375 \nL 8.203125 64.59375 \nz\n\" id=\"DejaVuSans-55\"/>\n       </defs>\n       <use xlink:href=\"#DejaVuSans-55\"/>\n       <use x=\"63.623047\" xlink:href=\"#DejaVuSans-53\"/>\n       <use x=\"127.246094\" xlink:href=\"#DejaVuSans-37\"/>\n      </g>\n     </g>\n    </g>\n    <g id=\"text_6\">\n     <!-- Average reduction in $R_t$, -->\n     <g style=\"fill:#262626;\" transform=\"translate(214.785 205.9745)scale(0.08 -0.08)\">\n      <defs>\n       <path d=\"M 34.1875 63.1875 \nL 20.796875 26.90625 \nL 47.609375 26.90625 \nz\nM 28.609375 72.90625 \nL 39.796875 72.90625 \nL 67.578125 0 \nL 57.328125 0 \nL 50.6875 18.703125 \nL 17.828125 18.703125 \nL 11.1875 0 \nL 0.78125 0 \nz\n\" id=\"DejaVuSans-65\"/>\n       <path d=\"M 2.984375 54.6875 \nL 12.5 54.6875 \nL 29.59375 8.796875 \nL 46.6875 54.6875 \nL 56.203125 54.6875 \nL 35.6875 0 \nL 23.484375 0 \nz\n\" id=\"DejaVuSans-118\"/>\n       <path d=\"M 56.203125 29.59375 \nL 56.203125 25.203125 \nL 14.890625 25.203125 \nQ 15.484375 15.921875 20.484375 11.0625 \nQ 25.484375 6.203125 34.421875 6.203125 \nQ 39.59375 6.203125 44.453125 7.46875 \nQ 49.3125 8.734375 54.109375 11.28125 \nL 54.109375 2.78125 \nQ 49.265625 0.734375 44.1875 -0.34375 \nQ 39.109375 -1.421875 33.890625 -1.421875 \nQ 20.796875 -1.421875 13.15625 6.1875 \nQ 5.515625 13.8125 5.515625 26.8125 \nQ 5.515625 40.234375 12.765625 48.109375 \nQ 20.015625 56 32.328125 56 \nQ 43.359375 56 49.78125 48.890625 \nQ 56.203125 41.796875 56.203125 29.59375 \nz\nM 47.21875 32.234375 \nQ 47.125 39.59375 43.09375 43.984375 \nQ 39.0625 48.390625 32.421875 48.390625 \nQ 24.90625 48.390625 20.390625 44.140625 \nQ 15.875 39.890625 15.1875 32.171875 \nz\n\" id=\"DejaVuSans-101\"/>\n       <path d=\"M 41.109375 46.296875 \nQ 39.59375 47.171875 37.8125 47.578125 \nQ 36.03125 48 33.890625 48 \nQ 26.265625 48 22.1875 43.046875 \nQ 18.109375 38.09375 18.109375 28.8125 \nL 18.109375 0 \nL 9.078125 0 \nL 9.078125 54.6875 \nL 18.109375 54.6875 \nL 18.109375 46.1875 \nQ 20.953125 51.171875 25.484375 53.578125 \nQ 30.03125 56 36.53125 56 \nQ 37.453125 56 38.578125 55.875 \nQ 39.703125 55.765625 41.0625 55.515625 \nz\n\" id=\"DejaVuSans-114\"/>\n       <path d=\"M 34.28125 27.484375 \nQ 23.390625 27.484375 19.1875 25 \nQ 14.984375 22.515625 14.984375 16.5 \nQ 14.984375 11.71875 18.140625 8.90625 \nQ 21.296875 6.109375 26.703125 6.109375 \nQ 34.1875 6.109375 38.703125 11.40625 \nQ 43.21875 16.703125 43.21875 25.484375 \nL 43.21875 27.484375 \nz\nM 52.203125 31.203125 \nL 52.203125 0 \nL 43.21875 0 \nL 43.21875 8.296875 \nQ 40.140625 3.328125 35.546875 0.953125 \nQ 30.953125 -1.421875 24.3125 -1.421875 \nQ 15.921875 -1.421875 10.953125 3.296875 \nQ 6 8.015625 6 15.921875 \nQ 6 25.140625 12.171875 29.828125 \nQ 18.359375 34.515625 30.609375 34.515625 \nL 43.21875 34.515625 \nL 43.21875 35.40625 \nQ 43.21875 41.609375 39.140625 45 \nQ 35.0625 48.390625 27.6875 48.390625 \nQ 23 48.390625 18.546875 47.265625 \nQ 14.109375 46.140625 10.015625 43.890625 \nL 10.015625 52.203125 \nQ 14.9375 54.109375 19.578125 55.046875 \nQ 24.21875 56 28.609375 56 \nQ 40.484375 56 46.34375 49.84375 \nQ 52.203125 43.703125 52.203125 31.203125 \nz\n\" id=\"DejaVuSans-97\"/>\n       <path d=\"M 45.40625 27.984375 \nQ 45.40625 37.75 41.375 43.109375 \nQ 37.359375 48.484375 30.078125 48.484375 \nQ 22.859375 48.484375 18.828125 43.109375 \nQ 14.796875 37.75 14.796875 27.984375 \nQ 14.796875 18.265625 18.828125 12.890625 \nQ 22.859375 7.515625 30.078125 7.515625 \nQ 37.359375 7.515625 41.375 12.890625 \nQ 45.40625 18.265625 45.40625 27.984375 \nz\nM 54.390625 6.78125 \nQ 54.390625 -7.171875 48.1875 -13.984375 \nQ 42 -20.796875 29.203125 -20.796875 \nQ 24.46875 -20.796875 20.265625 -20.09375 \nQ 16.0625 -19.390625 12.109375 -17.921875 \nL 12.109375 -9.1875 \nQ 16.0625 -11.328125 19.921875 -12.34375 \nQ 23.78125 -13.375 27.78125 -13.375 \nQ 36.625 -13.375 41.015625 -8.765625 \nQ 45.40625 -4.15625 45.40625 5.171875 \nL 45.40625 9.625 \nQ 42.625 4.78125 38.28125 2.390625 \nQ 33.9375 0 27.875 0 \nQ 17.828125 0 11.671875 7.65625 \nQ 5.515625 15.328125 5.515625 27.984375 \nQ 5.515625 40.671875 11.671875 48.328125 \nQ 17.828125 56 27.875 56 \nQ 33.9375 56 38.28125 53.609375 \nQ 42.625 51.21875 45.40625 46.390625 \nL 45.40625 54.6875 \nL 54.390625 54.6875 \nz\n\" id=\"DejaVuSans-103\"/>\n       <path id=\"DejaVuSans-32\"/>\n       <path d=\"M 45.40625 46.390625 \nL 45.40625 75.984375 \nL 54.390625 75.984375 \nL 54.390625 0 \nL 45.40625 0 \nL 45.40625 8.203125 \nQ 42.578125 3.328125 38.25 0.953125 \nQ 33.9375 -1.421875 27.875 -1.421875 \nQ 17.96875 -1.421875 11.734375 6.484375 \nQ 5.515625 14.40625 5.515625 27.296875 \nQ 5.515625 40.1875 11.734375 48.09375 \nQ 17.96875 56 27.875 56 \nQ 33.9375 56 38.25 53.625 \nQ 42.578125 51.265625 45.40625 46.390625 \nz\nM 14.796875 27.296875 \nQ 14.796875 17.390625 18.875 11.75 \nQ 22.953125 6.109375 30.078125 6.109375 \nQ 37.203125 6.109375 41.296875 11.75 \nQ 45.40625 17.390625 45.40625 27.296875 \nQ 45.40625 37.203125 41.296875 42.84375 \nQ 37.203125 48.484375 30.078125 48.484375 \nQ 22.953125 48.484375 18.875 42.84375 \nQ 14.796875 37.203125 14.796875 27.296875 \nz\n\" id=\"DejaVuSans-100\"/>\n       <path d=\"M 8.5 21.578125 \nL 8.5 54.6875 \nL 17.484375 54.6875 \nL 17.484375 21.921875 \nQ 17.484375 14.15625 20.5 10.265625 \nQ 23.53125 6.390625 29.59375 6.390625 \nQ 36.859375 6.390625 41.078125 11.03125 \nQ 45.3125 15.671875 45.3125 23.6875 \nL 45.3125 54.6875 \nL 54.296875 54.6875 \nL 54.296875 0 \nL 45.3125 0 \nL 45.3125 8.40625 \nQ 42.046875 3.421875 37.71875 1 \nQ 33.40625 -1.421875 27.6875 -1.421875 \nQ 18.265625 -1.421875 13.375 4.4375 \nQ 8.5 10.296875 8.5 21.578125 \nz\nM 31.109375 56 \nz\n\" id=\"DejaVuSans-117\"/>\n       <path d=\"M 48.78125 52.59375 \nL 48.78125 44.1875 \nQ 44.96875 46.296875 41.140625 47.34375 \nQ 37.3125 48.390625 33.40625 48.390625 \nQ 24.65625 48.390625 19.8125 42.84375 \nQ 14.984375 37.3125 14.984375 27.296875 \nQ 14.984375 17.28125 19.8125 11.734375 \nQ 24.65625 6.203125 33.40625 6.203125 \nQ 37.3125 6.203125 41.140625 7.25 \nQ 44.96875 8.296875 48.78125 10.40625 \nL 48.78125 2.09375 \nQ 45.015625 0.34375 40.984375 -0.53125 \nQ 36.96875 -1.421875 32.421875 -1.421875 \nQ 20.0625 -1.421875 12.78125 6.34375 \nQ 5.515625 14.109375 5.515625 27.296875 \nQ 5.515625 40.671875 12.859375 48.328125 \nQ 20.21875 56 33.015625 56 \nQ 37.15625 56 41.109375 55.140625 \nQ 45.0625 54.296875 48.78125 52.59375 \nz\n\" id=\"DejaVuSans-99\"/>\n       <path d=\"M 18.3125 70.21875 \nL 18.3125 54.6875 \nL 36.8125 54.6875 \nL 36.8125 47.703125 \nL 18.3125 47.703125 \nL 18.3125 18.015625 \nQ 18.3125 11.328125 20.140625 9.421875 \nQ 21.96875 7.515625 27.59375 7.515625 \nL 36.8125 7.515625 \nL 36.8125 0 \nL 27.59375 0 \nQ 17.1875 0 13.234375 3.875 \nQ 9.28125 7.765625 9.28125 18.015625 \nL 9.28125 47.703125 \nL 2.6875 47.703125 \nL 2.6875 54.6875 \nL 9.28125 54.6875 \nL 9.28125 70.21875 \nz\n\" id=\"DejaVuSans-116\"/>\n       <path d=\"M 9.421875 54.6875 \nL 18.40625 54.6875 \nL 18.40625 0 \nL 9.421875 0 \nz\nM 9.421875 75.984375 \nL 18.40625 75.984375 \nL 18.40625 64.59375 \nL 9.421875 64.59375 \nz\n\" id=\"DejaVuSans-105\"/>\n       <path d=\"M 30.609375 48.390625 \nQ 23.390625 48.390625 19.1875 42.75 \nQ 14.984375 37.109375 14.984375 27.296875 \nQ 14.984375 17.484375 19.15625 11.84375 \nQ 23.34375 6.203125 30.609375 6.203125 \nQ 37.796875 6.203125 41.984375 11.859375 \nQ 46.1875 17.53125 46.1875 27.296875 \nQ 46.1875 37.015625 41.984375 42.703125 \nQ 37.796875 48.390625 30.609375 48.390625 \nz\nM 30.609375 56 \nQ 42.328125 56 49.015625 48.375 \nQ 55.71875 40.765625 55.71875 27.296875 \nQ 55.71875 13.875 49.015625 6.21875 \nQ 42.328125 -1.421875 30.609375 -1.421875 \nQ 18.84375 -1.421875 12.171875 6.21875 \nQ 5.515625 13.875 5.515625 27.296875 \nQ 5.515625 40.765625 12.171875 48.375 \nQ 18.84375 56 30.609375 56 \nz\n\" id=\"DejaVuSans-111\"/>\n       <path d=\"M 54.890625 33.015625 \nL 54.890625 0 \nL 45.90625 0 \nL 45.90625 32.71875 \nQ 45.90625 40.484375 42.875 44.328125 \nQ 39.84375 48.1875 33.796875 48.1875 \nQ 26.515625 48.1875 22.3125 43.546875 \nQ 18.109375 38.921875 18.109375 30.90625 \nL 18.109375 0 \nL 9.078125 0 \nL 9.078125 54.6875 \nL 18.109375 54.6875 \nL 18.109375 46.1875 \nQ 21.34375 51.125 25.703125 53.5625 \nQ 30.078125 56 35.796875 56 \nQ 45.21875 56 50.046875 50.171875 \nQ 54.890625 44.34375 54.890625 33.015625 \nz\n\" id=\"DejaVuSans-110\"/>\n       <path d=\"M 25.203125 64.796875 \nL 20.21875 38.921875 \nL 32.90625 38.921875 \nQ 40.375 38.921875 44.984375 43.046875 \nQ 49.609375 47.171875 49.609375 53.8125 \nQ 49.609375 59.125 46.5 61.953125 \nQ 43.40625 64.796875 37.59375 64.796875 \nz\nM 43.3125 35.015625 \nQ 46.4375 34.28125 48.515625 31.390625 \nQ 50.59375 28.515625 53.328125 19.921875 \nL 59.515625 0 \nL 49.125 0 \nL 43.40625 18.703125 \nQ 41.21875 25.921875 38.328125 28.359375 \nQ 35.453125 30.8125 29.5 30.8125 \nL 18.609375 30.8125 \nL 12.59375 0 \nL 2.6875 0 \nL 16.890625 72.90625 \nL 39.109375 72.90625 \nQ 49.21875 72.90625 54.609375 68.328125 \nQ 60.015625 63.765625 60.015625 55.171875 \nQ 60.015625 47.5625 55.421875 41.984375 \nQ 50.828125 36.421875 43.3125 35.015625 \nz\n\" id=\"DejaVuSans-Oblique-82\"/>\n       <path d=\"M 42.28125 54.6875 \nL 40.921875 47.703125 \nL 23 47.703125 \nL 17.1875 18.015625 \nQ 16.890625 16.359375 16.75 15.234375 \nQ 16.609375 14.109375 16.609375 13.484375 \nQ 16.609375 10.359375 18.484375 8.9375 \nQ 20.359375 7.515625 24.515625 7.515625 \nL 33.59375 7.515625 \nL 32.078125 0 \nL 23.484375 0 \nQ 15.484375 0 11.546875 3.125 \nQ 7.625 6.25 7.625 12.59375 \nQ 7.625 13.71875 7.765625 15.0625 \nQ 7.90625 16.40625 8.203125 18.015625 \nL 14.015625 47.703125 \nL 6.390625 47.703125 \nL 7.8125 54.6875 \nL 15.28125 54.6875 \nL 18.3125 70.21875 \nL 27.296875 70.21875 \nL 24.3125 54.6875 \nz\n\" id=\"DejaVuSans-Oblique-116\"/>\n       <path d=\"M 11.71875 12.40625 \nL 22.015625 12.40625 \nL 22.015625 4 \nL 14.015625 -11.625 \nL 7.71875 -11.625 \nL 11.71875 4 \nz\n\" id=\"DejaVuSans-44\"/>\n      </defs>\n      <use transform=\"translate(0 0.015625)\" xlink:href=\"#DejaVuSans-65\"/>\n      <use transform=\"translate(68.408203 0.015625)\" xlink:href=\"#DejaVuSans-118\"/>\n      <use transform=\"translate(127.587891 0.015625)\" xlink:href=\"#DejaVuSans-101\"/>\n      <use transform=\"translate(189.111328 0.015625)\" xlink:href=\"#DejaVuSans-114\"/>\n      <use transform=\"translate(230.224609 0.015625)\" xlink:href=\"#DejaVuSans-97\"/>\n      <use transform=\"translate(291.503906 0.015625)\" xlink:href=\"#DejaVuSans-103\"/>\n      <use transform=\"translate(354.980469 0.015625)\" xlink:href=\"#DejaVuSans-101\"/>\n      <use transform=\"translate(416.503906 0.015625)\" xlink:href=\"#DejaVuSans-32\"/>\n      <use transform=\"translate(448.291016 0.015625)\" xlink:href=\"#DejaVuSans-114\"/>\n      <use transform=\"translate(489.404297 0.015625)\" xlink:href=\"#DejaVuSans-101\"/>\n      <use transform=\"translate(550.927734 0.015625)\" xlink:href=\"#DejaVuSans-100\"/>\n      <use transform=\"translate(614.404297 0.015625)\" xlink:href=\"#DejaVuSans-117\"/>\n      <use transform=\"translate(677.783203 0.015625)\" xlink:href=\"#DejaVuSans-99\"/>\n      <use transform=\"translate(732.763672 0.015625)\" xlink:href=\"#DejaVuSans-116\"/>\n      <use transform=\"translate(771.972656 0.015625)\" xlink:href=\"#DejaVuSans-105\"/>\n      <use transform=\"translate(799.755859 0.015625)\" xlink:href=\"#DejaVuSans-111\"/>\n      <use transform=\"translate(860.9375 0.015625)\" xlink:href=\"#DejaVuSans-110\"/>\n      <use transform=\"translate(924.316406 0.015625)\" xlink:href=\"#DejaVuSans-32\"/>\n      <use transform=\"translate(956.103516 0.015625)\" xlink:href=\"#DejaVuSans-105\"/>\n      <use transform=\"translate(983.886719 0.015625)\" xlink:href=\"#DejaVuSans-110\"/>\n      <use transform=\"translate(1047.265625 0.015625)\" xlink:href=\"#DejaVuSans-32\"/>\n      <use transform=\"translate(1079.052734 0.015625)\" xlink:href=\"#DejaVuSans-Oblique-82\"/>\n      <use transform=\"translate(1148.535156 -16.390625)scale(0.7)\" xlink:href=\"#DejaVuSans-Oblique-116\"/>\n      <use transform=\"translate(1178.71582 0.015625)\" xlink:href=\"#DejaVuSans-44\"/>\n     </g>\n     <!-- in the context of our data -->\n     <g style=\"fill:#262626;\" transform=\"translate(212.08875 214.949)scale(0.08 -0.08)\">\n      <defs>\n       <path d=\"M 54.890625 33.015625 \nL 54.890625 0 \nL 45.90625 0 \nL 45.90625 32.71875 \nQ 45.90625 40.484375 42.875 44.328125 \nQ 39.84375 48.1875 33.796875 48.1875 \nQ 26.515625 48.1875 22.3125 43.546875 \nQ 18.109375 38.921875 18.109375 30.90625 \nL 18.109375 0 \nL 9.078125 0 \nL 9.078125 75.984375 \nL 18.109375 75.984375 \nL 18.109375 46.1875 \nQ 21.34375 51.125 25.703125 53.5625 \nQ 30.078125 56 35.796875 56 \nQ 45.21875 56 50.046875 50.171875 \nQ 54.890625 44.34375 54.890625 33.015625 \nz\n\" id=\"DejaVuSans-104\"/>\n       <path d=\"M 54.890625 54.6875 \nL 35.109375 28.078125 \nL 55.90625 0 \nL 45.3125 0 \nL 29.390625 21.484375 \nL 13.484375 0 \nL 2.875 0 \nL 24.125 28.609375 \nL 4.6875 54.6875 \nL 15.28125 54.6875 \nL 29.78125 35.203125 \nL 44.28125 54.6875 \nz\n\" id=\"DejaVuSans-120\"/>\n       <path d=\"M 37.109375 75.984375 \nL 37.109375 68.5 \nL 28.515625 68.5 \nQ 23.6875 68.5 21.796875 66.546875 \nQ 19.921875 64.59375 19.921875 59.515625 \nL 19.921875 54.6875 \nL 34.71875 54.6875 \nL 34.71875 47.703125 \nL 19.921875 47.703125 \nL 19.921875 0 \nL 10.890625 0 \nL 10.890625 47.703125 \nL 2.296875 47.703125 \nL 2.296875 54.6875 \nL 10.890625 54.6875 \nL 10.890625 58.5 \nQ 10.890625 67.625 15.140625 71.796875 \nQ 19.390625 75.984375 28.609375 75.984375 \nz\n\" id=\"DejaVuSans-102\"/>\n      </defs>\n      <use xlink:href=\"#DejaVuSans-105\"/>\n      <use x=\"27.783203\" xlink:href=\"#DejaVuSans-110\"/>\n      <use x=\"91.162109\" xlink:href=\"#DejaVuSans-32\"/>\n      <use x=\"122.949219\" xlink:href=\"#DejaVuSans-116\"/>\n      <use x=\"162.158203\" xlink:href=\"#DejaVuSans-104\"/>\n      <use x=\"225.537109\" xlink:href=\"#DejaVuSans-101\"/>\n      <use x=\"287.060547\" xlink:href=\"#DejaVuSans-32\"/>\n      <use x=\"318.847656\" xlink:href=\"#DejaVuSans-99\"/>\n      <use x=\"373.828125\" xlink:href=\"#DejaVuSans-111\"/>\n      <use x=\"435.009766\" xlink:href=\"#DejaVuSans-110\"/>\n      <use x=\"498.388672\" xlink:href=\"#DejaVuSans-116\"/>\n      <use x=\"537.597656\" xlink:href=\"#DejaVuSans-101\"/>\n      <use x=\"597.371094\" xlink:href=\"#DejaVuSans-120\"/>\n      <use x=\"656.550781\" xlink:href=\"#DejaVuSans-116\"/>\n      <use x=\"695.759766\" xlink:href=\"#DejaVuSans-32\"/>\n      <use x=\"727.546875\" xlink:href=\"#DejaVuSans-111\"/>\n      <use x=\"788.728516\" xlink:href=\"#DejaVuSans-102\"/>\n      <use x=\"823.933594\" xlink:href=\"#DejaVuSans-32\"/>\n      <use x=\"855.720703\" xlink:href=\"#DejaVuSans-111\"/>\n      <use x=\"916.902344\" xlink:href=\"#DejaVuSans-117\"/>\n      <use x=\"980.28125\" xlink:href=\"#DejaVuSans-114\"/>\n      <use x=\"1021.394531\" xlink:href=\"#DejaVuSans-32\"/>\n      <use x=\"1053.181641\" xlink:href=\"#DejaVuSans-100\"/>\n      <use x=\"1116.658203\" xlink:href=\"#DejaVuSans-97\"/>\n      <use x=\"1177.9375\" xlink:href=\"#DejaVuSans-116\"/>\n      <use x=\"1217.146484\" xlink:href=\"#DejaVuSans-97\"/>\n     </g>\n    </g>\n   </g>\n   <g id=\"matplotlib.axis_2\">\n    <g id=\"ytick_1\">\n     <g id=\"line2d_6\">\n      <defs>\n       <path d=\"M 0 0 \nL -3.5 0 \n\" id=\"m5a4b229dbd\" style=\"stroke:#262626;stroke-width:0.8;\"/>\n      </defs>\n      <g>\n       <use style=\"fill:#262626;stroke:#262626;stroke-width:0.8;\" x=\"130.7\" xlink:href=\"#m5a4b229dbd\" y=\"16.864\"/>\n      </g>\n     </g>\n     <g id=\"text_7\">\n      <!-- Gatherings limited to -->\n      <g style=\"fill:#eb909c;\" transform=\"translate(7.2 16.084117)scale(0.075 -0.075)\">\n       <defs>\n        <path d=\"M 59.515625 10.40625 \nL 59.515625 29.984375 \nL 43.40625 29.984375 \nL 43.40625 38.09375 \nL 69.28125 38.09375 \nL 69.28125 6.78125 \nQ 63.578125 2.734375 56.6875 0.65625 \nQ 49.8125 -1.421875 42 -1.421875 \nQ 24.90625 -1.421875 15.25 8.5625 \nQ 5.609375 18.5625 5.609375 36.375 \nQ 5.609375 54.25 15.25 64.234375 \nQ 24.90625 74.21875 42 74.21875 \nQ 49.125 74.21875 55.546875 72.453125 \nQ 61.96875 70.703125 67.390625 67.28125 \nL 67.390625 56.78125 \nQ 61.921875 61.421875 55.765625 63.765625 \nQ 49.609375 66.109375 42.828125 66.109375 \nQ 29.4375 66.109375 22.71875 58.640625 \nQ 16.015625 51.171875 16.015625 36.375 \nQ 16.015625 21.625 22.71875 14.15625 \nQ 29.4375 6.6875 42.828125 6.6875 \nQ 48.046875 6.6875 52.140625 7.59375 \nQ 56.25 8.5 59.515625 10.40625 \nz\n\" id=\"DejaVuSans-71\"/>\n        <path d=\"M 44.28125 53.078125 \nL 44.28125 44.578125 \nQ 40.484375 46.53125 36.375 47.5 \nQ 32.28125 48.484375 27.875 48.484375 \nQ 21.1875 48.484375 17.84375 46.4375 \nQ 14.5 44.390625 14.5 40.28125 \nQ 14.5 37.15625 16.890625 35.375 \nQ 19.28125 33.59375 26.515625 31.984375 \nL 29.59375 31.296875 \nQ 39.15625 29.25 43.1875 25.515625 \nQ 47.21875 21.78125 47.21875 15.09375 \nQ 47.21875 7.46875 41.1875 3.015625 \nQ 35.15625 -1.421875 24.609375 -1.421875 \nQ 20.21875 -1.421875 15.453125 -0.5625 \nQ 10.6875 0.296875 5.421875 2 \nL 5.421875 11.28125 \nQ 10.40625 8.6875 15.234375 7.390625 \nQ 20.0625 6.109375 24.8125 6.109375 \nQ 31.15625 6.109375 34.5625 8.28125 \nQ 37.984375 10.453125 37.984375 14.40625 \nQ 37.984375 18.0625 35.515625 20.015625 \nQ 33.0625 21.96875 24.703125 23.78125 \nL 21.578125 24.515625 \nQ 13.234375 26.265625 9.515625 29.90625 \nQ 5.8125 33.546875 5.8125 39.890625 \nQ 5.8125 47.609375 11.28125 51.796875 \nQ 16.75 56 26.8125 56 \nQ 31.78125 56 36.171875 55.265625 \nQ 40.578125 54.546875 44.28125 53.078125 \nz\n\" id=\"DejaVuSans-115\"/>\n        <path d=\"M 9.421875 75.984375 \nL 18.40625 75.984375 \nL 18.40625 0 \nL 9.421875 0 \nz\n\" id=\"DejaVuSans-108\"/>\n        <path d=\"M 52 44.1875 \nQ 55.375 50.25 60.0625 53.125 \nQ 64.75 56 71.09375 56 \nQ 79.640625 56 84.28125 50.015625 \nQ 88.921875 44.046875 88.921875 33.015625 \nL 88.921875 0 \nL 79.890625 0 \nL 79.890625 32.71875 \nQ 79.890625 40.578125 77.09375 44.375 \nQ 74.3125 48.1875 68.609375 48.1875 \nQ 61.625 48.1875 57.5625 43.546875 \nQ 53.515625 38.921875 53.515625 30.90625 \nL 53.515625 0 \nL 44.484375 0 \nL 44.484375 32.71875 \nQ 44.484375 40.625 41.703125 44.40625 \nQ 38.921875 48.1875 33.109375 48.1875 \nQ 26.21875 48.1875 22.15625 43.53125 \nQ 18.109375 38.875 18.109375 30.90625 \nL 18.109375 0 \nL 9.078125 0 \nL 9.078125 54.6875 \nL 18.109375 54.6875 \nL 18.109375 46.1875 \nQ 21.1875 51.21875 25.484375 53.609375 \nQ 29.78125 56 35.6875 56 \nQ 41.65625 56 45.828125 52.96875 \nQ 50 49.953125 52 44.1875 \nz\n\" id=\"DejaVuSans-109\"/>\n       </defs>\n       <use xlink:href=\"#DejaVuSans-71\"/>\n       <use x=\"77.490234\" xlink:href=\"#DejaVuSans-97\"/>\n       <use x=\"138.769531\" xlink:href=\"#DejaVuSans-116\"/>\n       <use x=\"177.978516\" xlink:href=\"#DejaVuSans-104\"/>\n       <use x=\"241.357422\" xlink:href=\"#DejaVuSans-101\"/>\n       <use x=\"302.880859\" xlink:href=\"#DejaVuSans-114\"/>\n       <use x=\"343.994141\" xlink:href=\"#DejaVuSans-105\"/>\n       <use x=\"371.777344\" xlink:href=\"#DejaVuSans-110\"/>\n       <use x=\"435.15625\" xlink:href=\"#DejaVuSans-103\"/>\n       <use x=\"498.632812\" xlink:href=\"#DejaVuSans-115\"/>\n       <use x=\"550.732422\" xlink:href=\"#DejaVuSans-32\"/>\n       <use x=\"582.519531\" xlink:href=\"#DejaVuSans-108\"/>\n       <use x=\"610.302734\" xlink:href=\"#DejaVuSans-105\"/>\n       <use x=\"638.085938\" xlink:href=\"#DejaVuSans-109\"/>\n       <use x=\"735.498047\" xlink:href=\"#DejaVuSans-105\"/>\n       <use x=\"763.28125\" xlink:href=\"#DejaVuSans-116\"/>\n       <use x=\"802.490234\" xlink:href=\"#DejaVuSans-101\"/>\n       <use x=\"864.013672\" xlink:href=\"#DejaVuSans-100\"/>\n       <use x=\"927.490234\" xlink:href=\"#DejaVuSans-32\"/>\n       <use x=\"959.277344\" xlink:href=\"#DejaVuSans-116\"/>\n       <use x=\"998.486328\" xlink:href=\"#DejaVuSans-111\"/>\n      </g>\n      <!-- 1000 people or less -->\n      <g style=\"fill:#eb909c;\" transform=\"translate(7.2 24.482477)scale(0.075 -0.075)\">\n       <defs>\n        <path d=\"M 12.40625 8.296875 \nL 28.515625 8.296875 \nL 28.515625 63.921875 \nL 10.984375 60.40625 \nL 10.984375 69.390625 \nL 28.421875 72.90625 \nL 38.28125 72.90625 \nL 38.28125 8.296875 \nL 54.390625 8.296875 \nL 54.390625 0 \nL 12.40625 0 \nz\n\" id=\"DejaVuSans-49\"/>\n        <path d=\"M 18.109375 8.203125 \nL 18.109375 -20.796875 \nL 9.078125 -20.796875 \nL 9.078125 54.6875 \nL 18.109375 54.6875 \nL 18.109375 46.390625 \nQ 20.953125 51.265625 25.265625 53.625 \nQ 29.59375 56 35.59375 56 \nQ 45.5625 56 51.78125 48.09375 \nQ 58.015625 40.1875 58.015625 27.296875 \nQ 58.015625 14.40625 51.78125 6.484375 \nQ 45.5625 -1.421875 35.59375 -1.421875 \nQ 29.59375 -1.421875 25.265625 0.953125 \nQ 20.953125 3.328125 18.109375 8.203125 \nz\nM 48.6875 27.296875 \nQ 48.6875 37.203125 44.609375 42.84375 \nQ 40.53125 48.484375 33.40625 48.484375 \nQ 26.265625 48.484375 22.1875 42.84375 \nQ 18.109375 37.203125 18.109375 27.296875 \nQ 18.109375 17.390625 22.1875 11.75 \nQ 26.265625 6.109375 33.40625 6.109375 \nQ 40.53125 6.109375 44.609375 11.75 \nQ 48.6875 17.390625 48.6875 27.296875 \nz\n\" id=\"DejaVuSans-112\"/>\n       </defs>\n       <use xlink:href=\"#DejaVuSans-49\"/>\n       <use x=\"63.623047\" xlink:href=\"#DejaVuSans-48\"/>\n       <use x=\"127.246094\" xlink:href=\"#DejaVuSans-48\"/>\n       <use x=\"190.869141\" xlink:href=\"#DejaVuSans-48\"/>\n       <use x=\"254.492188\" xlink:href=\"#DejaVuSans-32\"/>\n       <use x=\"286.279297\" xlink:href=\"#DejaVuSans-112\"/>\n       <use x=\"349.755859\" xlink:href=\"#DejaVuSans-101\"/>\n       <use x=\"411.279297\" xlink:href=\"#DejaVuSans-111\"/>\n       <use x=\"472.460938\" xlink:href=\"#DejaVuSans-112\"/>\n       <use x=\"535.9375\" xlink:href=\"#DejaVuSans-108\"/>\n       <use x=\"563.720703\" xlink:href=\"#DejaVuSans-101\"/>\n       <use x=\"625.244141\" xlink:href=\"#DejaVuSans-32\"/>\n       <use x=\"657.03125\" xlink:href=\"#DejaVuSans-111\"/>\n       <use x=\"718.212891\" xlink:href=\"#DejaVuSans-114\"/>\n       <use x=\"759.326172\" xlink:href=\"#DejaVuSans-32\"/>\n       <use x=\"791.113281\" xlink:href=\"#DejaVuSans-108\"/>\n       <use x=\"818.896484\" xlink:href=\"#DejaVuSans-101\"/>\n       <use x=\"880.419922\" xlink:href=\"#DejaVuSans-115\"/>\n       <use x=\"932.519531\" xlink:href=\"#DejaVuSans-115\"/>\n      </g>\n     </g>\n    </g>\n    <g id=\"ytick_2\">\n     <g id=\"line2d_7\">\n      <g>\n       <use style=\"fill:#262626;stroke:#262626;stroke-width:0.8;\" x=\"130.7\" xlink:href=\"#m5a4b229dbd\" y=\"36.192\"/>\n      </g>\n     </g>\n     <g id=\"text_8\">\n      <!-- Gatherings limited to -->\n      <g style=\"fill:#ab4a57;\" transform=\"translate(7.2 35.412117)scale(0.075 -0.075)\">\n       <use xlink:href=\"#DejaVuSans-71\"/>\n       <use x=\"77.490234\" xlink:href=\"#DejaVuSans-97\"/>\n       <use x=\"138.769531\" xlink:href=\"#DejaVuSans-116\"/>\n       <use x=\"177.978516\" xlink:href=\"#DejaVuSans-104\"/>\n       <use x=\"241.357422\" xlink:href=\"#DejaVuSans-101\"/>\n       <use x=\"302.880859\" xlink:href=\"#DejaVuSans-114\"/>\n       <use x=\"343.994141\" xlink:href=\"#DejaVuSans-105\"/>\n       <use x=\"371.777344\" xlink:href=\"#DejaVuSans-110\"/>\n       <use x=\"435.15625\" xlink:href=\"#DejaVuSans-103\"/>\n       <use x=\"498.632812\" xlink:href=\"#DejaVuSans-115\"/>\n       <use x=\"550.732422\" xlink:href=\"#DejaVuSans-32\"/>\n       <use x=\"582.519531\" xlink:href=\"#DejaVuSans-108\"/>\n       <use x=\"610.302734\" xlink:href=\"#DejaVuSans-105\"/>\n       <use x=\"638.085938\" xlink:href=\"#DejaVuSans-109\"/>\n       <use x=\"735.498047\" xlink:href=\"#DejaVuSans-105\"/>\n       <use x=\"763.28125\" xlink:href=\"#DejaVuSans-116\"/>\n       <use x=\"802.490234\" xlink:href=\"#DejaVuSans-101\"/>\n       <use x=\"864.013672\" xlink:href=\"#DejaVuSans-100\"/>\n       <use x=\"927.490234\" xlink:href=\"#DejaVuSans-32\"/>\n       <use x=\"959.277344\" xlink:href=\"#DejaVuSans-116\"/>\n       <use x=\"998.486328\" xlink:href=\"#DejaVuSans-111\"/>\n      </g>\n      <!-- 100 people or less -->\n      <g style=\"fill:#ab4a57;\" transform=\"translate(7.2 43.810477)scale(0.075 -0.075)\">\n       <use xlink:href=\"#DejaVuSans-49\"/>\n       <use x=\"63.623047\" xlink:href=\"#DejaVuSans-48\"/>\n       <use x=\"127.246094\" xlink:href=\"#DejaVuSans-48\"/>\n       <use x=\"190.869141\" xlink:href=\"#DejaVuSans-32\"/>\n       <use x=\"222.65625\" xlink:href=\"#DejaVuSans-112\"/>\n       <use x=\"286.132812\" xlink:href=\"#DejaVuSans-101\"/>\n       <use x=\"347.65625\" xlink:href=\"#DejaVuSans-111\"/>\n       <use x=\"408.837891\" xlink:href=\"#DejaVuSans-112\"/>\n       <use x=\"472.314453\" xlink:href=\"#DejaVuSans-108\"/>\n       <use x=\"500.097656\" xlink:href=\"#DejaVuSans-101\"/>\n       <use x=\"561.621094\" xlink:href=\"#DejaVuSans-32\"/>\n       <use x=\"593.408203\" xlink:href=\"#DejaVuSans-111\"/>\n       <use x=\"654.589844\" xlink:href=\"#DejaVuSans-114\"/>\n       <use x=\"695.703125\" xlink:href=\"#DejaVuSans-32\"/>\n       <use x=\"727.490234\" xlink:href=\"#DejaVuSans-108\"/>\n       <use x=\"755.273438\" xlink:href=\"#DejaVuSans-101\"/>\n       <use x=\"816.796875\" xlink:href=\"#DejaVuSans-115\"/>\n       <use x=\"868.896484\" xlink:href=\"#DejaVuSans-115\"/>\n      </g>\n     </g>\n    </g>\n    <g id=\"ytick_3\">\n     <g id=\"line2d_8\">\n      <g>\n       <use style=\"fill:#262626;stroke:#262626;stroke-width:0.8;\" x=\"130.7\" xlink:href=\"#m5a4b229dbd\" y=\"55.52\"/>\n      </g>\n     </g>\n     <g id=\"text_9\">\n      <!-- Gatherings limited to -->\n      <g style=\"fill:#361603;\" transform=\"translate(7.2 54.740117)scale(0.075 -0.075)\">\n       <use xlink:href=\"#DejaVuSans-71\"/>\n       <use x=\"77.490234\" xlink:href=\"#DejaVuSans-97\"/>\n       <use x=\"138.769531\" xlink:href=\"#DejaVuSans-116\"/>\n       <use x=\"177.978516\" xlink:href=\"#DejaVuSans-104\"/>\n       <use x=\"241.357422\" xlink:href=\"#DejaVuSans-101\"/>\n       <use x=\"302.880859\" xlink:href=\"#DejaVuSans-114\"/>\n       <use x=\"343.994141\" xlink:href=\"#DejaVuSans-105\"/>\n       <use x=\"371.777344\" xlink:href=\"#DejaVuSans-110\"/>\n       <use x=\"435.15625\" xlink:href=\"#DejaVuSans-103\"/>\n       <use x=\"498.632812\" xlink:href=\"#DejaVuSans-115\"/>\n       <use x=\"550.732422\" xlink:href=\"#DejaVuSans-32\"/>\n       <use x=\"582.519531\" xlink:href=\"#DejaVuSans-108\"/>\n       <use x=\"610.302734\" xlink:href=\"#DejaVuSans-105\"/>\n       <use x=\"638.085938\" xlink:href=\"#DejaVuSans-109\"/>\n       <use x=\"735.498047\" xlink:href=\"#DejaVuSans-105\"/>\n       <use x=\"763.28125\" xlink:href=\"#DejaVuSans-116\"/>\n       <use x=\"802.490234\" xlink:href=\"#DejaVuSans-101\"/>\n       <use x=\"864.013672\" xlink:href=\"#DejaVuSans-100\"/>\n       <use x=\"927.490234\" xlink:href=\"#DejaVuSans-32\"/>\n       <use x=\"959.277344\" xlink:href=\"#DejaVuSans-116\"/>\n       <use x=\"998.486328\" xlink:href=\"#DejaVuSans-111\"/>\n      </g>\n      <!-- 10 people or less -->\n      <g style=\"fill:#361603;\" transform=\"translate(7.2 63.138477)scale(0.075 -0.075)\">\n       <use xlink:href=\"#DejaVuSans-49\"/>\n       <use x=\"63.623047\" xlink:href=\"#DejaVuSans-48\"/>\n       <use x=\"127.246094\" xlink:href=\"#DejaVuSans-32\"/>\n       <use x=\"159.033203\" xlink:href=\"#DejaVuSans-112\"/>\n       <use x=\"222.509766\" xlink:href=\"#DejaVuSans-101\"/>\n       <use x=\"284.033203\" xlink:href=\"#DejaVuSans-111\"/>\n       <use x=\"345.214844\" xlink:href=\"#DejaVuSans-112\"/>\n       <use x=\"408.691406\" xlink:href=\"#DejaVuSans-108\"/>\n       <use x=\"436.474609\" xlink:href=\"#DejaVuSans-101\"/>\n       <use x=\"497.998047\" xlink:href=\"#DejaVuSans-32\"/>\n       <use x=\"529.785156\" xlink:href=\"#DejaVuSans-111\"/>\n       <use x=\"590.966797\" xlink:href=\"#DejaVuSans-114\"/>\n       <use x=\"632.080078\" xlink:href=\"#DejaVuSans-32\"/>\n       <use x=\"663.867188\" xlink:href=\"#DejaVuSans-108\"/>\n       <use x=\"691.650391\" xlink:href=\"#DejaVuSans-101\"/>\n       <use x=\"753.173828\" xlink:href=\"#DejaVuSans-115\"/>\n       <use x=\"805.273438\" xlink:href=\"#DejaVuSans-115\"/>\n      </g>\n     </g>\n    </g>\n    <g id=\"ytick_4\">\n     <g id=\"line2d_9\">\n      <g>\n       <use style=\"fill:#262626;stroke:#262626;stroke-width:0.8;\" x=\"130.7\" xlink:href=\"#m5a4b229dbd\" y=\"74.848\"/>\n      </g>\n     </g>\n     <g id=\"text_10\">\n      <!-- Some businesses -->\n      <g style=\"fill:#51816b;\" transform=\"translate(7.2 74.068117)scale(0.075 -0.075)\">\n       <defs>\n        <path d=\"M 53.515625 70.515625 \nL 53.515625 60.890625 \nQ 47.90625 63.578125 42.921875 64.890625 \nQ 37.9375 66.21875 33.296875 66.21875 \nQ 25.25 66.21875 20.875 63.09375 \nQ 16.5 59.96875 16.5 54.203125 \nQ 16.5 49.359375 19.40625 46.890625 \nQ 22.3125 44.4375 30.421875 42.921875 \nL 36.375 41.703125 \nQ 47.40625 39.59375 52.65625 34.296875 \nQ 57.90625 29 57.90625 20.125 \nQ 57.90625 9.515625 50.796875 4.046875 \nQ 43.703125 -1.421875 29.984375 -1.421875 \nQ 24.8125 -1.421875 18.96875 -0.25 \nQ 13.140625 0.921875 6.890625 3.21875 \nL 6.890625 13.375 \nQ 12.890625 10.015625 18.65625 8.296875 \nQ 24.421875 6.59375 29.984375 6.59375 \nQ 38.421875 6.59375 43.015625 9.90625 \nQ 47.609375 13.234375 47.609375 19.390625 \nQ 47.609375 24.75 44.3125 27.78125 \nQ 41.015625 30.8125 33.5 32.328125 \nL 27.484375 33.5 \nQ 16.453125 35.6875 11.515625 40.375 \nQ 6.59375 45.0625 6.59375 53.421875 \nQ 6.59375 63.09375 13.40625 68.65625 \nQ 20.21875 74.21875 32.171875 74.21875 \nQ 37.3125 74.21875 42.625 73.28125 \nQ 47.953125 72.359375 53.515625 70.515625 \nz\n\" id=\"DejaVuSans-83\"/>\n        <path d=\"M 48.6875 27.296875 \nQ 48.6875 37.203125 44.609375 42.84375 \nQ 40.53125 48.484375 33.40625 48.484375 \nQ 26.265625 48.484375 22.1875 42.84375 \nQ 18.109375 37.203125 18.109375 27.296875 \nQ 18.109375 17.390625 22.1875 11.75 \nQ 26.265625 6.109375 33.40625 6.109375 \nQ 40.53125 6.109375 44.609375 11.75 \nQ 48.6875 17.390625 48.6875 27.296875 \nz\nM 18.109375 46.390625 \nQ 20.953125 51.265625 25.265625 53.625 \nQ 29.59375 56 35.59375 56 \nQ 45.5625 56 51.78125 48.09375 \nQ 58.015625 40.1875 58.015625 27.296875 \nQ 58.015625 14.40625 51.78125 6.484375 \nQ 45.5625 -1.421875 35.59375 -1.421875 \nQ 29.59375 -1.421875 25.265625 0.953125 \nQ 20.953125 3.328125 18.109375 8.203125 \nL 18.109375 0 \nL 9.078125 0 \nL 9.078125 75.984375 \nL 18.109375 75.984375 \nz\n\" id=\"DejaVuSans-98\"/>\n       </defs>\n       <use xlink:href=\"#DejaVuSans-83\"/>\n       <use x=\"63.476562\" xlink:href=\"#DejaVuSans-111\"/>\n       <use x=\"124.658203\" xlink:href=\"#DejaVuSans-109\"/>\n       <use x=\"222.070312\" xlink:href=\"#DejaVuSans-101\"/>\n       <use x=\"283.59375\" xlink:href=\"#DejaVuSans-32\"/>\n       <use x=\"315.380859\" xlink:href=\"#DejaVuSans-98\"/>\n       <use x=\"378.857422\" xlink:href=\"#DejaVuSans-117\"/>\n       <use x=\"442.236328\" xlink:href=\"#DejaVuSans-115\"/>\n       <use x=\"494.335938\" xlink:href=\"#DejaVuSans-105\"/>\n       <use x=\"522.119141\" xlink:href=\"#DejaVuSans-110\"/>\n       <use x=\"585.498047\" xlink:href=\"#DejaVuSans-101\"/>\n       <use x=\"647.021484\" xlink:href=\"#DejaVuSans-115\"/>\n       <use x=\"699.121094\" xlink:href=\"#DejaVuSans-115\"/>\n       <use x=\"751.220703\" xlink:href=\"#DejaVuSans-101\"/>\n       <use x=\"812.744141\" xlink:href=\"#DejaVuSans-115\"/>\n      </g>\n      <!-- closed -->\n      <g style=\"fill:#51816b;\" transform=\"translate(7.2 82.466477)scale(0.075 -0.075)\">\n       <use xlink:href=\"#DejaVuSans-99\"/>\n       <use x=\"54.980469\" xlink:href=\"#DejaVuSans-108\"/>\n       <use x=\"82.763672\" xlink:href=\"#DejaVuSans-111\"/>\n       <use x=\"143.945312\" xlink:href=\"#DejaVuSans-115\"/>\n       <use x=\"196.044922\" xlink:href=\"#DejaVuSans-101\"/>\n       <use x=\"257.568359\" xlink:href=\"#DejaVuSans-100\"/>\n      </g>\n     </g>\n    </g>\n    <g id=\"ytick_5\">\n     <g id=\"line2d_10\">\n      <g>\n       <use style=\"fill:#262626;stroke:#262626;stroke-width:0.8;\" x=\"130.7\" xlink:href=\"#m5a4b229dbd\" y=\"94.176\"/>\n      </g>\n     </g>\n     <g id=\"text_11\">\n      <!-- Most nonessential -->\n      <g style=\"fill:#15321c;\" transform=\"translate(7.2 93.396117)scale(0.075 -0.075)\">\n       <defs>\n        <path d=\"M 9.8125 72.90625 \nL 24.515625 72.90625 \nL 43.109375 23.296875 \nL 61.8125 72.90625 \nL 76.515625 72.90625 \nL 76.515625 0 \nL 66.890625 0 \nL 66.890625 64.015625 \nL 48.09375 14.015625 \nL 38.1875 14.015625 \nL 19.390625 64.015625 \nL 19.390625 0 \nL 9.8125 0 \nz\n\" id=\"DejaVuSans-77\"/>\n       </defs>\n       <use xlink:href=\"#DejaVuSans-77\"/>\n       <use x=\"86.279297\" xlink:href=\"#DejaVuSans-111\"/>\n       <use x=\"147.460938\" xlink:href=\"#DejaVuSans-115\"/>\n       <use x=\"199.560547\" xlink:href=\"#DejaVuSans-116\"/>\n       <use x=\"238.769531\" xlink:href=\"#DejaVuSans-32\"/>\n       <use x=\"270.556641\" xlink:href=\"#DejaVuSans-110\"/>\n       <use x=\"333.935547\" xlink:href=\"#DejaVuSans-111\"/>\n       <use x=\"395.117188\" xlink:href=\"#DejaVuSans-110\"/>\n       <use x=\"458.496094\" xlink:href=\"#DejaVuSans-101\"/>\n       <use x=\"520.019531\" xlink:href=\"#DejaVuSans-115\"/>\n       <use x=\"572.119141\" xlink:href=\"#DejaVuSans-115\"/>\n       <use x=\"624.21875\" xlink:href=\"#DejaVuSans-101\"/>\n       <use x=\"685.742188\" xlink:href=\"#DejaVuSans-110\"/>\n       <use x=\"749.121094\" xlink:href=\"#DejaVuSans-116\"/>\n       <use x=\"788.330078\" xlink:href=\"#DejaVuSans-105\"/>\n       <use x=\"816.113281\" xlink:href=\"#DejaVuSans-97\"/>\n       <use x=\"877.392578\" xlink:href=\"#DejaVuSans-108\"/>\n      </g>\n      <!-- businesses closed -->\n      <g style=\"fill:#15321c;\" transform=\"translate(7.2 101.794477)scale(0.075 -0.075)\">\n       <use xlink:href=\"#DejaVuSans-98\"/>\n       <use x=\"63.476562\" xlink:href=\"#DejaVuSans-117\"/>\n       <use x=\"126.855469\" xlink:href=\"#DejaVuSans-115\"/>\n       <use x=\"178.955078\" xlink:href=\"#DejaVuSans-105\"/>\n       <use x=\"206.738281\" xlink:href=\"#DejaVuSans-110\"/>\n       <use x=\"270.117188\" xlink:href=\"#DejaVuSans-101\"/>\n       <use x=\"331.640625\" xlink:href=\"#DejaVuSans-115\"/>\n       <use x=\"383.740234\" xlink:href=\"#DejaVuSans-115\"/>\n       <use x=\"435.839844\" xlink:href=\"#DejaVuSans-101\"/>\n       <use x=\"497.363281\" xlink:href=\"#DejaVuSans-115\"/>\n       <use x=\"549.462891\" xlink:href=\"#DejaVuSans-32\"/>\n       <use x=\"581.25\" xlink:href=\"#DejaVuSans-99\"/>\n       <use x=\"636.230469\" xlink:href=\"#DejaVuSans-108\"/>\n       <use x=\"664.013672\" xlink:href=\"#DejaVuSans-111\"/>\n       <use x=\"725.195312\" xlink:href=\"#DejaVuSans-115\"/>\n       <use x=\"777.294922\" xlink:href=\"#DejaVuSans-101\"/>\n       <use x=\"838.818359\" xlink:href=\"#DejaVuSans-100\"/>\n      </g>\n     </g>\n    </g>\n    <g id=\"ytick_6\">\n     <g id=\"line2d_11\">\n      <g>\n       <use style=\"fill:#262626;stroke:#262626;stroke-width:0.8;\" x=\"130.7\" xlink:href=\"#m5a4b229dbd\" y=\"113.504\"/>\n      </g>\n     </g>\n     <g id=\"text_12\">\n      <!-- Schools closed -->\n      <g style=\"fill:#195d94;\" transform=\"translate(7.2 116.353414)scale(0.075 -0.075)\">\n       <use xlink:href=\"#DejaVuSans-83\"/>\n       <use x=\"63.476562\" xlink:href=\"#DejaVuSans-99\"/>\n       <use x=\"118.457031\" xlink:href=\"#DejaVuSans-104\"/>\n       <use x=\"181.835938\" xlink:href=\"#DejaVuSans-111\"/>\n       <use x=\"243.017578\" xlink:href=\"#DejaVuSans-111\"/>\n       <use x=\"304.199219\" xlink:href=\"#DejaVuSans-108\"/>\n       <use x=\"331.982422\" xlink:href=\"#DejaVuSans-115\"/>\n       <use x=\"384.082031\" xlink:href=\"#DejaVuSans-32\"/>\n       <use x=\"415.869141\" xlink:href=\"#DejaVuSans-99\"/>\n       <use x=\"470.849609\" xlink:href=\"#DejaVuSans-108\"/>\n       <use x=\"498.632812\" xlink:href=\"#DejaVuSans-111\"/>\n       <use x=\"559.814453\" xlink:href=\"#DejaVuSans-115\"/>\n       <use x=\"611.914062\" xlink:href=\"#DejaVuSans-101\"/>\n       <use x=\"673.4375\" xlink:href=\"#DejaVuSans-100\"/>\n      </g>\n     </g>\n    </g>\n    <g id=\"ytick_7\">\n     <g id=\"line2d_12\">\n      <g>\n       <use style=\"fill:#262626;stroke:#262626;stroke-width:0.8;\" x=\"130.7\" xlink:href=\"#m5a4b229dbd\" y=\"132.832\"/>\n      </g>\n     </g>\n     <g id=\"text_13\">\n      <!-- Schools and universities -->\n      <g style=\"fill:#003866;\" transform=\"translate(7.2 132.052117)scale(0.075 -0.075)\">\n       <use xlink:href=\"#DejaVuSans-83\"/>\n       <use x=\"63.476562\" xlink:href=\"#DejaVuSans-99\"/>\n       <use x=\"118.457031\" xlink:href=\"#DejaVuSans-104\"/>\n       <use x=\"181.835938\" xlink:href=\"#DejaVuSans-111\"/>\n       <use x=\"243.017578\" xlink:href=\"#DejaVuSans-111\"/>\n       <use x=\"304.199219\" xlink:href=\"#DejaVuSans-108\"/>\n       <use x=\"331.982422\" xlink:href=\"#DejaVuSans-115\"/>\n       <use x=\"384.082031\" xlink:href=\"#DejaVuSans-32\"/>\n       <use x=\"415.869141\" xlink:href=\"#DejaVuSans-97\"/>\n       <use x=\"477.148438\" xlink:href=\"#DejaVuSans-110\"/>\n       <use x=\"540.527344\" xlink:href=\"#DejaVuSans-100\"/>\n       <use x=\"604.003906\" xlink:href=\"#DejaVuSans-32\"/>\n       <use x=\"635.791016\" xlink:href=\"#DejaVuSans-117\"/>\n       <use x=\"699.169922\" xlink:href=\"#DejaVuSans-110\"/>\n       <use x=\"762.548828\" xlink:href=\"#DejaVuSans-105\"/>\n       <use x=\"790.332031\" xlink:href=\"#DejaVuSans-118\"/>\n       <use x=\"849.511719\" xlink:href=\"#DejaVuSans-101\"/>\n       <use x=\"911.035156\" xlink:href=\"#DejaVuSans-114\"/>\n       <use x=\"952.148438\" xlink:href=\"#DejaVuSans-115\"/>\n       <use x=\"1004.248047\" xlink:href=\"#DejaVuSans-105\"/>\n       <use x=\"1032.03125\" xlink:href=\"#DejaVuSans-116\"/>\n       <use x=\"1071.240234\" xlink:href=\"#DejaVuSans-105\"/>\n       <use x=\"1099.023438\" xlink:href=\"#DejaVuSans-101\"/>\n       <use x=\"1160.546875\" xlink:href=\"#DejaVuSans-115\"/>\n      </g>\n      <!-- closed -->\n      <g style=\"fill:#003866;\" transform=\"translate(7.2 140.450477)scale(0.075 -0.075)\">\n       <use xlink:href=\"#DejaVuSans-99\"/>\n       <use x=\"54.980469\" xlink:href=\"#DejaVuSans-108\"/>\n       <use x=\"82.763672\" xlink:href=\"#DejaVuSans-111\"/>\n       <use x=\"143.945312\" xlink:href=\"#DejaVuSans-115\"/>\n       <use x=\"196.044922\" xlink:href=\"#DejaVuSans-101\"/>\n       <use x=\"257.568359\" xlink:href=\"#DejaVuSans-100\"/>\n      </g>\n     </g>\n    </g>\n    <g id=\"ytick_8\">\n     <g id=\"line2d_13\">\n      <g>\n       <use style=\"fill:#262626;stroke:#262626;stroke-width:0.8;\" x=\"130.7\" xlink:href=\"#m5a4b229dbd\" y=\"152.16\"/>\n      </g>\n     </g>\n     <g id=\"text_14\">\n      <!-- Additional effect of -->\n      <g style=\"fill:#cd6000;\" transform=\"translate(7.2 151.380117)scale(0.075 -0.075)\">\n       <use xlink:href=\"#DejaVuSans-65\"/>\n       <use x=\"66.658203\" xlink:href=\"#DejaVuSans-100\"/>\n       <use x=\"130.134766\" xlink:href=\"#DejaVuSans-100\"/>\n       <use x=\"193.611328\" xlink:href=\"#DejaVuSans-105\"/>\n       <use x=\"221.394531\" xlink:href=\"#DejaVuSans-116\"/>\n       <use x=\"260.603516\" xlink:href=\"#DejaVuSans-105\"/>\n       <use x=\"288.386719\" xlink:href=\"#DejaVuSans-111\"/>\n       <use x=\"349.568359\" xlink:href=\"#DejaVuSans-110\"/>\n       <use x=\"412.947266\" xlink:href=\"#DejaVuSans-97\"/>\n       <use x=\"474.226562\" xlink:href=\"#DejaVuSans-108\"/>\n       <use x=\"502.009766\" xlink:href=\"#DejaVuSans-32\"/>\n       <use x=\"533.796875\" xlink:href=\"#DejaVuSans-101\"/>\n       <use x=\"595.320312\" xlink:href=\"#DejaVuSans-102\"/>\n       <use x=\"630.525391\" xlink:href=\"#DejaVuSans-102\"/>\n       <use x=\"665.730469\" xlink:href=\"#DejaVuSans-101\"/>\n       <use x=\"727.253906\" xlink:href=\"#DejaVuSans-99\"/>\n       <use x=\"782.234375\" xlink:href=\"#DejaVuSans-116\"/>\n       <use x=\"821.443359\" xlink:href=\"#DejaVuSans-32\"/>\n       <use x=\"853.230469\" xlink:href=\"#DejaVuSans-111\"/>\n       <use x=\"914.412109\" xlink:href=\"#DejaVuSans-102\"/>\n      </g>\n      <!-- stay at home order -->\n      <g style=\"fill:#cd6000;\" transform=\"translate(7.2 159.778477)scale(0.075 -0.075)\">\n       <defs>\n        <path d=\"M 32.171875 -5.078125 \nQ 28.375 -14.84375 24.75 -17.8125 \nQ 21.140625 -20.796875 15.09375 -20.796875 \nL 7.90625 -20.796875 \nL 7.90625 -13.28125 \nL 13.1875 -13.28125 \nQ 16.890625 -13.28125 18.9375 -11.515625 \nQ 21 -9.765625 23.484375 -3.21875 \nL 25.09375 0.875 \nL 2.984375 54.6875 \nL 12.5 54.6875 \nL 29.59375 11.921875 \nL 46.6875 54.6875 \nL 56.203125 54.6875 \nz\n\" id=\"DejaVuSans-121\"/>\n       </defs>\n       <use xlink:href=\"#DejaVuSans-115\"/>\n       <use x=\"52.099609\" xlink:href=\"#DejaVuSans-116\"/>\n       <use x=\"91.308594\" xlink:href=\"#DejaVuSans-97\"/>\n       <use x=\"152.587891\" xlink:href=\"#DejaVuSans-121\"/>\n       <use x=\"211.767578\" xlink:href=\"#DejaVuSans-32\"/>\n       <use x=\"243.554688\" xlink:href=\"#DejaVuSans-97\"/>\n       <use x=\"304.833984\" xlink:href=\"#DejaVuSans-116\"/>\n       <use x=\"344.042969\" xlink:href=\"#DejaVuSans-32\"/>\n       <use x=\"375.830078\" xlink:href=\"#DejaVuSans-104\"/>\n       <use x=\"439.208984\" xlink:href=\"#DejaVuSans-111\"/>\n       <use x=\"500.390625\" xlink:href=\"#DejaVuSans-109\"/>\n       <use x=\"597.802734\" xlink:href=\"#DejaVuSans-101\"/>\n       <use x=\"659.326172\" xlink:href=\"#DejaVuSans-32\"/>\n       <use x=\"691.113281\" xlink:href=\"#DejaVuSans-111\"/>\n       <use x=\"752.294922\" xlink:href=\"#DejaVuSans-114\"/>\n       <use x=\"791.658203\" xlink:href=\"#DejaVuSans-100\"/>\n       <use x=\"855.134766\" xlink:href=\"#DejaVuSans-101\"/>\n       <use x=\"916.658203\" xlink:href=\"#DejaVuSans-114\"/>\n      </g>\n     </g>\n    </g>\n    <g id=\"ytick_9\">\n     <g id=\"line2d_14\">\n      <g>\n       <use style=\"fill:#262626;stroke:#262626;stroke-width:0.8;\" x=\"130.7\" xlink:href=\"#m5a4b229dbd\" y=\"171.488\"/>\n      </g>\n     </g>\n     <g id=\"text_15\">\n      <!-- Seasonality -->\n      <g transform=\"translate(7.2 170.708117)scale(0.075 -0.075)\">\n       <use xlink:href=\"#DejaVuSans-83\"/>\n       <use x=\"63.476562\" xlink:href=\"#DejaVuSans-101\"/>\n       <use x=\"125\" xlink:href=\"#DejaVuSans-97\"/>\n       <use x=\"186.279297\" xlink:href=\"#DejaVuSans-115\"/>\n       <use x=\"238.378906\" xlink:href=\"#DejaVuSans-111\"/>\n       <use x=\"299.560547\" xlink:href=\"#DejaVuSans-110\"/>\n       <use x=\"362.939453\" xlink:href=\"#DejaVuSans-97\"/>\n       <use x=\"424.21875\" xlink:href=\"#DejaVuSans-108\"/>\n       <use x=\"452.001953\" xlink:href=\"#DejaVuSans-105\"/>\n       <use x=\"479.785156\" xlink:href=\"#DejaVuSans-116\"/>\n       <use x=\"518.994141\" xlink:href=\"#DejaVuSans-121\"/>\n      </g>\n      <!-- (peak R inc. on Jan 1) -->\n      <g transform=\"translate(7.2 179.106477)scale(0.075 -0.075)\">\n       <defs>\n        <path d=\"M 31 75.875 \nQ 24.46875 64.65625 21.28125 53.65625 \nQ 18.109375 42.671875 18.109375 31.390625 \nQ 18.109375 20.125 21.3125 9.0625 \nQ 24.515625 -2 31 -13.1875 \nL 23.1875 -13.1875 \nQ 15.875 -1.703125 12.234375 9.375 \nQ 8.59375 20.453125 8.59375 31.390625 \nQ 8.59375 42.28125 12.203125 53.3125 \nQ 15.828125 64.359375 23.1875 75.875 \nz\n\" id=\"DejaVuSans-40\"/>\n        <path d=\"M 9.078125 75.984375 \nL 18.109375 75.984375 \nL 18.109375 31.109375 \nL 44.921875 54.6875 \nL 56.390625 54.6875 \nL 27.390625 29.109375 \nL 57.625 0 \nL 45.90625 0 \nL 18.109375 26.703125 \nL 18.109375 0 \nL 9.078125 0 \nz\n\" id=\"DejaVuSans-107\"/>\n        <path d=\"M 44.390625 34.1875 \nQ 47.5625 33.109375 50.5625 29.59375 \nQ 53.5625 26.078125 56.59375 19.921875 \nL 66.609375 0 \nL 56 0 \nL 46.6875 18.703125 \nQ 43.0625 26.03125 39.671875 28.421875 \nQ 36.28125 30.8125 30.421875 30.8125 \nL 19.671875 30.8125 \nL 19.671875 0 \nL 9.8125 0 \nL 9.8125 72.90625 \nL 32.078125 72.90625 \nQ 44.578125 72.90625 50.734375 67.671875 \nQ 56.890625 62.453125 56.890625 51.90625 \nQ 56.890625 45.015625 53.6875 40.46875 \nQ 50.484375 35.9375 44.390625 34.1875 \nz\nM 19.671875 64.796875 \nL 19.671875 38.921875 \nL 32.078125 38.921875 \nQ 39.203125 38.921875 42.84375 42.21875 \nQ 46.484375 45.515625 46.484375 51.90625 \nQ 46.484375 58.296875 42.84375 61.546875 \nQ 39.203125 64.796875 32.078125 64.796875 \nz\n\" id=\"DejaVuSans-82\"/>\n        <path d=\"M 10.6875 12.40625 \nL 21 12.40625 \nL 21 0 \nL 10.6875 0 \nz\n\" id=\"DejaVuSans-46\"/>\n        <path d=\"M 9.8125 72.90625 \nL 19.671875 72.90625 \nL 19.671875 5.078125 \nQ 19.671875 -8.109375 14.671875 -14.0625 \nQ 9.671875 -20.015625 -1.421875 -20.015625 \nL -5.171875 -20.015625 \nL -5.171875 -11.71875 \nL -2.09375 -11.71875 \nQ 4.4375 -11.71875 7.125 -8.046875 \nQ 9.8125 -4.390625 9.8125 5.078125 \nz\n\" id=\"DejaVuSans-74\"/>\n        <path d=\"M 8.015625 75.875 \nL 15.828125 75.875 \nQ 23.140625 64.359375 26.78125 53.3125 \nQ 30.421875 42.28125 30.421875 31.390625 \nQ 30.421875 20.453125 26.78125 9.375 \nQ 23.140625 -1.703125 15.828125 -13.1875 \nL 8.015625 -13.1875 \nQ 14.5 -2 17.703125 9.0625 \nQ 20.90625 20.125 20.90625 31.390625 \nQ 20.90625 42.671875 17.703125 53.65625 \nQ 14.5 64.65625 8.015625 75.875 \nz\n\" id=\"DejaVuSans-41\"/>\n       </defs>\n       <use xlink:href=\"#DejaVuSans-40\"/>\n       <use x=\"39.013672\" xlink:href=\"#DejaVuSans-112\"/>\n       <use x=\"102.490234\" xlink:href=\"#DejaVuSans-101\"/>\n       <use x=\"164.013672\" xlink:href=\"#DejaVuSans-97\"/>\n       <use x=\"225.292969\" xlink:href=\"#DejaVuSans-107\"/>\n       <use x=\"283.203125\" xlink:href=\"#DejaVuSans-32\"/>\n       <use x=\"314.990234\" xlink:href=\"#DejaVuSans-82\"/>\n       <use x=\"384.472656\" xlink:href=\"#DejaVuSans-32\"/>\n       <use x=\"416.259766\" xlink:href=\"#DejaVuSans-105\"/>\n       <use x=\"444.042969\" xlink:href=\"#DejaVuSans-110\"/>\n       <use x=\"507.421875\" xlink:href=\"#DejaVuSans-99\"/>\n       <use x=\"562.402344\" xlink:href=\"#DejaVuSans-46\"/>\n       <use x=\"594.189453\" xlink:href=\"#DejaVuSans-32\"/>\n       <use x=\"625.976562\" xlink:href=\"#DejaVuSans-111\"/>\n       <use x=\"687.158203\" xlink:href=\"#DejaVuSans-110\"/>\n       <use x=\"750.537109\" xlink:href=\"#DejaVuSans-32\"/>\n       <use x=\"782.324219\" xlink:href=\"#DejaVuSans-74\"/>\n       <use x=\"811.816406\" xlink:href=\"#DejaVuSans-97\"/>\n       <use x=\"873.095703\" xlink:href=\"#DejaVuSans-110\"/>\n       <use x=\"936.474609\" xlink:href=\"#DejaVuSans-32\"/>\n       <use x=\"968.261719\" xlink:href=\"#DejaVuSans-49\"/>\n       <use x=\"1031.884766\" xlink:href=\"#DejaVuSans-41\"/>\n      </g>\n     </g>\n    </g>\n   </g>\n   <g id=\"PolyCollection_1\">\n    <path clip-path=\"url(#p4f288c24d6)\" d=\"M -68.0875 26.528 \nL -68.0875 7.2 \nL 462.0125 7.2 \nL 462.0125 26.528 \nL 462.0125 26.528 \nL -68.0875 26.528 \nz\n\" style=\"fill:#c0c0c0;fill-opacity:0.5;\"/>\n   </g>\n   <g id=\"PolyCollection_2\">\n    <path clip-path=\"url(#p4f288c24d6)\" d=\"M -68.0875 65.184 \nL -68.0875 45.856 \nL 462.0125 45.856 \nL 462.0125 65.184 \nL 462.0125 65.184 \nL -68.0875 65.184 \nz\n\" style=\"fill:#c0c0c0;fill-opacity:0.5;\"/>\n   </g>\n   <g id=\"PolyCollection_3\">\n    <path clip-path=\"url(#p4f288c24d6)\" d=\"M -68.0875 103.84 \nL -68.0875 84.512 \nL 462.0125 84.512 \nL 462.0125 103.84 \nL 462.0125 103.84 \nL -68.0875 103.84 \nz\n\" style=\"fill:#c0c0c0;fill-opacity:0.5;\"/>\n   </g>\n   <g id=\"PolyCollection_4\">\n    <path clip-path=\"url(#p4f288c24d6)\" d=\"M -68.0875 142.496 \nL -68.0875 123.168 \nL 462.0125 123.168 \nL 462.0125 142.496 \nL 462.0125 142.496 \nL -68.0875 142.496 \nz\n\" style=\"fill:#c0c0c0;fill-opacity:0.5;\"/>\n   </g>\n   <g id=\"PolyCollection_5\">\n    <path clip-path=\"url(#p4f288c24d6)\" d=\"M -68.0875 200.48 \nL -68.0875 142.496 \nL 462.0125 142.496 \nL 462.0125 200.48 \nL 462.0125 200.48 \nL -68.0875 200.48 \nz\n\" style=\"fill:#c0c0c0;fill-opacity:0.5;\"/>\n   </g>\n   <g id=\"PathCollection_1\">\n    <defs>\n     <path d=\"M 0 3.708099 \nL 0 -3.708099 \n\" id=\"m87eacfcf7f\" style=\"stroke:#000000;stroke-width:1.5;\"/>\n    </defs>\n    <g clip-path=\"url(#p4f288c24d6)\">\n     <use style=\"stroke:#000000;stroke-width:1.5;\" x=\"261.983789\" xlink:href=\"#m87eacfcf7f\" y=\"16.864\"/>\n     <use style=\"stroke:#000000;stroke-width:1.5;\" x=\"285.969618\" xlink:href=\"#m87eacfcf7f\" y=\"36.192\"/>\n     <use style=\"stroke:#000000;stroke-width:1.5;\" x=\"303.241962\" xlink:href=\"#m87eacfcf7f\" y=\"55.52\"/>\n     <use style=\"stroke:#000000;stroke-width:1.5;\" x=\"239.997541\" xlink:href=\"#m87eacfcf7f\" y=\"74.848\"/>\n     <use style=\"stroke:#000000;stroke-width:1.5;\" x=\"265.105479\" xlink:href=\"#m87eacfcf7f\" y=\"94.176\"/>\n     <use style=\"stroke:#000000;stroke-width:1.5;\" x=\"224.520616\" xlink:href=\"#m87eacfcf7f\" y=\"113.504\"/>\n     <use style=\"stroke:#000000;stroke-width:1.5;\" x=\"300.131227\" xlink:href=\"#m87eacfcf7f\" y=\"132.832\"/>\n     <use style=\"stroke:#000000;stroke-width:1.5;\" x=\"228.467832\" xlink:href=\"#m87eacfcf7f\" y=\"152.16\"/>\n     <use style=\"stroke:#000000;stroke-width:1.5;\" x=\"261.497847\" xlink:href=\"#m87eacfcf7f\" y=\"171.488\"/>\n    </g>\n   </g>\n   <g id=\"line2d_15\">\n    <path clip-path=\"url(#p4f288c24d6)\" d=\"M 196.9625 -1 \nL 196.9625 190.816 \n\" style=\"fill:none;stroke:#c082ac;stroke-dasharray:1.85,0.8;stroke-dashoffset:0;stroke-width:0.5;\"/>\n   </g>\n   <g id=\"line2d_16\">\n    <path clip-path=\"url(#p4f288c24d6)\" d=\"M 200.232545 16.864 \nL 309.776598 16.864 \n\" style=\"fill:none;stroke:#000000;stroke-linecap:round;stroke-opacity:0.25;stroke-width:3;\"/>\n   </g>\n   <g id=\"line2d_17\">\n    <path clip-path=\"url(#p4f288c24d6)\" d=\"M 241.923978 16.864 \nL 279.646498 16.864 \n\" style=\"fill:none;stroke:#000000;stroke-linecap:round;stroke-opacity:0.75;stroke-width:3;\"/>\n   </g>\n   <g id=\"line2d_18\">\n    <path clip-path=\"url(#p4f288c24d6)\" d=\"M 219.39117 36.192 \nL 333.310641 36.192 \n\" style=\"fill:none;stroke:#000000;stroke-linecap:round;stroke-opacity:0.25;stroke-width:3;\"/>\n   </g>\n   <g id=\"line2d_19\">\n    <path clip-path=\"url(#p4f288c24d6)\" d=\"M 266.832562 36.192 \nL 303.152496 36.192 \n\" style=\"fill:none;stroke:#000000;stroke-linecap:round;stroke-opacity:0.75;stroke-width:3;\"/>\n   </g>\n   <g id=\"line2d_20\">\n    <path clip-path=\"url(#p4f288c24d6)\" d=\"M 232.1014 55.52 \nL 352.149308 55.52 \n\" style=\"fill:none;stroke:#000000;stroke-linecap:round;stroke-opacity:0.25;stroke-width:3;\"/>\n   </g>\n   <g id=\"line2d_21\">\n    <path clip-path=\"url(#p4f288c24d6)\" d=\"M 282.384328 55.52 \nL 321.915499 55.52 \n\" style=\"fill:none;stroke:#000000;stroke-linecap:round;stroke-opacity:0.75;stroke-width:3;\"/>\n   </g>\n   <g id=\"line2d_22\">\n    <path clip-path=\"url(#p4f288c24d6)\" d=\"M 157.028507 74.848 \nL 305.609955 74.848 \n\" style=\"fill:none;stroke:#000000;stroke-linecap:round;stroke-opacity:0.25;stroke-width:3;\"/>\n   </g>\n   <g id=\"line2d_23\">\n    <path clip-path=\"url(#p4f288c24d6)\" d=\"M 215.058467 74.848 \nL 263.308413 74.848 \n\" style=\"fill:none;stroke:#000000;stroke-linecap:round;stroke-opacity:0.75;stroke-width:3;\"/>\n   </g>\n   <g id=\"line2d_24\">\n    <path clip-path=\"url(#p4f288c24d6)\" d=\"M 179.462553 94.176 \nL 329.307162 94.176 \n\" style=\"fill:none;stroke:#000000;stroke-linecap:round;stroke-opacity:0.25;stroke-width:3;\"/>\n   </g>\n   <g id=\"line2d_25\">\n    <path clip-path=\"url(#p4f288c24d6)\" d=\"M 239.69464 94.176 \nL 287.162918 94.176 \n\" style=\"fill:none;stroke:#000000;stroke-linecap:round;stroke-opacity:0.75;stroke-width:3;\"/>\n   </g>\n   <g id=\"line2d_26\">\n    <path clip-path=\"url(#p4f288c24d6)\" d=\"M 171.128797 113.504 \nL 296.526648 113.504 \n\" style=\"fill:none;stroke:#000000;stroke-linecap:round;stroke-opacity:0.25;stroke-width:3;\"/>\n   </g>\n   <g id=\"line2d_27\">\n    <path clip-path=\"url(#p4f288c24d6)\" d=\"M 204.414471 113.504 \nL 249.365027 113.504 \n\" style=\"fill:none;stroke:#000000;stroke-linecap:round;stroke-opacity:0.75;stroke-width:3;\"/>\n   </g>\n   <g id=\"line2d_28\">\n    <path clip-path=\"url(#p4f288c24d6)\" d=\"M 241.479845 132.832 \nL 344.941571 132.832 \n\" style=\"fill:none;stroke:#000000;stroke-linecap:round;stroke-opacity:0.25;stroke-width:3;\"/>\n   </g>\n   <g id=\"line2d_29\">\n    <path clip-path=\"url(#p4f288c24d6)\" d=\"M 282.741438 132.832 \nL 317.248681 132.832 \n\" style=\"fill:none;stroke:#000000;stroke-linecap:round;stroke-opacity:0.75;stroke-width:3;\"/>\n   </g>\n   <g id=\"line2d_30\">\n    <path clip-path=\"url(#p4f288c24d6)\" d=\"M 177.649344 152.16 \nL 279.599056 152.16 \n\" style=\"fill:none;stroke:#000000;stroke-linecap:round;stroke-opacity:0.25;stroke-width:3;\"/>\n   </g>\n   <g id=\"line2d_31\">\n    <path clip-path=\"url(#p4f288c24d6)\" d=\"M 212.287038 152.16 \nL 245.386706 152.16 \n\" style=\"fill:none;stroke:#000000;stroke-linecap:round;stroke-opacity:0.75;stroke-width:3;\"/>\n   </g>\n   <g id=\"line2d_32\">\n    <path clip-path=\"url(#p4f288c24d6)\" d=\"M 216.637109 171.488 \nL 306.223287 171.488 \n\" style=\"fill:none;stroke:#000000;stroke-linecap:round;stroke-opacity:0.25;stroke-width:3;\"/>\n   </g>\n   <g id=\"line2d_33\">\n    <path clip-path=\"url(#p4f288c24d6)\" d=\"M 246.753055 171.488 \nL 276.872325 171.488 \n\" style=\"fill:none;stroke:#000000;stroke-linecap:round;stroke-opacity:0.75;stroke-width:3;\"/>\n   </g>\n   <g id=\"patch_3\">\n    <path d=\"M 130.7 181.152 \nL 130.7 7.2 \n\" style=\"fill:none;stroke:#262626;stroke-linecap:square;stroke-linejoin:miter;stroke-width:0.8;\"/>\n   </g>\n   <g id=\"patch_4\">\n    <path d=\"M 130.7 181.152 \nL 395.75 181.152 \n\" style=\"fill:none;stroke:#262626;stroke-linecap:square;stroke-linejoin:miter;stroke-width:0.8;\"/>\n   </g>\n   <g id=\"text_16\">\n    <!--  -->\n    <g style=\"fill:#eb909c;\" transform=\"translate(108.47175 19.817125)scale(0.08 -0.08)\">\n     <defs>\n      <path d=\"M 18.75 43.75 \nC 25.59375 43.75 31.25 49.21875 31.25 56.25 \nC 31.25 63.09375 25.59375 68.75 18.75 68.75 \nC 11.71875 68.75 6.25 63.09375 6.25 56.25 \nC 6.25 49.21875 11.71875 43.75 18.75 43.75 \nz\nM 106.25 43.75 \nC 113.09375 43.75 118.75 49.21875 118.75 56.25 \nC 118.75 63.09375 113.09375 68.75 106.25 68.75 \nC 99.21875 68.75 93.75 63.09375 93.75 56.25 \nC 93.75 49.21875 99.21875 43.75 106.25 43.75 \nz\nM 112.5 37.5 \nL 100 37.5 \nC 96.484375 37.5 93.359375 35.9375 91.015625 33.796875 \nC 99.03125 29.5 104.5 21.6875 105.859375 12.5 \nL 118.75 12.5 \nC 122.078125 12.5 125 15.234375 125 18.75 \nL 125 25 \nC 125 31.84375 119.34375 37.5 112.5 37.5 \nz\nM 62.5 37.5 \nC 74.421875 37.5 84.375 47.265625 84.375 59.375 \nC 84.375 71.296875 74.421875 81.25 62.5 81.25 \nC 50.390625 81.25 40.625 71.296875 40.625 59.375 \nC 40.625 47.265625 50.390625 37.5 62.5 37.5 \nz\nM 77.34375 31.25 \nL 75.78125 31.25 \nC 71.6875 29.296875 67.1875 28.125 62.5 28.125 \nC 57.625 28.125 53.125 29.296875 49.03125 31.25 \nL 47.46875 31.25 \nC 34.96875 31.25 25 21.09375 25 8.59375 \nL 25 3.125 \nC 25 -2.15625 29.109375 -6.25 34.375 -6.25 \nL 90.625 -6.25 \nC 95.703125 -6.25 100 -2.15625 100 3.125 \nL 100 8.59375 \nC 100 21.09375 89.84375 31.25 77.34375 31.25 \nz\nM 33.796875 33.796875 \nC 31.453125 35.9375 28.328125 37.5 25 37.5 \nL 12.5 37.5 \nC 5.46875 37.5 0 31.84375 0 25 \nL 0 18.75 \nC 0 15.234375 2.734375 12.5 6.25 12.5 \nL 18.953125 12.5 \nC 20.3125 21.6875 25.78125 29.5 33.796875 33.796875 \nz\n\" id=\"FontAwesome5Free-Solid-61632\"/>\n     </defs>\n     <use xlink:href=\"#FontAwesome5Free-Solid-61632\"/>\n    </g>\n   </g>\n   <g id=\"text_17\">\n    <!--  -->\n    <g style=\"fill:#ab4a57;\" transform=\"translate(108.47175 39.145125)scale(0.08 -0.08)\">\n     <use xlink:href=\"#FontAwesome5Free-Solid-61632\"/>\n    </g>\n   </g>\n   <g id=\"text_18\">\n    <!--  -->\n    <g style=\"fill:#eb909c;\" transform=\"translate(101.8455 39.145125)scale(0.08 -0.08)\">\n     <use xlink:href=\"#FontAwesome5Free-Solid-61632\"/>\n    </g>\n   </g>\n   <g id=\"text_19\">\n    <!--  -->\n    <g style=\"fill:#361603;\" transform=\"translate(108.47175 58.473125)scale(0.08 -0.08)\">\n     <use xlink:href=\"#FontAwesome5Free-Solid-61632\"/>\n    </g>\n   </g>\n   <g id=\"text_20\">\n    <!--  -->\n    <g style=\"fill:#ab4a57;\" transform=\"translate(101.8455 58.473125)scale(0.08 -0.08)\">\n     <use xlink:href=\"#FontAwesome5Free-Solid-61632\"/>\n    </g>\n   </g>\n   <g id=\"text_21\">\n    <!--  -->\n    <g style=\"fill:#eb909c;\" transform=\"translate(95.21925 58.473125)scale(0.08 -0.08)\">\n     <use xlink:href=\"#FontAwesome5Free-Solid-61632\"/>\n    </g>\n   </g>\n   <g id=\"text_22\">\n    <!--  -->\n    <g style=\"fill:#51816b;\" transform=\"translate(108.97175 77.848)scale(0.08 -0.08)\">\n     <defs>\n      <path d=\"M 103.125 28.515625 \nL 112.3125 69.140625 \nC 112.890625 72.078125 110.75 75 107.625 75 \nL 31.0625 75 \nL 29.296875 83.59375 \nC 28.71875 85.75 26.765625 87.5 24.609375 87.5 \nL 4.6875 87.5 \nC 1.953125 87.5 0 85.359375 0 82.8125 \nL 0 79.6875 \nC 0 76.953125 1.953125 75 4.6875 75 \nL 18.171875 75 \nL 32.03125 7.8125 \nC 28.71875 5.859375 26.5625 2.34375 26.5625 -1.5625 \nC 26.5625 -7.625 31.453125 -12.5 37.5 -12.5 \nC 43.359375 -12.5 48.4375 -7.625 48.4375 -1.5625 \nC 48.4375 1.375 47.078125 4.109375 45.125 6.25 \nL 85.9375 6.25 \nC 83.984375 4.109375 82.8125 1.375 82.8125 -1.5625 \nC 82.8125 -7.625 87.703125 -12.5 93.75 -12.5 \nC 99.609375 -12.5 104.6875 -7.625 104.6875 -1.5625 \nC 104.6875 2.734375 102.15625 6.453125 98.4375 8.203125 \nL 99.421875 12.890625 \nC 100.203125 15.828125 97.859375 18.75 94.921875 18.75 \nL 42.578125 18.75 \nL 41.21875 25 \nL 98.4375 25 \nC 100.59375 25 102.546875 26.375 103.125 28.515625 \nz\n\" id=\"FontAwesome5Free-Solid-61562\"/>\n     </defs>\n     <use xlink:href=\"#FontAwesome5Free-Solid-61562\"/>\n    </g>\n   </g>\n   <g id=\"text_23\">\n    <!--  -->\n    <g style=\"fill:#15321c;\" transform=\"translate(108.97175 97.176)scale(0.08 -0.08)\">\n     <use xlink:href=\"#FontAwesome5Free-Solid-61562\"/>\n    </g>\n   </g>\n   <g id=\"text_24\">\n    <!--  -->\n    <g style=\"fill:#51816b;\" transform=\"translate(102.3455 97.176)scale(0.08 -0.08)\">\n     <use xlink:href=\"#FontAwesome5Free-Solid-61562\"/>\n    </g>\n   </g>\n   <g id=\"text_25\">\n    <!--  -->\n    <g style=\"fill:#195d94;\" transform=\"translate(108.47175 116.504)scale(0.08 -0.08)\">\n     <defs>\n      <path d=\"M 0 43.75 \nL 0 -9.375 \nC 0 -11.140625 1.375 -12.5 3.125 -12.5 \nL 18.75 -12.5 \nL 18.75 50 \nL 6.25 50 \nC 2.734375 50 0 47.078125 0 43.75 \nz\nM 70.3125 53.125 \nL 65.625 53.125 \nL 65.625 60.9375 \nC 65.625 61.71875 64.84375 62.5 64.0625 62.5 \nL 60.9375 62.5 \nC 59.96875 62.5 59.375 61.71875 59.375 60.9375 \nL 59.375 48.4375 \nC 59.375 47.46875 59.96875 46.875 60.9375 46.875 \nL 70.3125 46.875 \nC 71.09375 46.875 71.875 47.46875 71.875 48.4375 \nL 71.875 51.5625 \nC 71.875 52.34375 71.09375 53.125 70.3125 53.125 \nz\nM 97.078125 65.4375 \nL 65.828125 86.328125 \nC 65.046875 86.921875 63.484375 87.5 62.5 87.5 \nC 61.328125 87.5 59.765625 86.921875 58.984375 86.328125 \nL 27.734375 65.4375 \nC 26.171875 64.453125 25 62.109375 25 60.359375 \nL 25 -12.5 \nL 50 -12.5 \nL 50 15.625 \nC 50 17.1875 51.375 18.75 53.125 18.75 \nL 71.875 18.75 \nC 73.4375 18.75 75 17.1875 75 15.625 \nL 75 -12.5 \nL 100 -12.5 \nL 100 60.359375 \nC 100 62.5 98.828125 64.453125 97.078125 65.4375 \nz\nM 62.5 37.5 \nC 53.71875 37.5 46.875 44.34375 46.875 53.125 \nC 46.875 61.71875 53.71875 68.75 62.5 68.75 \nC 71.09375 68.75 78.125 61.71875 78.125 53.125 \nC 78.125 44.34375 71.09375 37.5 62.5 37.5 \nz\nM 118.75 50 \nL 106.25 50 \nL 106.25 -12.5 \nL 121.875 -12.5 \nC 123.4375 -12.5 125 -11.140625 125 -9.375 \nL 125 43.75 \nC 125 47.078125 122.078125 50 118.75 50 \nz\n\" id=\"FontAwesome5Free-Solid-62793\"/>\n     </defs>\n     <use xlink:href=\"#FontAwesome5Free-Solid-62793\"/>\n    </g>\n   </g>\n   <g id=\"text_26\">\n    <!--  -->\n    <g style=\"fill:#195d94;\" transform=\"translate(108.47175 135.832)scale(0.08 -0.08)\">\n     <use xlink:href=\"#FontAwesome5Free-Solid-62793\"/>\n    </g>\n   </g>\n   <g id=\"text_27\">\n    <!--  -->\n    <g style=\"fill:#003866;\" transform=\"translate(101.8455 135.785125)scale(0.08 -0.08)\">\n     <defs>\n      <path d=\"M 121.484375 57.421875 \nL 67 74.21875 \nC 64.0625 75.203125 60.75 75.203125 57.8125 74.21875 \nL 3.328125 57.421875 \nC -1.171875 56.0625 -1.171875 50 3.328125 48.640625 \nL 12.890625 45.703125 \nC 10.75 43.171875 9.578125 39.84375 9.375 36.53125 \nC 7.421875 35.359375 6.25 33.40625 6.25 31.25 \nC 6.25 29.109375 7.234375 27.34375 8.796875 26.171875 \nL 3.90625 3.71875 \nC 3.515625 1.765625 4.890625 0 6.84375 0 \nL 17.96875 0 \nC 19.921875 0 21.296875 1.765625 20.90625 3.71875 \nL 16.015625 26.171875 \nC 17.578125 27.34375 18.75 29.109375 18.75 31.25 \nC 18.75 33.40625 17.390625 35.359375 15.625 36.328125 \nC 15.828125 39.265625 17.1875 42 19.734375 43.5625 \nL 57.8125 31.84375 \nC 59.578125 31.25 63.09375 30.671875 67 31.84375 \nL 121.484375 48.640625 \nC 125.984375 50 125.984375 56.0625 121.484375 57.421875 \nz\nM 68.75 25.78125 \nC 63.28125 24.21875 58.40625 25 56.0625 25.78125 \nL 27.734375 34.578125 \nL 25 12.5 \nC 25 5.46875 41.609375 0 62.5 0 \nC 83.203125 0 100 5.46875 100 12.5 \nL 97.078125 34.578125 \nz\n\" id=\"FontAwesome5Free-Solid-61853\"/>\n     </defs>\n     <use xlink:href=\"#FontAwesome5Free-Solid-61853\"/>\n    </g>\n   </g>\n   <g id=\"text_28\">\n    <!-- 便 -->\n    <g style=\"fill:#cd6000;\" transform=\"translate(108.97175 155.16)scale(0.08 -0.08)\">\n     <defs>\n      <path d=\"M 111.328125 41.21875 \nL 100 51.375 \nL 100 78.125 \nC 100 79.6875 98.4375 81.25 96.875 81.25 \nL 84.375 81.25 \nC 82.625 81.25 81.25 79.6875 81.25 78.125 \nL 81.25 67.96875 \nL 61.328125 85.359375 \nC 60.15625 86.53125 57.8125 87.5 56.25 87.5 \nC 54.5 87.5 52.15625 86.53125 50.984375 85.359375 \nL 0.984375 41.21875 \nC 0.390625 40.625 0 39.65625 0 38.875 \nC 0 38.28125 0.390625 37.3125 0.78125 36.921875 \nL 4.890625 32.234375 \nC 5.46875 31.640625 6.453125 31.25 7.234375 31.25 \nC 7.8125 31.25 8.796875 31.640625 9.375 32.03125 \nL 12.5 34.765625 \nL 12.5 -6.25 \nC 12.5 -9.765625 15.234375 -12.5 18.75 -12.5 \nL 93.75 -12.5 \nC 97.078125 -12.5 100 -9.765625 100 -6.25 \nL 100 34.765625 \nL 102.9375 32.03125 \nC 103.515625 31.640625 104.5 31.25 105.078125 31.25 \nC 105.859375 31.25 106.84375 31.640625 107.421875 32.234375 \nL 111.53125 36.921875 \nC 111.921875 37.3125 112.3125 38.28125 112.5 38.875 \nC 112.3125 39.65625 111.921875 40.625 111.328125 41.21875 \nz\nM 56.25 53.125 \nC 63.09375 53.125 68.75 47.46875 68.75 40.625 \nC 68.75 33.59375 63.09375 28.125 56.25 28.125 \nC 49.21875 28.125 43.75 33.59375 43.75 40.625 \nC 43.75 47.46875 49.21875 53.125 56.25 53.125 \nz\nM 78.125 0 \nL 34.375 0 \nC 32.625 0 31.25 1.375 31.25 3.125 \nC 31.25 13.28125 39.65625 21.875 50 21.875 \nL 62.5 21.875 \nC 72.65625 21.875 81.25 13.28125 81.25 3.125 \nC 81.25 1.375 79.6875 0 78.125 0 \nz\n\" id=\"FontAwesome5Free-Solid-63845\"/>\n     </defs>\n     <use xlink:href=\"#FontAwesome5Free-Solid-63845\"/>\n    </g>\n   </g>\n   <g id=\"text_29\">\n    <!-- mean 23% -->\n    <g style=\"fill:#666666;\" transform=\"translate(355.464656 23.627563)scale(0.07 -0.07)\">\n     <defs>\n      <path d=\"M 40.578125 39.3125 \nQ 47.65625 37.796875 51.625 33 \nQ 55.609375 28.21875 55.609375 21.1875 \nQ 55.609375 10.40625 48.1875 4.484375 \nQ 40.765625 -1.421875 27.09375 -1.421875 \nQ 22.515625 -1.421875 17.65625 -0.515625 \nQ 12.796875 0.390625 7.625 2.203125 \nL 7.625 11.71875 \nQ 11.71875 9.328125 16.59375 8.109375 \nQ 21.484375 6.890625 26.8125 6.890625 \nQ 36.078125 6.890625 40.9375 10.546875 \nQ 45.796875 14.203125 45.796875 21.1875 \nQ 45.796875 27.640625 41.28125 31.265625 \nQ 36.765625 34.90625 28.71875 34.90625 \nL 20.21875 34.90625 \nL 20.21875 43.015625 \nL 29.109375 43.015625 \nQ 36.375 43.015625 40.234375 45.921875 \nQ 44.09375 48.828125 44.09375 54.296875 \nQ 44.09375 59.90625 40.109375 62.90625 \nQ 36.140625 65.921875 28.71875 65.921875 \nQ 24.65625 65.921875 20.015625 65.03125 \nQ 15.375 64.15625 9.8125 62.3125 \nL 9.8125 71.09375 \nQ 15.4375 72.65625 20.34375 73.4375 \nQ 25.25 74.21875 29.59375 74.21875 \nQ 40.828125 74.21875 47.359375 69.109375 \nQ 53.90625 64.015625 53.90625 55.328125 \nQ 53.90625 49.265625 50.4375 45.09375 \nQ 46.96875 40.921875 40.578125 39.3125 \nz\n\" id=\"DejaVuSans-51\"/>\n     </defs>\n     <use xlink:href=\"#DejaVuSans-109\"/>\n     <use x=\"97.412109\" xlink:href=\"#DejaVuSans-101\"/>\n     <use x=\"158.935547\" xlink:href=\"#DejaVuSans-97\"/>\n     <use x=\"220.214844\" xlink:href=\"#DejaVuSans-110\"/>\n     <use x=\"283.59375\" xlink:href=\"#DejaVuSans-32\"/>\n     <use x=\"315.380859\" xlink:href=\"#DejaVuSans-50\"/>\n     <use x=\"379.003906\" xlink:href=\"#DejaVuSans-51\"/>\n     <use x=\"442.626953\" xlink:href=\"#DejaVuSans-37\"/>\n    </g>\n   </g>\n   <g id=\"text_30\">\n    <!-- mean 32% -->\n    <g style=\"fill:#666666;\" transform=\"translate(355.464656 42.955563)scale(0.07 -0.07)\">\n     <use xlink:href=\"#DejaVuSans-109\"/>\n     <use x=\"97.412109\" xlink:href=\"#DejaVuSans-101\"/>\n     <use x=\"158.935547\" xlink:href=\"#DejaVuSans-97\"/>\n     <use x=\"220.214844\" xlink:href=\"#DejaVuSans-110\"/>\n     <use x=\"283.59375\" xlink:href=\"#DejaVuSans-32\"/>\n     <use x=\"315.380859\" xlink:href=\"#DejaVuSans-51\"/>\n     <use x=\"379.003906\" xlink:href=\"#DejaVuSans-50\"/>\n     <use x=\"442.626953\" xlink:href=\"#DejaVuSans-37\"/>\n    </g>\n   </g>\n   <g id=\"text_31\">\n    <!-- mean 39% -->\n    <g style=\"fill:#666666;\" transform=\"translate(355.464656 62.283563)scale(0.07 -0.07)\">\n     <defs>\n      <path d=\"M 10.984375 1.515625 \nL 10.984375 10.5 \nQ 14.703125 8.734375 18.5 7.8125 \nQ 22.3125 6.890625 25.984375 6.890625 \nQ 35.75 6.890625 40.890625 13.453125 \nQ 46.046875 20.015625 46.78125 33.40625 \nQ 43.953125 29.203125 39.59375 26.953125 \nQ 35.25 24.703125 29.984375 24.703125 \nQ 19.046875 24.703125 12.671875 31.3125 \nQ 6.296875 37.9375 6.296875 49.421875 \nQ 6.296875 60.640625 12.9375 67.421875 \nQ 19.578125 74.21875 30.609375 74.21875 \nQ 43.265625 74.21875 49.921875 64.515625 \nQ 56.59375 54.828125 56.59375 36.375 \nQ 56.59375 19.140625 48.40625 8.859375 \nQ 40.234375 -1.421875 26.421875 -1.421875 \nQ 22.703125 -1.421875 18.890625 -0.6875 \nQ 15.09375 0.046875 10.984375 1.515625 \nz\nM 30.609375 32.421875 \nQ 37.25 32.421875 41.125 36.953125 \nQ 45.015625 41.5 45.015625 49.421875 \nQ 45.015625 57.28125 41.125 61.84375 \nQ 37.25 66.40625 30.609375 66.40625 \nQ 23.96875 66.40625 20.09375 61.84375 \nQ 16.21875 57.28125 16.21875 49.421875 \nQ 16.21875 41.5 20.09375 36.953125 \nQ 23.96875 32.421875 30.609375 32.421875 \nz\n\" id=\"DejaVuSans-57\"/>\n     </defs>\n     <use xlink:href=\"#DejaVuSans-109\"/>\n     <use x=\"97.412109\" xlink:href=\"#DejaVuSans-101\"/>\n     <use x=\"158.935547\" xlink:href=\"#DejaVuSans-97\"/>\n     <use x=\"220.214844\" xlink:href=\"#DejaVuSans-110\"/>\n     <use x=\"283.59375\" xlink:href=\"#DejaVuSans-32\"/>\n     <use x=\"315.380859\" xlink:href=\"#DejaVuSans-51\"/>\n     <use x=\"379.003906\" xlink:href=\"#DejaVuSans-57\"/>\n     <use x=\"442.626953\" xlink:href=\"#DejaVuSans-37\"/>\n    </g>\n   </g>\n   <g id=\"text_32\">\n    <!-- mean 15% -->\n    <g style=\"fill:#666666;\" transform=\"translate(355.464656 81.611563)scale(0.07 -0.07)\">\n     <use xlink:href=\"#DejaVuSans-109\"/>\n     <use x=\"97.412109\" xlink:href=\"#DejaVuSans-101\"/>\n     <use x=\"158.935547\" xlink:href=\"#DejaVuSans-97\"/>\n     <use x=\"220.214844\" xlink:href=\"#DejaVuSans-110\"/>\n     <use x=\"283.59375\" xlink:href=\"#DejaVuSans-32\"/>\n     <use x=\"315.380859\" xlink:href=\"#DejaVuSans-49\"/>\n     <use x=\"379.003906\" xlink:href=\"#DejaVuSans-53\"/>\n     <use x=\"442.626953\" xlink:href=\"#DejaVuSans-37\"/>\n    </g>\n   </g>\n   <g id=\"text_33\">\n    <!-- mean 24% -->\n    <g style=\"fill:#666666;\" transform=\"translate(355.464656 100.939562)scale(0.07 -0.07)\">\n     <defs>\n      <path d=\"M 37.796875 64.3125 \nL 12.890625 25.390625 \nL 37.796875 25.390625 \nz\nM 35.203125 72.90625 \nL 47.609375 72.90625 \nL 47.609375 25.390625 \nL 58.015625 25.390625 \nL 58.015625 17.1875 \nL 47.609375 17.1875 \nL 47.609375 0 \nL 37.796875 0 \nL 37.796875 17.1875 \nL 4.890625 17.1875 \nL 4.890625 26.703125 \nz\n\" id=\"DejaVuSans-52\"/>\n     </defs>\n     <use xlink:href=\"#DejaVuSans-109\"/>\n     <use x=\"97.412109\" xlink:href=\"#DejaVuSans-101\"/>\n     <use x=\"158.935547\" xlink:href=\"#DejaVuSans-97\"/>\n     <use x=\"220.214844\" xlink:href=\"#DejaVuSans-110\"/>\n     <use x=\"283.59375\" xlink:href=\"#DejaVuSans-32\"/>\n     <use x=\"315.380859\" xlink:href=\"#DejaVuSans-50\"/>\n     <use x=\"379.003906\" xlink:href=\"#DejaVuSans-52\"/>\n     <use x=\"442.626953\" xlink:href=\"#DejaVuSans-37\"/>\n    </g>\n   </g>\n   <g id=\"text_34\">\n    <!-- mean 11% -->\n    <g style=\"fill:#666666;\" transform=\"translate(355.464656 120.267562)scale(0.07 -0.07)\">\n     <use xlink:href=\"#DejaVuSans-109\"/>\n     <use x=\"97.412109\" xlink:href=\"#DejaVuSans-101\"/>\n     <use x=\"158.935547\" xlink:href=\"#DejaVuSans-97\"/>\n     <use x=\"220.214844\" xlink:href=\"#DejaVuSans-110\"/>\n     <use x=\"283.59375\" xlink:href=\"#DejaVuSans-32\"/>\n     <use x=\"315.380859\" xlink:href=\"#DejaVuSans-49\"/>\n     <use x=\"379.003906\" xlink:href=\"#DejaVuSans-49\"/>\n     <use x=\"442.626953\" xlink:href=\"#DejaVuSans-37\"/>\n    </g>\n   </g>\n   <g id=\"text_35\">\n    <!-- mean 38% -->\n    <g style=\"fill:#666666;\" transform=\"translate(355.464656 139.595562)scale(0.07 -0.07)\">\n     <defs>\n      <path d=\"M 31.78125 34.625 \nQ 24.75 34.625 20.71875 30.859375 \nQ 16.703125 27.09375 16.703125 20.515625 \nQ 16.703125 13.921875 20.71875 10.15625 \nQ 24.75 6.390625 31.78125 6.390625 \nQ 38.8125 6.390625 42.859375 10.171875 \nQ 46.921875 13.96875 46.921875 20.515625 \nQ 46.921875 27.09375 42.890625 30.859375 \nQ 38.875 34.625 31.78125 34.625 \nz\nM 21.921875 38.8125 \nQ 15.578125 40.375 12.03125 44.71875 \nQ 8.5 49.078125 8.5 55.328125 \nQ 8.5 64.0625 14.71875 69.140625 \nQ 20.953125 74.21875 31.78125 74.21875 \nQ 42.671875 74.21875 48.875 69.140625 \nQ 55.078125 64.0625 55.078125 55.328125 \nQ 55.078125 49.078125 51.53125 44.71875 \nQ 48 40.375 41.703125 38.8125 \nQ 48.828125 37.15625 52.796875 32.3125 \nQ 56.78125 27.484375 56.78125 20.515625 \nQ 56.78125 9.90625 50.3125 4.234375 \nQ 43.84375 -1.421875 31.78125 -1.421875 \nQ 19.734375 -1.421875 13.25 4.234375 \nQ 6.78125 9.90625 6.78125 20.515625 \nQ 6.78125 27.484375 10.78125 32.3125 \nQ 14.796875 37.15625 21.921875 38.8125 \nz\nM 18.3125 54.390625 \nQ 18.3125 48.734375 21.84375 45.5625 \nQ 25.390625 42.390625 31.78125 42.390625 \nQ 38.140625 42.390625 41.71875 45.5625 \nQ 45.3125 48.734375 45.3125 54.390625 \nQ 45.3125 60.0625 41.71875 63.234375 \nQ 38.140625 66.40625 31.78125 66.40625 \nQ 25.390625 66.40625 21.84375 63.234375 \nQ 18.3125 60.0625 18.3125 54.390625 \nz\n\" id=\"DejaVuSans-56\"/>\n     </defs>\n     <use xlink:href=\"#DejaVuSans-109\"/>\n     <use x=\"97.412109\" xlink:href=\"#DejaVuSans-101\"/>\n     <use x=\"158.935547\" xlink:href=\"#DejaVuSans-97\"/>\n     <use x=\"220.214844\" xlink:href=\"#DejaVuSans-110\"/>\n     <use x=\"283.59375\" xlink:href=\"#DejaVuSans-32\"/>\n     <use x=\"315.380859\" xlink:href=\"#DejaVuSans-51\"/>\n     <use x=\"379.003906\" xlink:href=\"#DejaVuSans-56\"/>\n     <use x=\"442.626953\" xlink:href=\"#DejaVuSans-37\"/>\n    </g>\n   </g>\n   <g id=\"text_36\">\n    <!-- mean 12% -->\n    <g style=\"fill:#666666;\" transform=\"translate(355.464656 158.923563)scale(0.07 -0.07)\">\n     <use xlink:href=\"#DejaVuSans-109\"/>\n     <use x=\"97.412109\" xlink:href=\"#DejaVuSans-101\"/>\n     <use x=\"158.935547\" xlink:href=\"#DejaVuSans-97\"/>\n     <use x=\"220.214844\" xlink:href=\"#DejaVuSans-110\"/>\n     <use x=\"283.59375\" xlink:href=\"#DejaVuSans-32\"/>\n     <use x=\"315.380859\" xlink:href=\"#DejaVuSans-49\"/>\n     <use x=\"379.003906\" xlink:href=\"#DejaVuSans-50\"/>\n     <use x=\"442.626953\" xlink:href=\"#DejaVuSans-37\"/>\n    </g>\n   </g>\n   <g id=\"text_37\">\n    <!-- mean 24% -->\n    <g style=\"fill:#666666;\" transform=\"translate(355.464656 178.251562)scale(0.07 -0.07)\">\n     <use xlink:href=\"#DejaVuSans-109\"/>\n     <use x=\"97.412109\" xlink:href=\"#DejaVuSans-101\"/>\n     <use x=\"158.935547\" xlink:href=\"#DejaVuSans-97\"/>\n     <use x=\"220.214844\" xlink:href=\"#DejaVuSans-110\"/>\n     <use x=\"283.59375\" xlink:href=\"#DejaVuSans-32\"/>\n     <use x=\"315.380859\" xlink:href=\"#DejaVuSans-50\"/>\n     <use x=\"379.003906\" xlink:href=\"#DejaVuSans-52\"/>\n     <use x=\"442.626953\" xlink:href=\"#DejaVuSans-37\"/>\n    </g>\n   </g>\n  </g>\n </g>\n <defs>\n  <clipPath id=\"p4f288c24d6\">\n   <rect height=\"173.952\" width=\"265.05\" x=\"130.7\" y=\"7.2\"/>\n  </clipPath>\n </defs>\n</svg>\n",
      "image/png": "[encoded data removed]"
     },
     "metadata": {}
    }
   ],
   "source": [
    "from matplotlib.gridspec import GridSpec\n",
    "\n",
    "derived_features = [\n",
    " (\"Gatherings limited to\\n1000 people or less\", [0]),\n",
    " (\"Gatherings limited to\\n100 people or less\", [1, 0]),\n",
    " (\"Gatherings limited to\\n10 people or less\", [2, 1, 0]),\n",
    " (\"Some businesses\\nclosed\", [3]),\n",
    " (\"Most nonessential\\nbusinesses closed\", [4, 3]),\n",
    " (\"Schools closed\", [5]),\n",
    " (\"Schools and universities\\nclosed\", [5, 6]),\n",
    " (\"Additional effect of\\nstay at home order\", [7]),\n",
    "# (\"STOP-COVID T-Shirt\", [8]),\n",
    "# (\"Never used NPI\", [9]),\n",
    "]\n",
    "\n",
    "\n",
    "cm_plot_style = [\n",
    "            (\"\\uf0c0\", (0.922, 0.564, 0.612)), # ppl\n",
    "            (\"\\uf0c0\", (0.671, 0.290, 0.341)), # ppl\n",
    "            (\"\\uf0c0\", (0.211, 0.086, 0.011)), # ppl\n",
    "            (\"\\uf07a\", (0.316, 0.506, 0.420)), # shop 1\n",
    "            (\"\\uf07a\", (0.082, 0.196, 0.110)), # shop2\n",
    "            (\"\\uf549\", (0.098, 0.364, 0.58)), # school\n",
    "            (\"\\uf19d\", (0.0, 0.22, 0.4)), # university\n",
    "            (\"\\uf965\", (0.803, 0.376, 0)), # home\n",
    " #           (\"T\", (0.803, 0.376, 0)), # t-shirt\n",
    "  #          (\"0\", (0.5, 0.5, 0.5)), # empty\n",
    "]\n",
    "\n",
    "GRAYs = 0\n",
    "WITH_AVERAGE = False\n",
    "WITH_SEASONALITY = True\n",
    "\n",
    "for i, cm in enumerate(data.CMs[8:]):\n",
    "    derived_features.append((cm, [i+8]))\n",
    "    cm_plot_style.append((\"\", (0.5, 0.5, 0.5)))\n",
    "    GRAYs += 1\n",
    "    \n",
    "if WITH_AVERAGE:\n",
    "    derived_features.append((f\"Average of {GRAYs} gray\\ninterventions\", list(range(8, len(data.CMs)))))\n",
    "    cm_plot_style.append((\"#\", (0.25, 0.25, 0.25)))\n",
    "    print( derived_features)\n",
    "\n",
    "## RENAMING PRIOR\n",
    "#derived_features[-1] = (\"NPI effect prior\", derived_features[-1][1])\n",
    "#cm_plot_style[-1] = (\"0\", \"k\")    \n",
    "    \n",
    "features = [x for x, _ in derived_features]\n",
    "\n",
    "country_noise = np.random.normal(size=trace.CMAlphaScales.shape) * trace.CMAlphaScales\n",
    "#country_noise = np.zeros(trace.CMAlphaScales.shape) * trace.CMAlphaScales\n",
    "\n",
    "res = np.exp(np.log(trace.CMReduction)-country_noise)\n",
    "nS, _ = res.shape\n",
    "nF = len(derived_features)\n",
    "\n",
    "derived_res = np.zeros((nS, nF))\n",
    "\n",
    "for f_i, (f, prodrows) in enumerate(derived_features):\n",
    "    samples = np.ones(nS)\n",
    "    for r in prodrows:\n",
    "        samples = samples * res[:, r] \n",
    "    derived_res[:, f_i] = samples\n",
    "\n",
    "if WITH_AVERAGE:\n",
    "    derived_res[:, -1] = derived_res[:, -1] ** (1.0 / GRAYs)\n",
    "    \n",
    "assert (derived_res>0).all()\n",
    "print(np.mean(derived_res[:,0]))\n",
    "derived_res = 100*(1-derived_res)\n",
    "\n",
    "if WITH_SEASONALITY:\n",
    "    print(derived_res.shape, trace['Seasonality'].shape)\n",
    "    derived_res = np.concatenate((derived_res, 100 * trace['Seasonality'].reshape((-1, 1))), axis=-1)\n",
    "    derived_features.append((\"Seasonality\\n(peak R inc. on Jan 1)\", []))\n",
    "\n",
    "def produce_ranges(trace):\n",
    "    means = np.mean(trace, axis=0)\n",
    "    med = np.median(trace, axis=0)\n",
    "    li = np.percentile(trace, 2.5, axis=0)\n",
    "    ui = np.percentile(trace, 97.5, axis=0)\n",
    "    lq = np.percentile(trace, 25, axis=0)\n",
    "    uq = np.percentile(trace, 75, axis=0)\n",
    "    print(means, med, li, ui, lq, uq)\n",
    "    return means, med, li, ui, lq, uq\n",
    "\n",
    "mn, med, li, ui, lq, uq = produce_ranges(derived_res)\n",
    "\n",
    "N_cms = mn.size\n",
    "\n",
    "fp2 = FontProperties(fname=r\"../fonts/Font Awesome 5 Free-Solid-900.otf\")\n",
    "\n",
    "fig = plt.figure(figsize=(4.75, 3.2 + GRAYs * 0.22), dpi=300)\n",
    "ax1=plt.gca()\n",
    "\n",
    "# gs = GridSpec(3, 2, figure=fig)\n",
    "# ax1 = plt.subplot(gs.new_subplotspec((0, 0), colspan=2, rowspan=2))\n",
    "\n",
    "plt.plot([0, 0], [1, -(N_cms)], \"--\", color=cols[0], linewidth=0.5)\n",
    "y_vals = -1 * np.arange(N_cms)\n",
    "\n",
    "xrange = np.array([-100, 100])\n",
    "for height in range(0, nF, 2):\n",
    "    plt.fill_between(xrange, -(height-0.5), -(height+0.5), color=\"silver\", alpha=0.5, linewidth=0)\n",
    "plt.fill_between(xrange, -(nF-1.5), -(nF+1.5), color=\"silver\", alpha=0.5, linewidth=0)\n",
    "    \n",
    "plt.scatter(med+0.25, y_vals, marker=\"|\", color=\"black\", s=55, label='UK Disentangled')\n",
    "\n",
    "for cm in range(N_cms):\n",
    "    plt.plot([li[cm]+0.25, ui[cm]+0.25], [y_vals[cm], y_vals[cm]], \"black\", alpha=0.25, linewidth=3)\n",
    "    plt.plot([lq[cm]+0.25, uq[cm]+0.25], [y_vals[cm], y_vals[cm]], \"black\", alpha=0.75, linewidth=3)\n",
    "\n",
    "x_min = -25\n",
    "x_max = 75\n",
    "plt.xlim([x_min, x_max])\n",
    "xtick_vals = [-25, 0, 25, 50, 75]\n",
    "xtick_str = [f\"{x:.0f}%\" for x in xtick_vals]\n",
    "plt.ylim([-(N_cms - 0.5), 0.5])\n",
    "\n",
    "print(derived_features, N_cms)\n",
    "x_r = np.abs(x_min - x_max)\n",
    "for cm in range(N_cms):\n",
    "    for i, val in enumerate(derived_features[cm][1]):\n",
    "        if val < len(cm_plot_style):\n",
    "            col = cm_plot_style[val][1]\n",
    "        else:\n",
    "            col = \"k\"\n",
    "        plt.text(x_min - 6.5 - 2.5*i, -cm, cm_plot_style[val][0], horizontalalignment='center', verticalalignment='center',\n",
    "                     fontproperties=fp2, fontsize=8, color=col)\n",
    "\n",
    "for ci, val in enumerate(mn):\n",
    "    plt.text(x_max - 1, -ci-0.25, f\"mean {val:.0f}%\", horizontalalignment='right', verticalalignment='center',\n",
    "                     fontsize=7, color=(0.4, 0.4, 0.4))\n",
    "        \n",
    "        \n",
    "ax = plt.gca()\n",
    "plt.yticks(-np.arange(N_cms), [f\"{f[0]}\" for f in derived_features], fontsize=7.5, ha=\"left\")\n",
    "yax = ax.get_yaxis()\n",
    "yax.set_tick_params(pad=120)\n",
    "\n",
    "for i, (ticklabel, tickloc) in enumerate(zip(ax.get_yticklabels(), ax.get_yticks())):\n",
    "    if i < len(cm_plot_style):\n",
    "            col = cm_plot_style[i][1]# if i < 5 else i +1][1]\n",
    "    else:\n",
    "        col = \"k\"\n",
    "    ticklabel.set_color(col)\n",
    "\n",
    "plt.xticks(xtick_vals, xtick_str, fontsize=8)\n",
    "plt.xlabel(\"Average reduction in $R_t$,\\nin the context of our data\", fontsize=8)\n",
    "\n",
    "\n",
    "# country_noise = np.random.normal(size=(8000, 8)) * trace.CMAlphaScales\n",
    "\n",
    "# res = np.exp(np.log(trace_def.CMReduction))\n",
    "# nS, _ = res.shape\n",
    "# nF = len(derived_features)\n",
    "\n",
    "# derived_res = np.zeros((nS, nF))\n",
    "\n",
    "# for f_i, (f, prodrows) in enumerate(derived_features):\n",
    "#     samples = np.ones(nS)\n",
    "#     for r in prodrows:\n",
    "#         samples = samples * res[:, r] \n",
    "#     derived_res[:, f_i] = samples\n",
    "\n",
    "# derived_res = 100*(1-derived_res)\n",
    "# mn, med, li, ui, lq, uq = produce_ranges(derived_res)\n",
    "# plt.scatter(med, y_vals+0.25, marker=\"|\", color=\"tab:purple\", s=55, label='Default')\n",
    "\n",
    "# for cm in range(N_cms):\n",
    "#     plt.plot([li[cm], ui[cm]], [y_vals[cm]+0.25, y_vals[cm]+0.25], \"tab:purple\", alpha=0.25, linewidth=3)\n",
    "#     plt.plot([lq[cm], uq[cm]], [y_vals[cm]+0.25, y_vals[cm]+0.25], \"tab:purple\", alpha=0.75, linewidth=3)\n",
    "\n",
    "# plt.text(0, -0.1, \"Doubles\\nTransmission\", fontsize=6, ha='center', va='center',  transform=ax.transAxes, style='italic')\n",
    "# plt.text(1, -0.1, \"Ends\\nTransmission\", fontsize=6, ha='center',  va='center', transform=ax.transAxes, style='italic')\n",
    "sns.despine()\n",
    "\n",
    "# ax1 = plt.subplot(gs.new_subplotspec((2, 0), colspan=1, rowspan=1))\n",
    "# data.conditional_activation_plot(cm_plot_style, newfig=False, skip_yticks=True,)\n",
    "\n",
    "# ax1 = plt.subplot(gs.new_subplotspec((2, 1), colspan=1, rowspan=1))\n",
    "# data.cumulative_days_plot(cm_plot_style, skip_yticks=True, newfig=False)\n",
    "\n",
    "# plt.tight_layout()\n",
    "# plt.legend()\n",
    "plt.savefig(f\"{FN}.pdf\", bbox_inches=\"tight\")"
   ]
  },
  {
   "cell_type": "markdown",
   "metadata": {},
   "source": [
    "# Pareto Graphs"
   ]
  },
  {
   "cell_type": "code",
   "execution_count": null,
   "metadata": {},
   "outputs": [],
   "source": [
    "schools_index = data.CMs.index(\"School Closure\")\n",
    "uni_index = data.CMs.index(\"University Closure\")\n",
    "\n",
    "pkg_mask = np.ones(len(data.CMs))\n",
    "pkg_mask[uni_index] = 0"
   ]
  },
  {
   "cell_type": "code",
   "execution_count": null,
   "metadata": {},
   "outputs": [],
   "source": [
    "total_cms = data.ActiveCMs\n",
    "diff_cms = np.zeros_like(total_cms)\n",
    "diff_cms[:, :, 1:] = total_cms[:, :, 1:] - total_cms[:, :, :-1]\n",
    "rs, ds = np.nonzero(np.any(diff_cms < 0, axis=1))\n",
    "nnz = rs.size\n",
    "\n",
    "data_mask = False * np.ones((len(data.Rs), len(data.Ds)), dtype=np.bool)\n",
    "\n",
    "for nz_i in range(nnz):\n",
    "    data_mask[rs[nz_i], ds[nz_i]:] = True"
   ]
  },
  {
   "cell_type": "code",
   "execution_count": null,
   "metadata": {},
   "outputs": [],
   "source": [
    "data.ActiveCMs = data.ActiveCMs * np.repeat(np.logical_not(data_mask).reshape((41, 1, 130)), 8, axis=1)"
   ]
  },
  {
   "cell_type": "code",
   "execution_count": null,
   "metadata": {},
   "outputs": [],
   "source": [
    "stk = np.hstack([data.ActiveCMs[r, :, :] for r in range(len(data.Rs))])\n",
    "unique_columns, counts = np.unique(stk, return_counts = True, axis=1)\n",
    "nCMs, nPkgs = unique_columns.shape\n",
    "n_active = np.zeros(nPkgs)\n",
    "for p in range(nPkgs):\n",
    "    n_active[p] = np.sum(unique_columns[:, p]*pkg_mask)\n",
    "    if unique_columns[schools_index, p] == 1 and unique_columns[uni_index, p] == 0:\n",
    "        counts[p] = 0\n",
    "    \n",
    "    if unique_columns[schools_index, p] == 0 and unique_columns[uni_index, p] == 1:\n",
    "        counts[p] = 0"
   ]
  },
  {
   "cell_type": "code",
   "execution_count": null,
   "metadata": {},
   "outputs": [],
   "source": [
    "counts"
   ]
  },
  {
   "cell_type": "code",
   "execution_count": null,
   "metadata": {},
   "outputs": [],
   "source": [
    "display_together = [1, 2, None, 4, None, None, None,None]"
   ]
  },
  {
   "cell_type": "code",
   "execution_count": null,
   "metadata": {},
   "outputs": [],
   "source": [
    "for d, dt in zip(data.CMs, display_together):\n",
    "    print(d)\n",
    "    if dt is not None:\n",
    "        print(f\"  with {data.CMs[dt]}\")"
   ]
  },
  {
   "cell_type": "code",
   "execution_count": null,
   "metadata": {},
   "outputs": [],
   "source": [
    "def traverse(cm_i, pkg):\n",
    "    dt = display_together[cm_i]\n",
    "    \n",
    "    if dt == None:\n",
    "        return 0\n",
    "    elif pkg[dt] == 0: \n",
    "        return 0\n",
    "    elif pkg[dt] == 1:\n",
    "        return 1 + traverse(dt, pkg)\n",
    "    \n",
    "    \n",
    "def effective_active(pkg):\n",
    "    n_active = 0\n",
    "    for cm_i, cm in enumerate(pkg):\n",
    "        if cm == 1:\n",
    "            if traverse(cm_i, pkg) == 0:\n",
    "                n_active += 1\n",
    "    return n_active"
   ]
  },
  {
   "cell_type": "code",
   "execution_count": null,
   "metadata": {},
   "outputs": [],
   "source": [
    "import scipy.stats as ss"
   ]
  },
  {
   "cell_type": "code",
   "execution_count": null,
   "metadata": {},
   "outputs": [],
   "source": [
    "country_noise = np.random.normal(size=(8000, 8)) * trace.CMAlphaScales\n",
    "res = np.exp(np.log(trace.CMReduction) - country_noise)\n",
    "R_0 = 3.28 "
   ]
  },
  {
   "cell_type": "markdown",
   "metadata": {},
   "source": [
    "# most common packages"
   ]
  },
  {
   "cell_type": "code",
   "execution_count": null,
   "metadata": {},
   "outputs": [],
   "source": [
    "order = np.argsort(n_active)[::-1]"
   ]
  },
  {
   "cell_type": "code",
   "execution_count": null,
   "metadata": {},
   "outputs": [],
   "source": [
    "order = np.argsort(counts)[::-1]\n",
    "\n",
    "for oi in order:\n",
    "    pkg = unique_columns[:, oi]\n",
    "    nd = counts[oi]\n",
    "    na = n_active[oi]\n",
    "    \n",
    "    if nd > 0 and na > 0:\n",
    "        cm_str = [f\"{data.CMs[i]} \" if pkg[i] == 1 else \"\" for i in range(8)]\n",
    "        print(f'{cm_str} N_d {nd} na {na}')\n",
    "\n",
    "to_show_mask = counts>8\n",
    "to_show_mask[0] = False"
   ]
  },
  {
   "cell_type": "code",
   "execution_count": null,
   "metadata": {},
   "outputs": [],
   "source": [
    "np.sum(to_show_mask)"
   ]
  },
  {
   "cell_type": "code",
   "execution_count": null,
   "metadata": {},
   "outputs": [],
   "source": [
    "import seaborn as sns\n",
    "sns.set_style(\"ticks\")\n",
    "colors = sns.color_palette()\n",
    "\n",
    "fig = plt.figure(figsize=(5.25, 6), dpi=500)\n",
    "n_active_xlabels = []\n",
    "plt.subplot(211)\n",
    "x = 1\n",
    "for oi in range(nPkgs):\n",
    "    p = order[oi]\n",
    "    pkg = unique_columns[:, p]\n",
    "    count_p = counts[p]\n",
    "    n_active_p = int(np.sum(pkg*pkg_mask))\n",
    "    if to_show_mask[p]:\n",
    "        print(x)\n",
    "        if n_active_p > 0:\n",
    "            \n",
    "            if n_active_p == 1:\n",
    "                marker_size = 100*2\n",
    "                text_size = 8\n",
    "                r = 0.2\n",
    "                lw = 20\n",
    "                \n",
    "            elif n_active_p < 4:\n",
    "                marker_size = 150*2\n",
    "                text_size = 8\n",
    "                r = 0.22\n",
    "                lw = 20\n",
    "                \n",
    "            elif n_active_p < 7:\n",
    "                marker_size = 175*2\n",
    "                text_size = 7.5\n",
    "                r = 0.23\n",
    "                lw = 20\n",
    "                \n",
    "            else:\n",
    "                marker_size = 200*2\n",
    "                text_size = 7\n",
    "                r = 0.23\n",
    "                lw = 20\n",
    "            \n",
    "            vals = np.ones(nS)\n",
    "            for c_i in range(nCMs):\n",
    "                if pkg[c_i] != 0:\n",
    "                    vals = vals * res[:, c_i]\n",
    "            R_vals = 0.999/vals\n",
    "            \n",
    "            plt.scatter(x, np.median(R_vals), color=\"black\", facecolor=\"white\", s=marker_size, zorder=0, linewidth=0.5)\n",
    "            plt.plot([x, x], [np.percentile(R_vals, 2.5), np.percentile(R_vals, 97.5)], zorder=-1, color=\"lightgray\", linewidth=lw, solid_capstyle='butt')\n",
    "            plt.plot([x, x], [np.percentile(R_vals, 25), np.percentile(R_vals, 75)], zorder=-1, color=\"gray\", linewidth=lw, solid_capstyle='butt')\n",
    "            plt.plot([x-0.475, x+0.475], [np.percentile(R_vals, 50), np.percentile(R_vals, 50)], zorder=-3, color=\"black\", linewidth=2)\n",
    "            \n",
    "            if n_active_p > 1 or (pkg[schools_index]==1 and n_active_p == 1):\n",
    "                points = [(np.cos(2*np.pi/n_active_p*theta -np.pi/2)*r,np.sin((2*np.pi/n_active_p*theta) -np.pi/2)*r) for theta in range(0,n_active_p+1)]\n",
    "                for c_i, c in enumerate(np.nonzero(pkg)[0].tolist()): \n",
    "                    plt.text(x + points[c_i][0], np.median(R_vals) + points[c_i][1], cm_plot_style[c][0], zorder=2, color=cm_plot_style[c][1], fontproperties=fp2, ha=\"center\", va=\"center\", size=text_size)\n",
    "            else:\n",
    "                nz = np.nonzero(pkg)[0].tolist()[0]\n",
    "                plt.text(x , np.median(R_vals), cm_plot_style[nz][0], zorder=2, color=cm_plot_style[nz][1], fontproperties=fp2, ha=\"center\", va=\"center\", size=text_size)\n",
    "            \n",
    "            x += 1\n",
    "            n_active_xlabels.append(n_active_p)\n",
    "\n",
    "plt.xlabel(\"Number NPIs Active\", fontsize=8)\n",
    "plt.ylabel(\"Maximum $R_0$\\nthat can be brought below 1\", fontsize=8)\n",
    "plt.xticks(np.arange(1, len(n_active_xlabels)+1), n_active_xlabels, fontsize=8)\n",
    "plt.yticks(fontsize=10)\n",
    "plt.ylim([0, 7])\n",
    "plt.xlim([0.5, 15.75])\n",
    "\n",
    "plt.subplot(212)\n",
    "x = 1\n",
    "order = np.argsort(n_active)\n",
    "\n",
    "n_active_xlabels = []\n",
    "\n",
    "for oi in range(nPkgs):\n",
    "    p = order[oi]\n",
    "    pkg = unique_columns[:, p]\n",
    "    count_p = counts[p]\n",
    "    n_active_p = int(np.sum(pkg*pkg_mask))\n",
    "    if to_show_mask[p]:\n",
    "        if n_active_p > 0:\n",
    "            if n_active_p == 1:\n",
    "                marker_size = 65*2\n",
    "                text_size = 8\n",
    "                r = 0.12\n",
    "                lw = 15\n",
    "                e = 0.42\n",
    "            elif n_active_p < 4:\n",
    "                marker_size = 125*2\n",
    "                text_size = 8\n",
    "                r = 0.14\n",
    "                lw = 25\n",
    "                e = 0.45\n",
    "            elif n_active_p < 7:\n",
    "                marker_size = 125*2\n",
    "                text_size = 7.5\n",
    "                r = 0.17\n",
    "                lw = 30\n",
    "                e = 0.4625\n",
    "            else:\n",
    "                marker_size = 150*2\n",
    "                text_size = 7\n",
    "                r = 0.13\n",
    "                lw = 30\n",
    "                e = 0.475\n",
    "            \n",
    "            vals = np.ones(8000)\n",
    "            for c_i in range(nCMs):\n",
    "                if pkg[c_i] != 0:\n",
    "                    vals = vals * res[:, c_i]\n",
    "            R_vals = R_0 * vals\n",
    "            \n",
    "            plt.scatter(x, np.median(R_vals), color=\"black\", facecolor='white', s=marker_size, zorder=1, linewidth=1.05)\n",
    "            plt.plot([x, x], [np.percentile(R_vals, 2.5), np.percentile(R_vals, 97.5)], zorder=-1, color=\"black\",  alpha=0.05, linewidth=lw, solid_capstyle='butt')\n",
    "            plt.plot([x, x], [np.percentile(R_vals, 25), np.percentile(R_vals, 75)], zorder=-1, color=\"black\", alpha=0.5, linewidth=lw, solid_capstyle='butt') \n",
    "            plt.plot([x-e, x+e], [np.percentile(R_vals, 50), np.percentile(R_vals, 50)], zorder=0, color=\"black\", linewidth=1)\n",
    "            \n",
    "            if n_active_p > 1 or (pkg[schools_index]==1 and n_active_p == 1):\n",
    "                points = [(np.cos(2*np.pi/n_active_p*theta -np.pi/2)*r,np.sin((2*np.pi/n_active_p*theta) -np.pi/2)*r*0.6) for theta in range(0,n_active_p+1)]\n",
    "                for c_i, c in enumerate(np.nonzero(pkg)[0].tolist()): \n",
    "                    plt.text(x + points[c_i][0], np.median(R_vals) + points[c_i][1], cm_plot_style[c][0], zorder=2, color=cm_plot_style[c][1], fontproperties=fp2, ha=\"center\", va=\"center\", size=text_size)\n",
    "            else:\n",
    "                nz = np.nonzero(pkg)[0].tolist()[0]\n",
    "                plt.text(x, np.median(R_vals), cm_plot_style[nz][0], zorder=2, color=cm_plot_style[nz][1], fontproperties=fp2, ha=\"center\", va=\"center\", size=text_size)\n",
    "            \n",
    "            x += 1\n",
    "            n_active_xlabels.append(n_active_p)\n",
    "\n",
    "plt.ylim([0, 4])\n",
    "plt.xlim([0.5, 15.75])\n",
    "plt.plot([-1, 17], [1, 1], \"--\", linewidth=1, color=cols[0], zorder=-5)\n",
    "\n",
    "\n",
    "plt.xlabel(\"Number NPIs Active\", fontsize=8)\n",
    "plt.ylabel(\"Resulting $R$ if $R_0=3.3$\", fontsize=8)\n",
    "plt.xticks(np.arange(1, len(n_active_xlabels)+1), n_active_xlabels, fontsize=8)\n",
    "plt.yticks(fontsize=8)\n",
    "sns.despine()\n",
    "plt.tight_layout()\n",
    "\n",
    "plt.savefig(f\"figs/main/FigurePR.pdf\", bbox_inches='tight')"
   ]
  },
  {
   "cell_type": "code",
   "execution_count": null,
   "metadata": {},
   "outputs": [],
   "source": [
    "np.percentile(R_vals, 2.5)"
   ]
  },
  {
   "cell_type": "code",
   "execution_count": null,
   "metadata": {},
   "outputs": [],
   "source": [
    "f;"
   ]
  },
  {
   "cell_type": "markdown",
   "metadata": {},
   "source": [
    "# Numerical Values"
   ]
  },
  {
   "cell_type": "code",
   "execution_count": null,
   "metadata": {},
   "outputs": [],
   "source": [
    "full_cm_red = np.log(np.repeat(trace.CMReduction, 2000, axis=0)) + (np.random.normal(size=(8000*2000, 8)) * np.repeat(trace.CMAlphaScales, 2000, axis=0))"
   ]
  },
  {
   "cell_type": "code",
   "execution_count": null,
   "metadata": {},
   "outputs": [],
   "source": [
    "full_cm_red = np.exp(full_cm_red)"
   ]
  },
  {
   "cell_type": "code",
   "execution_count": null,
   "metadata": {},
   "outputs": [],
   "source": [
    "nS, _ = res.shape\n",
    "nF = len(derived_features)\n",
    "\n",
    "derived_res = np.zeros((nS*2000, nF))\n",
    "\n",
    "for f_i, (f, prodrows) in enumerate(derived_features):\n",
    "    samples = np.ones(nS*2000)\n",
    "    for r in prodrows:\n",
    "        samples = samples * full_cm_red[:, r] \n",
    "    derived_res[:, f_i] = samples\n",
    "\n",
    "derived_res = 100*(1-derived_res)"
   ]
  },
  {
   "cell_type": "code",
   "execution_count": null,
   "metadata": {},
   "outputs": [],
   "source": [
    "derived_res = full_cm_red "
   ]
  },
  {
   "cell_type": "code",
   "execution_count": null,
   "metadata": {},
   "outputs": [],
   "source": [
    "for cm_i, cm in enumerate(derived_features):\n",
    "    print(f\"{cm[0]}\")\n",
    "    print(f\"  {np.percentile(derived_res[:, cm_i], 50):.3f} [{np.percentile(derived_res[:, cm_i], 2.5):.3f} ...  {np.percentile(derived_res[:, cm_i], 97.5):.3f}] std: {np.std(derived_res[:, cm_i]):.3f}% Credence Positive: {100 * np.mean(derived_res[:, cm_i] > 0):.3f}%\")"
   ]
  },
  {
   "cell_type": "code",
   "execution_count": null,
   "metadata": {},
   "outputs": [],
   "source": [
    "reduction = 1-np.prod(full_cm_red, axis=1)"
   ]
  },
  {
   "cell_type": "code",
   "execution_count": null,
   "metadata": {},
   "outputs": [],
   "source": [
    "100*np.median(reduction)"
   ]
  },
  {
   "cell_type": "code",
   "execution_count": null,
   "metadata": {},
   "outputs": [],
   "source": [
    "100*np.percentile(reduction, 2.5)"
   ]
  },
  {
   "cell_type": "code",
   "execution_count": null,
   "metadata": {},
   "outputs": [],
   "source": [
    "100*np.percentile(reduction, 97.5)"
   ]
  },
  {
   "cell_type": "markdown",
   "metadata": {},
   "source": [
    "# mitigation calculator csv "
   ]
  },
  {
   "cell_type": "code",
   "execution_count": null,
   "metadata": {},
   "outputs": [],
   "source": [
    "target_derived_res = derived_res"
   ]
  },
  {
   "cell_type": "code",
   "execution_count": null,
   "metadata": {},
   "outputs": [],
   "source": [
    "target_median = np.median(derived_res, axis=0)"
   ]
  },
  {
   "cell_type": "code",
   "execution_count": null,
   "metadata": {},
   "outputs": [],
   "source": [
    "target_lower = np.percentile(derived_res, 2.5, axis=0)\n",
    "target_upper = np.percentile(derived_res, 97.5, axis=0)"
   ]
  },
  {
   "cell_type": "code",
   "execution_count": null,
   "metadata": {},
   "outputs": [],
   "source": [
    "from tqdm import tqdm"
   ]
  },
  {
   "cell_type": "code",
   "execution_count": null,
   "metadata": {},
   "outputs": [],
   "source": [
    "best_cm_red = None\n",
    "best_dist = 9999"
   ]
  },
  {
   "cell_type": "code",
   "execution_count": null,
   "metadata": {},
   "outputs": [],
   "source": [
    "for i in tqdm(range(100)):\n",
    "    cm_red = trace.CMReduction, 2000, axis=0) + (np.random.normal(size=(8000*2000, 8)) * np.repeat(trace.CMAlphaScales, 2000, axis=0))"
   ]
  },
  {
   "cell_type": "code",
   "execution_count": null,
   "metadata": {},
   "outputs": [],
   "source": [
    "full_cm_red = np.repeat(trace.CMReduction, 2000, axis=0) + (np.random.normal(size=(8000*2000, 8)) * np.repeat(trace.CMAlphaScales, 2000, axis=0))"
   ]
  },
  {
   "cell_type": "markdown",
   "metadata": {},
   "source": [
    "# Region Rs"
   ]
  },
  {
   "cell_type": "code",
   "execution_count": null,
   "metadata": {},
   "outputs": [],
   "source": [
    "for r_i, r in enumerate(data.Rs):\n",
    "    print(f\"{r}: R_0 = {np.mean(trace.RegionR[:, r_i]):.2f} [{np.percentile(trace.RegionR[:, r_i], 2.5):.2f} ... {np.percentile(trace.RegionR[:, r_i], 97.5):.2f}]\")"
   ]
  },
  {
   "cell_type": "markdown",
   "metadata": {},
   "source": [
    "# Correlation Plot"
   ]
  },
  {
   "cell_type": "code",
   "execution_count": null,
   "metadata": {},
   "outputs": [],
   "source": [
    "np.product(np.median(trace.CMReduction, axis=0))"
   ]
  },
  {
   "cell_type": "code",
   "execution_count": null,
   "metadata": {},
   "outputs": [],
   "source": [
    "correlation = np.corrcoef(trace.CMReduction, rowvar=False)"
   ]
  },
  {
   "cell_type": "code",
   "execution_count": null,
   "metadata": {},
   "outputs": [],
   "source": [
    "res = trace.CMReduction[:, [0, 1, 2, 3, 4, 5, 7]]\n",
    "res[:, 6] = trace.CMReduction[:, 6] * trace.CMReduction[:, 5]\n",
    "\n",
    "cms = [\"Gatherings <1000\", \"Gatherings <100\", \"Gatherings <10\", \"Some businesses closed\", \"Most businesses closed\", \"Schools and universities closed\", \"Stay-at-home order\"]"
   ]
  },
  {
   "cell_type": "code",
   "execution_count": null,
   "metadata": {},
   "outputs": [],
   "source": [
    "fig = plt.figure(figsize=(4, 3), dpi=300)\n",
    "correlation = np.corrcoef(res, rowvar=False)\n",
    "plt.imshow(correlation, cmap=\"PuOr\", vmin=-1, vmax=1)\n",
    "cbr = plt.colorbar()\n",
    "cbr.ax.tick_params(labelsize=6)\n",
    "plt.yticks(np.arange(N_cms), cms, fontsize=6)\n",
    "plt.xticks(np.arange(N_cms), cms, fontsize=6, rotation=-30, ha=\"left\")\n",
    "plt.title(\"Posterior Correlation\", fontsize=10);\n",
    "\n",
    "plt.savefig(f\"figs/main/FigureCorr.pdf\", bbox_inches='tight')"
   ]
  },
  {
   "cell_type": "code",
   "execution_count": null,
   "metadata": {},
   "outputs": [],
   "source": [
    "correlation"
   ]
  },
  {
   "cell_type": "code",
   "execution_count": null,
   "metadata": {},
   "outputs": [],
   "source": [
    "az.plot_pair(trace, var_names=['GrowthNoiseScale', 'CMAlphaScales'])"
   ]
  },
  {
   "cell_type": "code",
   "execution_count": null,
   "metadata": {},
   "outputs": [],
   "source": [
    "correlation"
   ]
  },
  {
   "cell_type": "code",
   "execution_count": null,
   "metadata": {},
   "outputs": [],
   "source": [
    "np.min(correlation)"
   ]
  },
  {
   "cell_type": "code",
   "execution_count": null,
   "metadata": {},
   "outputs": [],
   "source": [
    "import arviz as az"
   ]
  },
  {
   "cell_type": "code",
   "execution_count": null,
   "metadata": {},
   "outputs": [],
   "source": [
    "ep = EpidemiologicalParameters()"
   ]
  },
  {
   "cell_type": "code",
   "execution_count": null,
   "metadata": {},
   "outputs": [],
   "source": [
    "ep.get_model_build_dict()"
   ]
  },
  {
   "cell_type": "code",
   "execution_count": null,
   "metadata": {},
   "outputs": [],
   "source": [
    "import scipy.stats as stats"
   ]
  },
  {
   "cell_type": "code",
   "execution_count": null,
   "metadata": {},
   "outputs": [],
   "source": [
    "varnames = [\"GI_mean\", \"DeathsDelayMean\", \"CasesDelayMean\", \"GI_sd\",  \"DeathsDelayDisp\", \"CasesDelayDisp\"]\n",
    "titles = ['Generation Interval Mean',  'Infection to Death Delay Mean', 'Infection to Case-Confirmation Delay Mean', 'Generation Interval std.', \n",
    "          'Infection to Death Delay disp.', 'Infection to Case-Confirmation Delay disp.']\n",
    "\n",
    "prior_means = [5.06, 21.81, 10.92, 2.11, 14.3, 5.4]\n",
    "prior_stds = [0.3265, 1.00, 0.94, 0.5, 5.18, 0.269]\n",
    "plt.figure(figsize=(7, 3), dpi=300)\n",
    "for v_i, v in enumerate(varnames):\n",
    "    plt.subplot(2, 3, v_i + 1)\n",
    "    az.plot_kde(trace[v], plot_kwargs={'color':cols[0]}, label='posterior', ax=plt.gca())\n",
    "    plt.title(titles[v_i], fontsize=8)\n",
    "    \n",
    "    l, u = plt.xlim()\n",
    "    x = np.linspace(l, u, 500)\n",
    "    d = stats.norm(loc=prior_means[v_i], scale=prior_stds[v_i])\n",
    "    p = d.pdf(x)\n",
    "    plt.plot(x, p, label='prior', color=cols[2])\n",
    "    \n",
    "    plt.xticks(fontsize=6)\n",
    "    plt.yticks(fontsize=6)\n",
    "    if v_i == 0 or v_i == 3:\n",
    "        plt.ylabel('density', fontsize=7)\n",
    "    \n",
    "    if v_i > 2:\n",
    "        plt.xlabel('value', fontsize=7)\n",
    "                \n",
    "    if v_i == 0:\n",
    "        plt.legend(fontsize=6, fancybox=True, shadow=True)\n",
    "    else:\n",
    "        plt.gca().get_legend().remove()\n",
    "\n",
    "plt.tight_layout()\n",
    "plt.savefig(f\"figs/main/FigureEpiParamPosts.pdf\", bbox_inches='tight')"
   ]
  },
  {
   "cell_type": "markdown",
   "metadata": {},
   "source": [
    "# NPI Combinations"
   ]
  },
  {
   "cell_type": "code",
   "execution_count": null,
   "metadata": {},
   "outputs": [],
   "source": [
    "sc_comb_trace = np.zeros((8000, 8))\n",
    "eff_cm_red = np.exp(np.log(trace.CMReduction) + + np.random.normal(size=(8000, 8)) * trace.CMAlphaScales)\n",
    "sc_comb_trace[:, :7] = eff_cm_red[:, :7]\n",
    "sc_comb_trace[:, 5] = eff_cm_red[:, 5] * eff_cm_red[:, 6]\n",
    "sc_comb_trace[:, 6] = eff_cm_red[:, 6]"
   ]
  },
  {
   "cell_type": "code",
   "execution_count": null,
   "metadata": {},
   "outputs": [],
   "source": [
    "data.CMs"
   ]
  },
  {
   "cell_type": "code",
   "execution_count": null,
   "metadata": {},
   "outputs": [],
   "source": [
    "requirements = [\n",
    "    [],\n",
    "    [0],\n",
    "    [0, 1], \n",
    "    [],\n",
    "    [3],\n",
    "    [], \n",
    "    []\n",
    "]"
   ]
  },
  {
   "cell_type": "code",
   "execution_count": null,
   "metadata": {},
   "outputs": [],
   "source": [
    "import itertools\n",
    "lst = list(itertools.product([0, 1], repeat=8))"
   ]
  },
  {
   "cell_type": "code",
   "execution_count": null,
   "metadata": {},
   "outputs": [],
   "source": [
    "table = np.empty((0, 11))\n",
    "\n",
    "for l in lst:\n",
    "    cont = True\n",
    "    \n",
    "    for cm_i in range(7):\n",
    "        for cm_req in requirements[cm_i]:\n",
    "            if l[cm_req] == 0 and l[cm_i] == 1:\n",
    "                cont = False\n",
    "    \n",
    "    if cont:\n",
    "        comb_reduction = 100*(1-np.product(sc_comb_trace[:, np.array(l) == 1], axis=1))\n",
    "        row = np.array([*l, np.percentile(comb_reduction, 50),  np.percentile(comb_reduction, 2.5),  np.percentile(comb_reduction, 97.5)]).reshape((1, 11))\n",
    "        table = np.append(table, row, axis=0)"
   ]
  },
  {
   "cell_type": "code",
   "execution_count": null,
   "metadata": {},
   "outputs": [],
   "source": [
    "header_str = ''\n",
    "\n",
    "n = '\\n'\n",
    "for l, _ in derived_features:\n",
    "    header_str = f'{header_str}{l.replace(n, \" \")},'\n",
    "\n",
    "header_str += 'median percentage reduction in R_t, lower 95% credible interval, upper 95% credible interval, '"
   ]
  },
  {
   "cell_type": "code",
   "execution_count": null,
   "metadata": {},
   "outputs": [],
   "source": [
    "np.savetxt('NPI_combination_effects.csv', table, delimiter=',', header=header_str, fmt='%f')"
   ]
  },
  {
   "cell_type": "markdown",
   "metadata": {},
   "source": [
    "# diagonostic plots"
   ]
  },
  {
   "cell_type": "code",
   "execution_count": null,
   "metadata": {},
   "outputs": [],
   "source": [
    "import arviz as az"
   ]
  },
  {
   "cell_type": "code",
   "execution_count": null,
   "metadata": {},
   "outputs": [],
   "source": [
    "ess = az.ess(trace)"
   ]
  },
  {
   "cell_type": "code",
   "execution_count": null,
   "metadata": {},
   "outputs": [],
   "source": [
    "rhat = az.rhat(trace)"
   ]
  },
  {
   "cell_type": "code",
   "execution_count": null,
   "metadata": {},
   "outputs": [],
   "source": [
    "trace.varnames"
   ]
  },
  {
   "cell_type": "code",
   "execution_count": null,
   "metadata": {},
   "outputs": [],
   "source": [
    "def collate(stat):\n",
    "    stat_all = []\n",
    "    stat_nums = []\n",
    "    for var in [\"CMReduction\", \"GI_mean\", \"GI_sd\", \"GrowthCasesNoise\", \"GrowthDeathsNoise\", \"CasesDelayMean\", \"CasesDelayDisp\",\n",
    "                \"InitialSizeDeaths_log\", \"InitialSizeCases_log\", \"DeathsDelayMean\", \"DeathsDelayDisp\", \"HyperRVar\", \"PsiCases\",\n",
    "                \"PsiDeaths\", \"InfectedDeaths\", \"InfectedCases\", \"ExpectedDeaths\", \"ExpectedCases\", \"AllCMAlphaNoise\", \"CMAlphaScales\", \"GrowthNoiseScale\", \"CMAlphaScales\"]:\n",
    "        if stat[str(var)].size>1:\n",
    "            stat_all.append(stat[str(var)].to_dataframe().to_numpy().flatten())\n",
    "        else:\n",
    "            stat_nums.append(float(stat[str(var)]))\n",
    "    stat_all = np.concatenate(np.array(stat_all))\n",
    "    stat_all = np.concatenate([stat_all, stat_nums])\n",
    "#     stat_all[stat_all > 100] = 1\n",
    "    return stat_all"
   ]
  },
  {
   "cell_type": "code",
   "execution_count": null,
   "metadata": {},
   "outputs": [],
   "source": [
    "plt.figure(figsize=(7, 3), dpi=300)\n",
    "plt.subplot(121)\n",
    "plt.hist(collate(rhat), bins=40, color=cols[0])\n",
    "plt.title(\"$\\hat{R}$\", fontsize=12)\n",
    "\n",
    "plt.subplot(122)\n",
    "plt.hist(collate(ess)/8000, bins=40, color=cols[0])\n",
    "plt.xlim([0, 2])\n",
    "plt.title(\"Relative ESS\", fontsize=12)\n",
    "plt.savefig(f\"figs/main/FigureMCMCStats.pdf\", bbox_inches='tight')"
   ]
  },
  {
   "cell_type": "markdown",
   "metadata": {},
   "source": [
    "# Model Fit Graphs"
   ]
  },
  {
   "cell_type": "code",
   "execution_count": null,
   "metadata": {},
   "outputs": [],
   "source": [
    "def epicurve_plot(region, start_d_i=30):\n",
    "    r_i = data.Rs.index(region)\n",
    "    \n",
    "    if len(np.nonzero(data.NewCases.mask[r_i, :])[0]) > 0:\n",
    "        end_d_i = np.nonzero(data.NewCases.mask[r_i, :])[0][0]+3\n",
    "    else:\n",
    "        end_d_i = len(data.Ds)\n",
    "\n",
    "    ec = trace.ExpectedDeaths[:, r_i]\n",
    "    nS, nDs = ec.shape\n",
    "\n",
    "    try:\n",
    "        dist = pm.NegativeBinomial.dist(mu=ec, alpha=np.repeat(trace.PsiDeaths.reshape((nS, 1)), nDs, axis=-1))\n",
    "        ec_output = dist.random()\n",
    "    except ValueError:\n",
    "        ec_output = 0 * ec\n",
    "        means_d = means_d * 0\n",
    "        lu_id = lu_id * 0\n",
    "        up_id = up_id * 0\n",
    "\n",
    "    means_expected_deaths, lu_ed, up_ed, _, _ = produce_CIs(\n",
    "        ec_output\n",
    "    )\n",
    "\n",
    "    eco = trace.ExpectedCases[:, r_i]\n",
    "    nS, nDs = eco.shape\n",
    "\n",
    "    try:\n",
    "        dist = pm.NegativeBinomial.dist(mu=eco, alpha=np.repeat(trace.PsiCases.reshape((nS, 1)), nDs, axis=-1))\n",
    "        eco_output = dist.random()\n",
    "    except ValueError:\n",
    "        eco_output = 10**-10 * ec\n",
    "\n",
    "    means_expected_cases, lu_ec, up_ec, _, _ = produce_CIs(\n",
    "        eco_output\n",
    "    )\n",
    "\n",
    "    days = data.Ds\n",
    "    days_x = np.arange(len(days))\n",
    "    deaths = data.NewDeaths[r_i, :]\n",
    "    cases = data.NewCases[r_i, :]\n",
    "\n",
    "    ax = plt.gca()\n",
    "    \n",
    "    plt.plot(\n",
    "        days_x,\n",
    "        means_expected_deaths,\n",
    "        label=\"Predicted Daily Deaths\",\n",
    "        zorder=2,\n",
    "        color=\"tab:red\"\n",
    "    )\n",
    "\n",
    "    plt.fill_between(\n",
    "        days_x, lu_ed, up_ed, alpha=0.25, color=\"tab:red\", linewidth=0\n",
    "    )\n",
    "\n",
    "    plt.scatter(\n",
    "        days_x,\n",
    "        deaths,\n",
    "        label=\"Daily Deaths\",\n",
    "        marker=\"o\",\n",
    "        s=10,\n",
    "        color=\"tab:red\",\n",
    "        alpha=0.9,\n",
    "        zorder=3,\n",
    "    )\n",
    "    \n",
    "    plt.plot(\n",
    "        days_x,\n",
    "        means_expected_cases,\n",
    "        label=\"Predicted Daily Confirmed Cases\",\n",
    "        zorder=2,\n",
    "        color=\"tab:blue\"\n",
    "    )\n",
    "\n",
    "    plt.fill_between(\n",
    "        days_x, lu_ec, up_ec, alpha=0.25, color=\"tab:blue\", linewidth=0\n",
    "    )\n",
    "\n",
    "    plt.scatter(\n",
    "        days_x,\n",
    "        cases,\n",
    "        label=\"Daily Confirmed Cases\",\n",
    "        marker=\"o\",\n",
    "        s=10,\n",
    "        color=\"tab:blue\",\n",
    "        alpha=0.9,\n",
    "        zorder=3,\n",
    "    )\n",
    "\n",
    "    ax.set_yscale(\"log\")\n",
    "    plt.ylim([10 ** 0, 10 ** 6])\n",
    "    locs = np.arange(start_d_i, end_d_i, 14)\n",
    "    xlabels = [f\"{data.Ds[ts].day}-{month_to_str(data.Ds[ts].month)}\" for ts in locs]\n",
    "    plt.xticks(locs, xlabels, rotation=-30, ha=\"left\")\n",
    "    plt.xlim((start_d_i, end_d_i))\n",
    "    \n",
    "    ax=plt.gca()\n",
    "    add_cms_to_plot(ax, data.ActiveCMs, r_i, start_d_i, end_d_i, data.Ds, cm_plot_style)\n",
    "    plt.title(data.RNames[region][0], fontsize=12)\n",
    "    \n",
    "    return ax\n",
    "    \n",
    "def reprod_plot(r, start_d_i=30):\n",
    "    r_i = data.Rs.index(r)\n",
    "    \n",
    "    nS, nCMs = trace.CM_Alpha.shape\n",
    "    nDs = len(data.Ds)\n",
    "    \n",
    "    \n",
    "    ActiveCMRed = np.sum(data.ActiveCMs[r_i, :, : ].reshape((1, nCMs, nDs)) * trace.CM_Alpha.reshape((nS, nCMs, 1)), axis=1)    \n",
    "    RegionR = trace['RegionR'][:, r_i]\n",
    "\n",
    "    rs = np.exp(np.log(RegionR.reshape((nS, 1))) - ActiveCMRed)\n",
    "    \n",
    "    if len(np.nonzero(data.NewCases.mask[r_i, :])[0]) > 0:\n",
    "        end_d_i = np.nonzero(data.NewCases.mask[r_i, :])[0][0]+3\n",
    "    else:\n",
    "        end_d_i = len(data.Ds)\n",
    "    \n",
    "    days_x = np.arange(len(data.Ds))\n",
    "    \n",
    "    \n",
    "    mns, lu, up, _, _ = produce_CIs(\n",
    "        rs\n",
    "    )\n",
    "    \n",
    "    plt.plot(days_x, mns, color=cols[0])\n",
    "    plt.fill_between(\n",
    "        days_x, lu, up, alpha=0.25, color=cols[0], linewidth=0\n",
    "    )\n",
    "    \n",
    "    locs = np.arange(start_d_i, end_d_i, 14)\n",
    "    xlabels = [f\"{data.Ds[ts].day}-{month_to_str(data.Ds[ts].month)}\" for ts in locs]\n",
    "    plt.xticks(locs, xlabels, rotation=-30, ha=\"left\")\n",
    "    plt.xlim((start_d_i, end_d_i))\n",
    "    plt.ylim([0, 5])\n",
    "    plt.plot([start_d_i, end_d_i], [1, 1], color=cols[1])\n",
    "    plt.ylabel(\"$R_t$\", fontsize=10)\n",
    "    ax=plt.gca()\n",
    "    add_cms_to_plot(ax, data.ActiveCMs, r_i, start_d_i, end_d_i, data.Ds, cm_plot_style)\n",
    "    plt.title(data.RNames[r][0], fontsize=12)\n",
    "    \n",
    "def month_to_str(x):\n",
    "    if x == 1:\n",
    "        return \"JAN\"\n",
    "    if x == 2:\n",
    "        return \"FEB\"\n",
    "    if x == 3:\n",
    "        return \"MAR\"\n",
    "    if x == 4:\n",
    "        return \"APR\"\n",
    "    if x == 5:\n",
    "        return \"MAY\"\n",
    "    "
   ]
  },
  {
   "cell_type": "code",
   "execution_count": null,
   "metadata": {},
   "outputs": [],
   "source": [
    "import pymc3 as pm\n",
    "\n",
    "rs = [\"GB\", \"IT\"]\n",
    "plt.figure(figsize=(8, 8), dpi=300)\n",
    "\n",
    "plt.subplot(221)\n",
    "epicurve_plot(rs[0])\n",
    "\n",
    "plt.subplot(222)\n",
    "reprod_plot(rs[0])\n",
    "\n",
    "plt.subplot(223)\n",
    "ax = epicurve_plot(rs[1])\n",
    "\n",
    "plt.subplot(224)\n",
    "reprod_plot(rs[1])\n",
    "\n",
    "\n",
    "plt.tight_layout()\n",
    "\n",
    "\n",
    "ax.legend(shadow=True, fancybox=True, loc = \"upper center\", bbox_to_anchor = (1.15, -0.15), fontsize=8, ncol=2)\n",
    "\n",
    "plt.savefig(f\"figs/main/FigureFits.pdf\", bbox_inches='tight')"
   ]
  },
  {
   "cell_type": "markdown",
   "metadata": {},
   "source": [
    "# Growth Noise Scale "
   ]
  },
  {
   "cell_type": "code",
   "execution_count": null,
   "metadata": {},
   "outputs": [],
   "source": [
    "np.mean(trace.GrowthNoiseScale)"
   ]
  },
  {
   "cell_type": "code",
   "execution_count": null,
   "metadata": {},
   "outputs": [],
   "source": [
    "plt.figure(figsize=(4, 3), dpi=300)\n",
    "az.plot_kde(trace['GrowthNoiseScale'], plot_kwargs={'color':cols[0]}, label='posterior', ax=plt.gca())\n",
    "plt.title('Growth Noise Scale, $\\sigma_N$', fontsize=10)\n",
    "\n",
    "l, u = plt.xlim()\n",
    "x = np.linspace(l, u, 500)\n",
    "\n",
    "prior = pm.HalfStudentT.dist(nu=3, sigma=0.15).random(size=1000000)\n",
    "az.plot_kde(prior, plot_kwargs={'color':'k'}, label='prior', ax=plt.gca())\n",
    "plt.xticks(fontsize=6)\n",
    "plt.yticks(fontsize=6)\n",
    "plt.ylabel('density', fontsize=7)\n",
    "plt.xlabel('value', fontsize=7)\n",
    "plt.xlim([0, 0.5])\n",
    "\n",
    "\n",
    "plt.tight_layout()\n",
    "plt.savefig(f\"figs/main/FigureGrowthNoiseScale.pdf\", bbox_inches='tight')"
   ]
  },
  {
   "cell_type": "code",
   "execution_count": null,
   "metadata": {},
   "outputs": [],
   "source": [
    "az.plot_trace(trace, ['CMAlphaScales'])"
   ]
  },
  {
   "cell_type": "markdown",
   "metadata": {},
   "source": [
    "# Conditional Activation Plots"
   ]
  },
  {
   "cell_type": "code",
   "execution_count": null,
   "metadata": {},
   "outputs": [],
   "source": [
    "plt.figure(figsize=(5.25, 2), dpi=300)\n",
    "plt.subplot(121)\n",
    "data.conditional_activation_plot(cm_plot_style, False)\n",
    "\n",
    "plt.subplot(122)\n",
    "data.cumulative_days_plot(cm_plot_style, False, True)\n",
    "\n",
    "plt.tight_layout()\n",
    "plt.savefig('figs/main/FigureDataContext.pdf')"
   ]
  },
  {
   "cell_type": "markdown",
   "metadata": {},
   "source": [
    "# Conditioning Videos"
   ]
  },
  {
   "cell_type": "code",
   "execution_count": null,
   "metadata": {},
   "outputs": [],
   "source": [
    "import matplotlib.animation as animation\n",
    "from matplotlib import animation, rc\n",
    "from IPython.display import HTML\n",
    "\n",
    "import copy"
   ]
  },
  {
   "cell_type": "code",
   "execution_count": null,
   "metadata": {},
   "outputs": [],
   "source": [
    "def condition_on(results, cm_index, value):\n",
    "    copy_res = copy.deepcopy(results)\n",
    "    remaining_res = np.delete(copy_res, cm_index, axis=1)\n",
    "    \n",
    "    cms = np.arange(7)\n",
    "\n",
    "    cms_remaining = np.delete(cms, cm_index)\n",
    "    res_mat = np.zeros((nS, nCMs))\n",
    "    res_mat[:, -1] = copy_res[:, cm_index]\n",
    "    res_mat[:, :-1] = remaining_res \n",
    "    \n",
    "    mu = np.mean(100*(1-res_mat), axis=0)\n",
    "    cov = np.cov(100*(1-res_mat), rowvar=False)\n",
    "    \n",
    "    m_1 = mu[:nCMs-1]\n",
    "    m_2 = mu[-1]\n",
    "    s_11 = cov[:nCMs-1, :nCMs-1]\n",
    "    s_12 = cov[:nCMs-1, -1]\n",
    "    s_22 = cov[-1, -1]\n",
    "    \n",
    "    mu_bar = m_1 + s_12 * (s_22**-1) * (value - m_2)\n",
    "    sigma_bar = s_11 - (1/s_22) * s_12 @ s_12.T\n",
    "    \n",
    "    low = mu_bar - 1.96*np.diag(sigma_bar)**0.5\n",
    "    high = mu_bar + 1.96*np.diag(sigma_bar)**0.5\n",
    "    \n",
    "    return (mu_bar, low, high, cms_remaining.tolist())"
   ]
  },
  {
   "cell_type": "code",
   "execution_count": null,
   "metadata": {},
   "outputs": [],
   "source": [
    "np.mean(res, axis=0)"
   ]
  },
  {
   "cell_type": "code",
   "execution_count": null,
   "metadata": {},
   "outputs": [],
   "source": [
    "full_res = np.exp(np.log(trace.CMReduction) + np.random.normal(size=(8000, 8)) * trace.CMAlphaScales)\n",
    "\n",
    "res = full_res[:, [0, 1, 2, 3, 4, 5, 7]] \n",
    "res[:, 5] = res[:, 5] * full_res[:, 6] "
   ]
  },
  {
   "cell_type": "code",
   "execution_count": null,
   "metadata": {},
   "outputs": [],
   "source": [
    "CMs = ['Gatherings <1000',\n",
    " 'Gatherings <100',\n",
    " 'Gatherings <10',\n",
    " 'Some businesses closed',\n",
    " 'Most businesses closed',\n",
    " 'Schools and universities closed',\n",
    " 'Stay at home order']\n",
    "\n",
    "nCMs = len(CMs) "
   ]
  },
  {
   "cell_type": "code",
   "execution_count": null,
   "metadata": {},
   "outputs": [],
   "source": [
    "npi = 0\n",
    "\n",
    "fig = plt.figure(figsize=(5, 3), dpi=300)\n",
    "\n",
    "x_min = -25\n",
    "x_max = 75\n",
    "plt.plot([0, 0], [1, -(nCMs)], \"--k\", linewidth=0.5)\n",
    "xrange = np.array([x_min, x_max])\n",
    "for height in range(0, nCMs+2, 2):\n",
    "    plt.fill_between(xrange, -(height-0.5), -(height+0.5), color=\"silver\", alpha=0.5, linewidth=0)\n",
    "xtick_vals = [-50, -25, 0, 25, 50, 75, 100]\n",
    "xtick_str = [f\"{x:.0f}%\" for x in xtick_vals]\n",
    "plt.yticks([])\n",
    "\n",
    "x_r = np.abs(x_min - x_max)\n",
    "plt.xticks(xtick_vals, xtick_str, fontsize=8)\n",
    "plt.xlim([x_min, x_max])\n",
    "plt.ylim([-(nCMs - 0.25), 0.75])\n",
    "\n",
    "lines = []\n",
    "mu = np.mean(100*(1-res), axis=0)\n",
    "stds = np.diag(np.cov(100*(1-res), rowvar=False))**0.5\n",
    "\n",
    "for cm in range(nCMs): \n",
    "    line, = plt.gca().plot([mu[cm] - 1.96*stds[cm], mu[cm] + 1.96*stds[cm]], [-cm, -cm], color=\"black\", alpha=0.25)\n",
    "    line2, = plt.gca().plot([mu[cm] , mu[cm]], [-cm-0.1, -cm+0.1], color=\"black\")\n",
    "    lines.append((line, line2))\n",
    "\n",
    "plt.yticks(-np.arange(nCMs), CMs, fontsize=8)\n",
    "yticklabels = plt.gca().yaxis.get_ticklabels()\n",
    "yticklabels[npi].set_color(cols[0])\n",
    "plt.xlabel('Average reduction in $R$,\\n in the context of our data.', fontsize=8)\n",
    "plt.text(35, -0.05, \"Note: this video shows the\\nadditional effect, and not the\\ncumulative effect of each NPI.\", fontsize=5.5, va=\"center\", weight=\"bold\")   \n",
    "plt.title(f\"Approximate Posterior\\nConditioned on {CMs[npi]}\", fontsize=10)\n",
    "\n",
    "def animate(i, which_cm, n_frames):\n",
    "    val = mu[which_cm] + (1.96*stds[which_cm] * 2*float(i)/n_frames) - 1.96*stds[which_cm]\n",
    "    lines[which_cm][0].set_xdata([-200, -200])\n",
    "    lines[which_cm][1].set_xdata([val, val])\n",
    "    lines[which_cm][1].set_color(cols[0])\n",
    "    \n",
    "    mu_bar, low, high, cms_remaining = condition_on(res, which_cm, val)\n",
    "    for i, cm in enumerate(cms_remaining):\n",
    "        lines[cm][0].set_xdata([low[i], high[i]])\n",
    "        lines[cm][1].set_xdata([mu_bar[i], mu_bar[i]])\n",
    "    plt.tight_layout()\n",
    "    \n",
    "anim = animation.FuncAnimation(fig, animate, frames=100, interval=50, fargs=(npi, 100,))\n",
    "HTML(anim.to_jshtml())"
   ]
  },
  {
   "cell_type": "code",
   "execution_count": null,
   "metadata": {},
   "outputs": [],
   "source": [
    "npi = 1\n",
    "\n",
    "fig = plt.figure(figsize=(5, 3), dpi=300)\n",
    "\n",
    "x_min = -25\n",
    "x_max = 75\n",
    "plt.plot([0, 0], [1, -(nCMs)], \"--k\", linewidth=0.5)\n",
    "xrange = np.array([x_min, x_max])\n",
    "for height in range(0, nCMs+2, 2):\n",
    "    plt.fill_between(xrange, -(height-0.5), -(height+0.5), color=\"silver\", alpha=0.5, linewidth=0)\n",
    "xtick_vals = [-50, -25, 0, 25, 50, 75, 100]\n",
    "xtick_str = [f\"{x:.0f}%\" for x in xtick_vals]\n",
    "plt.yticks([])\n",
    "\n",
    "x_r = np.abs(x_min - x_max)\n",
    "plt.xticks(xtick_vals, xtick_str, fontsize=8)\n",
    "plt.xlim([x_min, x_max])\n",
    "plt.ylim([-(nCMs - 0.25), 0.75])\n",
    "\n",
    "lines = []\n",
    "mu = np.mean(100*(1-res), axis=0)\n",
    "stds = np.diag(np.cov(100*(1-res), rowvar=False))**0.5\n",
    "\n",
    "for cm in range(nCMs): \n",
    "    line, = plt.gca().plot([mu[cm] - 1.96*stds[cm], mu[cm] + 1.96*stds[cm]], [-cm, -cm], color=\"black\", alpha=0.25)\n",
    "    line2, = plt.gca().plot([mu[cm] , mu[cm]], [-cm-0.1, -cm+0.1], color=\"black\")\n",
    "    lines.append((line, line2))\n",
    "\n",
    "plt.yticks(-np.arange(nCMs), CMs, fontsize=8)\n",
    "yticklabels = plt.gca().yaxis.get_ticklabels()\n",
    "yticklabels[npi].set_color(cols[0])\n",
    "plt.xlabel('Average reduction in $R$,\\n in the context of our data.', fontsize=8)\n",
    "plt.text(35, -0.05, \"Note: this video shows the\\nadditional effect, and not the\\ncumulative effect of each NPI.\", fontsize=5.5, va=\"center\", weight=\"bold\")   \n",
    "plt.title(f\"Approximate Posterior\\nConditioned on {CMs[npi]}\", fontsize=10)\n",
    "\n",
    "def animate(i, which_cm, n_frames):\n",
    "    val = mu[which_cm] + (1.96*stds[which_cm] * 2*float(i)/n_frames) - 1.96*stds[which_cm]\n",
    "    lines[which_cm][0].set_xdata([-200, -200])\n",
    "    lines[which_cm][1].set_xdata([val, val])\n",
    "    lines[which_cm][1].set_color(cols[0])\n",
    "    \n",
    "    mu_bar, low, high, cms_remaining = condition_on(res, which_cm, val)\n",
    "    for i, cm in enumerate(cms_remaining):\n",
    "        lines[cm][0].set_xdata([low[i], high[i]])\n",
    "        lines[cm][1].set_xdata([mu_bar[i], mu_bar[i]])\n",
    "    plt.tight_layout()\n",
    "    \n",
    "anim = animation.FuncAnimation(fig, animate, frames=100, interval=50, fargs=(npi, 100, ));\n",
    "HTML(anim.to_jshtml())"
   ]
  },
  {
   "cell_type": "code",
   "execution_count": null,
   "metadata": {},
   "outputs": [],
   "source": [
    "npi = 2\n",
    "\n",
    "fig = plt.figure(figsize=(5, 3), dpi=300)\n",
    "\n",
    "x_min = -25\n",
    "x_max = 75\n",
    "plt.plot([0, 0], [1, -(nCMs)], \"--k\", linewidth=0.5)\n",
    "xrange = np.array([x_min, x_max])\n",
    "for height in range(0, nCMs+2, 2):\n",
    "    plt.fill_between(xrange, -(height-0.5), -(height+0.5), color=\"silver\", alpha=0.5, linewidth=0)\n",
    "xtick_vals = [-50, -25, 0, 25, 50, 75, 100]\n",
    "xtick_str = [f\"{x:.0f}%\" for x in xtick_vals]\n",
    "plt.yticks([])\n",
    "\n",
    "x_r = np.abs(x_min - x_max)\n",
    "plt.xticks(xtick_vals, xtick_str, fontsize=8)\n",
    "plt.xlim([x_min, x_max])\n",
    "plt.ylim([-(nCMs - 0.25), 0.75])\n",
    "\n",
    "lines = []\n",
    "mu = np.mean(100*(1-res), axis=0)\n",
    "stds = np.diag(np.cov(100*(1-res), rowvar=False))**0.5\n",
    "\n",
    "for cm in range(nCMs): \n",
    "    line, = plt.gca().plot([mu[cm] - 1.96*stds[cm], mu[cm] + 1.96*stds[cm]], [-cm, -cm], color=\"black\", alpha=0.25)\n",
    "    line2, = plt.gca().plot([mu[cm] , mu[cm]], [-cm-0.1, -cm+0.1], color=\"black\")\n",
    "    lines.append((line, line2))\n",
    "\n",
    "plt.yticks(-np.arange(nCMs), CMs, fontsize=8)\n",
    "yticklabels = plt.gca().yaxis.get_ticklabels()\n",
    "yticklabels[npi].set_color(cols[0])\n",
    "plt.xlabel('Average reduction in $R$,\\n in the context of our data.', fontsize=8)\n",
    "plt.text(35, -0.05, \"Note: this video shows the\\nadditional effect, and not the\\ncumulative effect of each NPI.\", fontsize=5.5, va=\"center\", weight=\"bold\")   \n",
    "plt.title(f\"Approximate Posterior\\nConditioned on {CMs[npi]}\", fontsize=10)\n",
    "\n",
    "def animate(i, which_cm, n_frames):\n",
    "    val = mu[which_cm] + (1.96*stds[which_cm] * 2*float(i)/n_frames) - 1.96*stds[which_cm]\n",
    "    lines[which_cm][0].set_xdata([-200, -200])\n",
    "    lines[which_cm][1].set_xdata([val, val])\n",
    "    lines[which_cm][1].set_color(cols[0])\n",
    "    \n",
    "    mu_bar, low, high, cms_remaining = condition_on(res, which_cm, val)\n",
    "    for i, cm in enumerate(cms_remaining):\n",
    "        lines[cm][0].set_xdata([low[i], high[i]])\n",
    "        lines[cm][1].set_xdata([mu_bar[i], mu_bar[i]])\n",
    "    plt.tight_layout()\n",
    "    \n",
    "anim = animation.FuncAnimation(fig, animate, frames=100, interval=50, fargs=(npi, 100, ));\n",
    "HTML(anim.to_jshtml())"
   ]
  },
  {
   "cell_type": "code",
   "execution_count": null,
   "metadata": {},
   "outputs": [],
   "source": [
    "npi = 3\n",
    "\n",
    "fig = plt.figure(figsize=(5, 3), dpi=300)\n",
    "\n",
    "x_min = -25\n",
    "x_max = 75\n",
    "plt.plot([0, 0], [1, -(nCMs)], \"--k\", linewidth=0.5)\n",
    "xrange = np.array([x_min, x_max])\n",
    "for height in range(0, nCMs+2, 2):\n",
    "    plt.fill_between(xrange, -(height-0.5), -(height+0.5), color=\"silver\", alpha=0.5, linewidth=0)\n",
    "xtick_vals = [-50, -25, 0, 25, 50, 75, 100]\n",
    "xtick_str = [f\"{x:.0f}%\" for x in xtick_vals]\n",
    "plt.yticks([])\n",
    "\n",
    "x_r = np.abs(x_min - x_max)\n",
    "plt.xticks(xtick_vals, xtick_str, fontsize=8)\n",
    "plt.xlim([x_min, x_max])\n",
    "plt.ylim([-(nCMs - 0.25), 0.75])\n",
    "\n",
    "lines = []\n",
    "mu = np.mean(100*(1-res), axis=0)\n",
    "stds = np.diag(np.cov(100*(1-res), rowvar=False))**0.5\n",
    "\n",
    "for cm in range(nCMs): \n",
    "    line, = plt.gca().plot([mu[cm] - 1.96*stds[cm], mu[cm] + 1.96*stds[cm]], [-cm, -cm], color=\"black\", alpha=0.25)\n",
    "    line2, = plt.gca().plot([mu[cm] , mu[cm]], [-cm-0.1, -cm+0.1], color=\"black\")\n",
    "    lines.append((line, line2))\n",
    "\n",
    "plt.yticks(-np.arange(nCMs), CMs, fontsize=8)\n",
    "yticklabels = plt.gca().yaxis.get_ticklabels()\n",
    "yticklabels[npi].set_color(cols[0])\n",
    "plt.xlabel('Average reduction in $R$,\\n in the context of our data.', fontsize=8)\n",
    "plt.text(35, -0.05, \"Note: this video shows the\\nadditional effect, and not the\\ncumulative effect of each NPI.\", fontsize=5.5, va=\"center\", weight=\"bold\")   \n",
    "plt.title(f\"Approximate Posterior\\nConditioned on {CMs[npi]}\", fontsize=10)\n",
    "\n",
    "def animate(i, which_cm, n_frames):\n",
    "    val = mu[which_cm] + (1.96*stds[which_cm] * 2*float(i)/n_frames) - 1.96*stds[which_cm]\n",
    "    lines[which_cm][0].set_xdata([-200, -200])\n",
    "    lines[which_cm][1].set_xdata([val, val])\n",
    "    lines[which_cm][1].set_color(cols[0])\n",
    "    \n",
    "    mu_bar, low, high, cms_remaining = condition_on(res, which_cm, val)\n",
    "    for i, cm in enumerate(cms_remaining):\n",
    "        lines[cm][0].set_xdata([low[i], high[i]])\n",
    "        lines[cm][1].set_xdata([mu_bar[i], mu_bar[i]])\n",
    "    plt.tight_layout()\n",
    "    \n",
    "anim = animation.FuncAnimation(fig, animate, frames=100, interval=50, fargs=(npi, 100, ));\n",
    "HTML(anim.to_jshtml())"
   ]
  },
  {
   "cell_type": "code",
   "execution_count": null,
   "metadata": {},
   "outputs": [],
   "source": [
    "npi = 4\n",
    "\n",
    "fig = plt.figure(figsize=(5, 3), dpi=300)\n",
    "\n",
    "x_min = -25\n",
    "x_max = 75\n",
    "plt.plot([0, 0], [1, -(nCMs)], \"--k\", linewidth=0.5)\n",
    "xrange = np.array([x_min, x_max])\n",
    "for height in range(0, nCMs+2, 2):\n",
    "    plt.fill_between(xrange, -(height-0.5), -(height+0.5), color=\"silver\", alpha=0.5, linewidth=0)\n",
    "xtick_vals = [-50, -25, 0, 25, 50, 75, 100]\n",
    "xtick_str = [f\"{x:.0f}%\" for x in xtick_vals]\n",
    "plt.yticks([])\n",
    "\n",
    "x_r = np.abs(x_min - x_max)\n",
    "plt.xticks(xtick_vals, xtick_str, fontsize=8)\n",
    "plt.xlim([x_min, x_max])\n",
    "plt.ylim([-(nCMs - 0.25), 0.75])\n",
    "\n",
    "lines = []\n",
    "mu = np.mean(100*(1-res), axis=0)\n",
    "stds = np.diag(np.cov(100*(1-res), rowvar=False))**0.5\n",
    "\n",
    "for cm in range(nCMs): \n",
    "    line, = plt.gca().plot([mu[cm] - 1.96*stds[cm], mu[cm] + 1.96*stds[cm]], [-cm, -cm], color=\"black\", alpha=0.25)\n",
    "    line2, = plt.gca().plot([mu[cm] , mu[cm]], [-cm-0.1, -cm+0.1], color=\"black\")\n",
    "    lines.append((line, line2))\n",
    "\n",
    "plt.yticks(-np.arange(nCMs), CMs, fontsize=8)\n",
    "yticklabels = plt.gca().yaxis.get_ticklabels()\n",
    "yticklabels[npi].set_color(cols[0])\n",
    "plt.xlabel('Average reduction in $R$,\\n in the context of our data.', fontsize=8)\n",
    "plt.text(35, -0.05, \"Note: this video shows the\\nadditional effect, and not the\\ncumulative effect of each NPI.\", fontsize=5.5, va=\"center\", weight=\"bold\")   \n",
    "plt.title(f\"Approximate Posterior\\nConditioned on {CMs[npi]}\", fontsize=10)\n",
    "\n",
    "def animate(i, which_cm, n_frames):\n",
    "    val = mu[which_cm] + (1.96*stds[which_cm] * 2*float(i)/n_frames) - 1.96*stds[which_cm]\n",
    "    lines[which_cm][0].set_xdata([-200, -200])\n",
    "    lines[which_cm][1].set_xdata([val, val])\n",
    "    lines[which_cm][1].set_color(cols[0])\n",
    "    \n",
    "    mu_bar, low, high, cms_remaining = condition_on(res, which_cm, val)\n",
    "    for i, cm in enumerate(cms_remaining):\n",
    "        lines[cm][0].set_xdata([low[i], high[i]])\n",
    "        lines[cm][1].set_xdata([mu_bar[i], mu_bar[i]])\n",
    "    plt.tight_layout()\n",
    "    \n",
    "anim = animation.FuncAnimation(fig, animate, frames=100, interval=50, fargs=(npi, 100, ));\n",
    "HTML(anim.to_jshtml())"
   ]
  },
  {
   "cell_type": "code",
   "execution_count": null,
   "metadata": {},
   "outputs": [],
   "source": [
    "npi = 5\n",
    "\n",
    "fig = plt.figure(figsize=(5, 3), dpi=300)\n",
    "\n",
    "x_min = -25\n",
    "x_max = 75\n",
    "plt.plot([0, 0], [1, -(nCMs)], \"--k\", linewidth=0.5)\n",
    "xrange = np.array([x_min, x_max])\n",
    "for height in range(0, nCMs+2, 2):\n",
    "    plt.fill_between(xrange, -(height-0.5), -(height+0.5), color=\"silver\", alpha=0.5, linewidth=0)\n",
    "xtick_vals = [-50, -25, 0, 25, 50, 75, 100]\n",
    "xtick_str = [f\"{x:.0f}%\" for x in xtick_vals]\n",
    "plt.yticks([])\n",
    "\n",
    "x_r = np.abs(x_min - x_max)\n",
    "plt.xticks(xtick_vals, xtick_str, fontsize=8)\n",
    "plt.xlim([x_min, x_max])\n",
    "plt.ylim([-(nCMs - 0.25), 0.75])\n",
    "\n",
    "lines = []\n",
    "mu = np.mean(100*(1-res), axis=0)\n",
    "stds = np.diag(np.cov(100*(1-res), rowvar=False))**0.5\n",
    "\n",
    "for cm in range(nCMs): \n",
    "    line, = plt.gca().plot([mu[cm] - 1.96*stds[cm], mu[cm] + 1.96*stds[cm]], [-cm, -cm], color=\"black\", alpha=0.25)\n",
    "    line2, = plt.gca().plot([mu[cm] , mu[cm]], [-cm-0.1, -cm+0.1], color=\"black\")\n",
    "    lines.append((line, line2))\n",
    "\n",
    "plt.yticks(-np.arange(nCMs), CMs, fontsize=8)\n",
    "yticklabels = plt.gca().yaxis.get_ticklabels()\n",
    "yticklabels[npi].set_color(cols[0])\n",
    "plt.xlabel('Average reduction in $R$,\\n in the context of our data.', fontsize=8)\n",
    "plt.text(35, -0.05, \"Note: this video shows the\\nadditional effect, and not the\\ncumulative effect of each NPI.\", fontsize=5.5, va=\"center\", weight=\"bold\")   \n",
    "plt.title(f\"Approximate Posterior\\nConditioned on {CMs[npi]}\", fontsize=10)\n",
    "\n",
    "def animate(i, which_cm, n_frames):\n",
    "    val = mu[which_cm] + (1.96*stds[which_cm] * 2*float(i)/n_frames) - 1.96*stds[which_cm]\n",
    "    lines[which_cm][0].set_xdata([-200, -200])\n",
    "    lines[which_cm][1].set_xdata([val, val])\n",
    "    lines[which_cm][1].set_color(cols[0])\n",
    "    \n",
    "    mu_bar, low, high, cms_remaining = condition_on(res, which_cm, val)\n",
    "    for i, cm in enumerate(cms_remaining):\n",
    "        lines[cm][0].set_xdata([low[i], high[i]])\n",
    "        lines[cm][1].set_xdata([mu_bar[i], mu_bar[i]])\n",
    "    plt.tight_layout()\n",
    "    \n",
    "anim = animation.FuncAnimation(fig, animate, frames=100, interval=50, fargs=(npi, 100, ));\n",
    "HTML(anim.to_jshtml())"
   ]
  },
  {
   "cell_type": "code",
   "execution_count": null,
   "metadata": {},
   "outputs": [],
   "source": [
    "npi = 6\n",
    "\n",
    "fig = plt.figure(figsize=(5, 3), dpi=300)\n",
    "\n",
    "x_min = -25\n",
    "x_max = 75\n",
    "plt.plot([0, 0], [1, -(nCMs)], \"--k\", linewidth=0.5)\n",
    "xrange = np.array([x_min, x_max])\n",
    "for height in range(0, nCMs+2, 2):\n",
    "    plt.fill_between(xrange, -(height-0.5), -(height+0.5), color=\"silver\", alpha=0.5, linewidth=0)\n",
    "xtick_vals = [-50, -25, 0, 25, 50, 75, 100]\n",
    "xtick_str = [f\"{x:.0f}%\" for x in xtick_vals]\n",
    "plt.yticks([])\n",
    "\n",
    "x_r = np.abs(x_min - x_max)\n",
    "plt.xticks(xtick_vals, xtick_str, fontsize=8)\n",
    "plt.xlim([x_min, x_max])\n",
    "plt.ylim([-(nCMs - 0.25), 0.75])\n",
    "\n",
    "lines = []\n",
    "mu = np.mean(100*(1-res), axis=0)\n",
    "stds = np.diag(np.cov(100*(1-res), rowvar=False))**0.5\n",
    "\n",
    "for cm in range(nCMs): \n",
    "    line, = plt.gca().plot([mu[cm] - 1.96*stds[cm], mu[cm] + 1.96*stds[cm]], [-cm, -cm], color=\"black\", alpha=0.25)\n",
    "    line2, = plt.gca().plot([mu[cm] , mu[cm]], [-cm-0.1, -cm+0.1], color=\"black\")\n",
    "    lines.append((line, line2))\n",
    "\n",
    "plt.yticks(-np.arange(nCMs), CMs, fontsize=8)\n",
    "yticklabels = plt.gca().yaxis.get_ticklabels()\n",
    "yticklabels[npi].set_color(cols[0])\n",
    "plt.xlabel('Average reduction in $R$,\\n in the context of our data.', fontsize=8)\n",
    "plt.text(35, -0.05, \"Note: this video shows the\\nadditional effect, and not the\\ncumulative effect of each NPI.\", fontsize=5.5, va=\"center\", weight=\"bold\")   \n",
    "plt.title(f\"Approximate Posterior\\nConditioned on {CMs[npi]}\", fontsize=10)\n",
    "\n",
    "def animate(i, which_cm, n_frames):\n",
    "    val = mu[which_cm] + (1.96*stds[which_cm] * 2*float(i)/n_frames) - 1.96*stds[which_cm]\n",
    "    lines[which_cm][0].set_xdata([-200, -200])\n",
    "    lines[which_cm][1].set_xdata([val, val])\n",
    "    lines[which_cm][1].set_color(cols[0])\n",
    "    \n",
    "    mu_bar, low, high, cms_remaining = condition_on(res, which_cm, val)\n",
    "    for i, cm in enumerate(cms_remaining):\n",
    "        lines[cm][0].set_xdata([low[i], high[i]])\n",
    "        lines[cm][1].set_xdata([mu_bar[i], mu_bar[i]])\n",
    "    plt.tight_layout()\n",
    "    \n",
    "anim = animation.FuncAnimation(fig, animate, frames=100, interval=50, fargs=(npi, 100, ));\n",
    "HTML(anim.to_jshtml())"
   ]
  }
 ],
 "metadata": {
  "kernelspec": {
   "display_name": "Python 3.8.5 64-bit ('.venv')",
   "language": "python",
   "name": "python38564bitvenv5c52b5c94bdb4d5d8bf9bcb0b9b56a45"
  },
  "language_info": {
   "codemirror_mode": {
    "name": "ipython",
    "version": 3
   },
   "file_extension": ".py",
   "mimetype": "text/x-python",
   "name": "python",
   "nbconvert_exporter": "python",
   "pygments_lexer": "ipython3",
   "version": "3.8.5-final"
  }
 },
 "nbformat": 4,
 "nbformat_minor": 4
}