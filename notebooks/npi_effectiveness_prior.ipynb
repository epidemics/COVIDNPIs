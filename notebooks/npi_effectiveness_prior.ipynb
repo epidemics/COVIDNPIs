{
 "cells": [
  {
   "cell_type": "markdown",
   "metadata": {},
   "source": [
    "This notebook contains some plots of the PDF, and the CDF of the prior over the effectiveness of each NPI. "
   ]
  },
  {
   "cell_type": "code",
   "execution_count": null,
   "metadata": {},
   "outputs": [],
   "source": [
    "import numpy as np\n",
    "import matplotlib.pyplot as plt"
   ]
  },
  {
   "cell_type": "code",
   "execution_count": null,
   "metadata": {},
   "outputs": [],
   "source": [
    "def assymetric_laplace_pdf(x, scale, k):\n",
    "    return scale/(k + (k ** -1)) * np.exp(-x * scale * np.sign(x) * (k ** np.sign(x)) )\n",
    "\n",
    "\n",
    "def assymetric_laplace_cdf(x, scale, k):\n",
    "    if x < 0:\n",
    "        return np.exp(x*scale/k) * (k**2) / (1 + k**2) \n",
    "    else:\n",
    "        return 1 - np.exp(-x*scale*k) / (1 + k**2) "
   ]
  },
  {
   "cell_type": "code",
   "execution_count": null,
   "metadata": {},
   "outputs": [],
   "source": [
    "def assymetric_laplace_pdf_trans(y, scale, k):\n",
    "    x = -np.log(y)\n",
    "    return scale/(k + (k ** -1)) * np.exp(-x * scale * np.sign(x) * (k ** np.sign(x)))/y"
   ]
  },
  {
   "cell_type": "code",
   "execution_count": null,
   "metadata": {},
   "outputs": [],
   "source": [
    "scale = 10\n",
    "kappa = 0.5"
   ]
  },
  {
   "cell_type": "code",
   "execution_count": null,
   "metadata": {},
   "outputs": [],
   "source": [
    "xvals = np.linspace(-2, 2, 1000)\n",
    "\n",
    "pdf = np.array([assymetric_laplace_pdf(x, scale, kappa) for x in xvals])\n",
    "cdf = np.array([assymetric_laplace_cdf(x, scale, kappa) for x in xvals])"
   ]
  },
  {
   "cell_type": "code",
   "execution_count": null,
   "metadata": {},
   "outputs": [],
   "source": [
    "plt.figure(figsize=(7, 3))\n",
    "plt.subplot(121)\n",
    "plt.plot(xvals, pdf)\n",
    "plt.title('PDF')\n",
    "plt.subplot(122)\n",
    "plt.plot(xvals, cdf)\n",
    "plt.title('CDF')"
   ]
  },
  {
   "cell_type": "code",
   "execution_count": null,
   "metadata": {},
   "outputs": [],
   "source": [
    "import pymc3 as pm"
   ]
  },
  {
   "cell_type": "code",
   "execution_count": null,
   "metadata": {},
   "outputs": [],
   "source": [
    "from epimodel.pymc3_distributions.asymmetric_laplace import AsymmetricLaplace"
   ]
  },
  {
   "cell_type": "code",
   "execution_count": null,
   "metadata": {},
   "outputs": [],
   "source": [
    "x = AsymmetricLaplace.dist(10, 0.5)"
   ]
  },
  {
   "cell_type": "code",
   "execution_count": null,
   "metadata": {},
   "outputs": [],
   "source": [
    "samples = x.random(size=1000000).eval()"
   ]
  },
  {
   "cell_type": "code",
   "execution_count": null,
   "metadata": {},
   "outputs": [],
   "source": [
    "ts = 100*(1-np.exp(-samples))"
   ]
  },
  {
   "cell_type": "code",
   "execution_count": null,
   "metadata": {},
   "outputs": [],
   "source": [
    "import arviz as az"
   ]
  },
  {
   "cell_type": "code",
   "execution_count": null,
   "metadata": {},
   "outputs": [],
   "source": [
    "plt.figure(figsize=(3, 3), dpi=300)\n",
    "az.plot_kde(ts)\n",
    "\n",
    "plt.xlabel('Percentage reduction in $R$')\n",
    "plt.xlim([-50, 100])\n",
    "plt.ylim([0, 0.04])\n",
    "xtick_locs = [-50, -25, 0, 25, 50, 75, 100]\n",
    "plt.xticks(xtick_locs, [f'{l}%' for l in xtick_locs])\n",
    "plt.yticks([])\n",
    "plt.ylabel('density')\n",
    "plt.title('NPI Effectiveness Prior')"
   ]
  },
  {
   "cell_type": "code",
   "execution_count": null,
   "metadata": {},
   "outputs": [],
   "source": [
    "f;"
   ]
  }
 ],
 "metadata": {
  "kernelspec": {
   "display_name": "Python 3",
   "language": "python",
   "name": "python3"
  },
  "language_info": {
   "codemirror_mode": {
    "name": "ipython",
    "version": 3
   },
   "file_extension": ".py",
   "mimetype": "text/x-python",
   "name": "python",
   "nbconvert_exporter": "python",
   "pygments_lexer": "ipython3",
   "version": "3.8.3"
  }
 },
 "nbformat": 4,
 "nbformat_minor": 4
}
