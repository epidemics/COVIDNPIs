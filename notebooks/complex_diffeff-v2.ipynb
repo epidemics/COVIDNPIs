{
 "cells": [
  {
   "cell_type": "markdown",
   "metadata": {},
   "source": [
    "This notebook is used to do a main model run"
   ]
  },
  {
   "cell_type": "markdown",
   "metadata": {},
   "source": [
    "# Complex Different Effects Model\n",
    "\n",
    "**What's different about this model compared to v1?**\n",
    "\n",
    "Switched from a centered to a non-centered parameterisation (classic probprog trick). "
   ]
  },
  {
   "cell_type": "code",
   "execution_count": null,
   "metadata": {},
   "outputs": [],
   "source": [
    "from epimodel import EpidemiologicalParameters, DefaultModel, preprocess_data\n",
    "from epimodel.pymc3_models.models import ComplexDifferentEffectsModel\n",
    "\n",
    "import numpy as np\n",
    "import pymc3 as pm"
   ]
  },
  {
   "cell_type": "code",
   "execution_count": null,
   "metadata": {},
   "outputs": [],
   "source": [
    "data = preprocess_data('../merged_data/double_entry_final.csv', last_day='2020-05-30', smoothing=1)\n",
    "data.mask_reopenings(print_out = False)"
   ]
  },
  {
   "cell_type": "code",
   "execution_count": null,
   "metadata": {},
   "outputs": [],
   "source": [
    "ep = EpidemiologicalParameters()"
   ]
  },
  {
   "cell_type": "code",
   "execution_count": null,
   "metadata": {},
   "outputs": [],
   "source": [
    "bd = ep.get_model_build_dict()"
   ]
  },
  {
   "cell_type": "code",
   "execution_count": null,
   "metadata": {},
   "outputs": [],
   "source": [
    "bd"
   ]
  },
  {
   "cell_type": "code",
   "execution_count": null,
   "metadata": {},
   "outputs": [],
   "source": [
    "with ComplexDifferentEffectsModel(data) as model:\n",
    "    model.build_model(**bd)"
   ]
  },
  {
   "cell_type": "code",
   "execution_count": null,
   "metadata": {},
   "outputs": [],
   "source": [
    "pm.model_to_graphviz(model)"
   ]
  },
  {
   "cell_type": "markdown",
   "metadata": {},
   "source": [
    "# Note: i've increased target_accept - might improve sampling too. "
   ]
  },
  {
   "cell_type": "code",
   "execution_count": null,
   "metadata": {},
   "outputs": [],
   "source": [
    "with model:\n",
    "    model.trace = pm.sample(2000, tune=500, cores=4, chains=4, max_treedepth=12, target_accept=0.95)"
   ]
  },
  {
   "cell_type": "markdown",
   "metadata": {},
   "source": [
    "# Is the inference stable?"
   ]
  },
  {
   "cell_type": "code",
   "execution_count": null,
   "metadata": {},
   "outputs": [],
   "source": [
    "import arviz as az"
   ]
  },
  {
   "cell_type": "code",
   "execution_count": null,
   "metadata": {},
   "outputs": [],
   "source": [
    "rhat = az.rhat(model.trace)\n",
    "ess = az.ess(model.trace)"
   ]
  },
  {
   "cell_type": "code",
   "execution_count": null,
   "metadata": {},
   "outputs": [],
   "source": [
    "model.trace.varnames"
   ]
  },
  {
   "cell_type": "code",
   "execution_count": null,
   "metadata": {},
   "outputs": [],
   "source": [
    "def collate(stat):\n",
    "    stat_all = []\n",
    "    stat_nums = []\n",
    "    for var in [\"CMReduction\", \"GI_mean\", \"GI_sd\", \"GrowthCasesNoise\", \"GrowthDeathsNoise\", \"CasesDelayMean\", \"CasesDelayDisp\",\n",
    "                \"InitialSizeDeaths_log\", \"InitialSizeCases_log\", \"DeathsDelayMean\", \"DeathsDelayDisp\", \"HyperRVar\", \"PsiCases\",\n",
    "                \"PsiDeaths\", \"InfectedDeaths\", \"InfectedCases\", \"ExpectedDeaths\", \"ExpectedCases\", \"AllCMAlphaNoise\", \"AllCMAlpha\"]:\n",
    "        if stat[str(var)].size>1:\n",
    "            stat_all.append(stat[str(var)].to_dataframe().to_numpy().flatten())\n",
    "        else:\n",
    "            stat_nums.append(float(stat[str(var)]))\n",
    "    stat_all = np.concatenate(np.array(stat_all))\n",
    "    stat_all = np.concatenate([stat_all, stat_nums])\n",
    "#     stat_all[stat_all > 100] = 1\n",
    "    return stat_all"
   ]
  },
  {
   "cell_type": "code",
   "execution_count": null,
   "metadata": {},
   "outputs": [],
   "source": [
    "import matplotlib.pyplot as plt"
   ]
  },
  {
   "cell_type": "code",
   "execution_count": null,
   "metadata": {},
   "outputs": [],
   "source": [
    "plt.figure(figsize=(7, 3), dpi=300)\n",
    "plt.subplot(121)\n",
    "plt.hist(collate(rhat), bins=40, color='tab:purple')\n",
    "plt.title(\"$\\hat{R}$\", fontsize=12)\n",
    "\n",
    "plt.subplot(122)\n",
    "plt.hist(collate(ess)/8000, bins=40, color='tab:purple')\n",
    "plt.xlim([0, 3.5])\n",
    "plt.title(\"Relative ESS\", fontsize=12)"
   ]
  },
  {
   "cell_type": "markdown",
   "metadata": {},
   "source": [
    "$\\hat{R}$ looks okay, ESS looks somewhat troubling .... inspect in more detail"
   ]
  },
  {
   "cell_type": "code",
   "execution_count": null,
   "metadata": {},
   "outputs": [],
   "source": [
    "rhat"
   ]
  },
  {
   "cell_type": "markdown",
   "metadata": {},
   "source": [
    "# $\\hat{R}$ issues\n",
    "\n",
    "I suspected that the sampling would be stable. Its much better than expected, but we have slightly high $\\hat{R}$ for the individual $\\alpha_{i,c}$, as well as the scales. \n",
    "\n",
    "The important thing is not having too many divergences. No divergences is good - I think we'd just want to run this for more samples. "
   ]
  },
  {
   "cell_type": "code",
   "execution_count": null,
   "metadata": {},
   "outputs": [],
   "source": [
    "ess"
   ]
  },
  {
   "cell_type": "markdown",
   "metadata": {},
   "source": [
    "# ESS issues!"
   ]
  },
  {
   "cell_type": "markdown",
   "metadata": {},
   "source": [
    "Similar issue with the effective sample size - note that we only have 23 *effective* samples for the School Closure NPI. I have a few thoughts on improving this though - the inference is better than I originally expected. \n",
    "\n",
    "This means that sampler is having some difficulty sampling these parameters, and the trace has high autocorrelation. "
   ]
  },
  {
   "cell_type": "markdown",
   "metadata": {},
   "source": [
    "# Are the traces bad?"
   ]
  },
  {
   "cell_type": "code",
   "execution_count": null,
   "metadata": {},
   "outputs": [],
   "source": [
    "az.plot_trace(model.trace, var_names=['CMAlphaScales'])"
   ]
  },
  {
   "cell_type": "markdown",
   "metadata": {},
   "source": [
    "Indeed, inspecting the above traces, we see very high autocorrelation (look at the right plots). The density estimates for the different traces also looks pretty different. \n",
    "\n",
    "If anybody see these traces, they'll tell you that the are probably garbage. \n",
    "\n",
    "I have some ideas as to how to fix this though. "
   ]
  },
  {
   "cell_type": "markdown",
   "metadata": {},
   "source": [
    "# Preliminary results analysis"
   ]
  },
  {
   "cell_type": "code",
   "execution_count": null,
   "metadata": {},
   "outputs": [],
   "source": [
    "model.plot_effect()"
   ]
  },
  {
   "cell_type": "markdown",
   "metadata": {},
   "source": [
    "Results similar to that expected, not too big of a difference"
   ]
  },
  {
   "cell_type": "markdown",
   "metadata": {},
   "source": [
    "## What alpha noise do we learn?"
   ]
  },
  {
   "cell_type": "code",
   "execution_count": null,
   "metadata": {},
   "outputs": [],
   "source": [
    "import matplotlib.pyplot as plt \n",
    "\n",
    "plt.figure(figsize=(4, 3), dpi=300)\n",
    "\n",
    "plt.scatter(np.percentile(model.trace.CMAlphaScales, 50, axis=0), -np.arange(9))\n",
    "\n",
    "for i in range(9):\n",
    "    plt.plot([np.percentile(model.trace.CMAlphaScales[:, i], 2.5), np.percentile(model.trace.CMAlphaScales[:, i], 97.5)], [-i, -i], color='tab:blue', alpha=0.25)\n",
    "    plt.plot([np.percentile(model.trace.CMAlphaScales[:, i], 25), np.percentile(model.trace.CMAlphaScales[:, i], 75)], [-i, -i], color='tab:blue', alpha=0.5)\n",
    "\n",
    "plt.plot([0.1, 0.1], [-9, 5], 'k--')\n",
    "\n",
    "plt.ylim([-8.5, 0.5])\n",
    "plt.yticks(-np.arange(9), data.CMs)\n",
    "plt.xlabel('$\\sigma_{\\\\alpha, i}$')\n",
    "plt.title('NPI Region Variability')"
   ]
  },
  {
   "cell_type": "markdown",
   "metadata": {},
   "source": [
    "# What does this actually look like, uncertainty wise?"
   ]
  },
  {
   "cell_type": "code",
   "execution_count": null,
   "metadata": {},
   "outputs": [],
   "source": [
    "for i in range(9):\n",
    "    plt.figure(figsize=(6.5, 3), dpi=300)\n",
    "    for r in range(len(data.Rs)):\n",
    "        perred = 100*(1-np.exp(-model.trace.AllCMAlpha[:, r, i]))\n",
    "        plt.plot([r, r], [np.percentile(perred, 2.5, axis=0), np.percentile(perred, 97.5, axis=0)], color='k', alpha=0.25)\n",
    "        plt.plot([r, r], [np.percentile(perred, 25, axis=0), np.percentile(perred, 75, axis=0)], color='k', alpha=0.5)\n",
    "        plt.scatter(r, np.median(perred), color='k', marker='_')\n",
    "    \n",
    "    plt.ylabel('Reduction in $R_t$ (%)')\n",
    "    y_min, y_max = plt.ylim()\n",
    "    plt.plot([len(data.Rs)-0.5, len(data.Rs)-0.5], [y_min-2, y_max+2], '--', color='tab:red')\n",
    "    plt.ylim([y_min, y_max])\n",
    "    \n",
    "    overall_red = 100*(1-model.trace.CMReduction[:, i])\n",
    "    plt.scatter(len(data.Rs), np.median(overall_red), color='tab:purple')\n",
    "    plt.plot([len(data.Rs), len(data.Rs)], [np.percentile(overall_red, 2.5), np.percentile(overall_red, 97.5)],  color='tab:purple', alpha=0.25)\n",
    "    plt.plot([len(data.Rs), len(data.Rs)], [np.percentile(overall_red, 25), np.percentile(overall_red, 75)], color='tab:purple', alpha=0.5)\n",
    "    plt.title(data.CMs[i])\n",
    "    plt.xticks(np.arange(len(data.Rs)+1), [*data.Rs, 'Agg'], fontsize=6)"
   ]
  },
  {
   "cell_type": "code",
   "execution_count": null,
   "metadata": {},
   "outputs": [],
   "source": [
    "import pickle\n",
    "\n",
    "pickle.dump(model.trace, open('traces/complexdiffeffv2.pkl', 'wb'))"
   ]
  },
  {
   "cell_type": "code",
   "execution_count": null,
   "metadata": {},
   "outputs": [],
   "source": []
  }
 ],
 "metadata": {
  "kernelspec": {
   "display_name": "Python 3",
   "language": "python",
   "name": "python3"
  },
  "language_info": {
   "codemirror_mode": {
    "name": "ipython",
    "version": 3
   },
   "file_extension": ".py",
   "mimetype": "text/x-python",
   "name": "python",
   "nbconvert_exporter": "python",
   "pygments_lexer": "ipython3",
   "version": "3.8.3"
  }
 },
 "nbformat": 4,
 "nbformat_minor": 4
}
