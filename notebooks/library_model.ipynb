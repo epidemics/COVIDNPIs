{
 "cells": [
  {
   "cell_type": "code",
   "execution_count": 1,
   "metadata": {},
   "outputs": [],
   "source": [
    "%load_ext autoreload\n",
    "%autoreload 2"
   ]
  },
  {
   "cell_type": "code",
   "execution_count": 2,
   "metadata": {},
   "outputs": [],
   "source": [
    "import logging\n",
    "import warnings\n",
    "import pymc3 as pm\n",
    "\n",
    "from epimodel.pymc3_models.countermeasure_models import CountermeasureModelV2, BaseCountermeasureModel\n",
    "from epimodel.data_preprocessing import DataPreprocessor\n",
    "\n",
    "import numpy as np\n",
    "\n",
    "logging.basicConfig(level=logging.INFO)\n",
    "log = logging.getLogger(__name__)\n",
    "warnings.simplefilter(action='ignore', category=FutureWarning)"
   ]
  },
  {
   "cell_type": "code",
   "execution_count": 3,
   "metadata": {},
   "outputs": [
    {
     "name": "stderr",
     "output_type": "stream",
     "text": [
      "INFO:epimodel.regions:Name index has 6 potential conflicts: ['american samoa', 'georgia', 'guam', 'northern mariana islands', 'puerto rico', 'united states minor outlying islands']\n",
      "INFO:epimodel.data_preprocessing.data_preprocessor:\n",
      "Countermeasures                               min   .. mean  .. max\n",
      "INFO:epimodel.data_preprocessing.data_preprocessor: 0 Gatherings limited to                      0.000 .. 0.177 .. 0.982\n",
      "INFO:epimodel.data_preprocessing.data_preprocessor: 1 Business suspended                         0.000 .. 0.273 .. 1.000\n",
      "INFO:epimodel.data_preprocessing.data_preprocessor: 2 Schools and universities closed            0.000 .. 0.361 .. 1.000\n",
      "INFO:epimodel.data_preprocessing.data_preprocessor: 3 General curfew                             0.000 .. 0.167 .. 1.000\n",
      "INFO:epimodel.data_preprocessing.data_preprocessor: 4 Healthcare specialisation                  0.000 .. 0.020 .. 0.429\n",
      "INFO:epimodel.data_preprocessing.data_preprocessor: 5 Phone line                                 0.000 .. 0.032 .. 1.000\n",
      "INFO:epimodel.data_preprocessing.data_preprocessor: 6 Asymptomatic contact isolation             0.000 .. 0.053 .. 1.000\n"
     ]
    },
    {
     "data": {
      "image/png": "[encoded data removed]",
      "text/plain": [
       "<Figure size 600x450 with 2 Axes>"
      ]
     },
     "metadata": {
      "needs_background": "light"
     },
     "output_type": "display_data"
    },
    {
     "name": "stderr",
     "output_type": "stream",
     "text": [
      "INFO:epimodel.data_preprocessing.data_preprocessor:Data Preprocessing Complete using:\n",
      "\n",
      "{\n",
      "    \"start_date\": \"2020-2-10\",\n",
      "    \"end_date\": \"2020-04-05\",\n",
      "    \"min_final_num_active_cases\": 100,\n",
      "    \"min_num_active_mask\": 10,\n",
      "    \"min_num_confirmed_mask\": 10\n",
      "}\n"
     ]
    }
   ],
   "source": [
    "dp = DataPreprocessor()\n",
    "\n",
    "data_base_path = \"../data\"\n",
    "countries = [\"PT\", \"IS\", \"HU\", \"HR\", \"BE\", \"NL\", \"DK\", \"DE\", \"AT\", \"CZ\", \"GE\", \"FR\", \"ES\", \"GB\", \"PL\", \"GR\", \"CH\", \"BE\", \"FI\", \"NO\", \"SE\", \"SI\", \"SK\"]\n",
    "cms01_cols = ['Gatherings limited to', 'Business suspended', 'Schools and universities closed', 'General curfew',\n",
    "              'Healthcare specialisation', 'Phone line', 'Asymptomatic contact isolation']\n",
    "\n",
    "dataset_size, ActiveCMS, Active, Confirmed = dp.preprocess_data(data_base_path, countries, cms01_cols)"
   ]
  },
  {
   "cell_type": "code",
   "execution_count": 4,
   "metadata": {},
   "outputs": [
    {
     "name": "stderr",
     "output_type": "stream",
     "text": [
      "/Users/mrinank/Library/Caches/pypoetry/virtualenvs/epimodel-H-ywULmv-py3.7/lib/python3.7/site-packages/pymc3/model.py:1430: ImputationWarning: Data in CMV2_Observed contains missing values and will be automatically imputed from the sampling distribution.\n",
      "  warnings.warn(impute_message, ImputationWarning)\n",
      "INFO:epimodel.pymc3_models.countermeasure_models:Checking Model Test Point\n",
      "CMV2_BaseGrowthRate_log__          -1.61\n",
      "CMV2_InitialSize_log__            -70.87\n",
      "CMV2_CountryGrowthRate_log__        6.27\n",
      "CMV2_CountryScaleMult_log__       -20.22\n",
      "CMV2_CMReduction_log__              9.69\n",
      "CMV2_DailyGrowth_log__           1400.25\n",
      "CMV2_Observed_missing               0.00\n",
      "CMV2_Observed                  -15098.43\n",
      "Name: Log-probability of test_point, dtype: float64\n",
      "\n"
     ]
    }
   ],
   "source": [
    "DelayProb = np.array([0.00, 0.01, 0.02, 0.06, 0.10, 0.13, 0.15, 0.15, 0.13, 0.10, 0.07, 0.05, 0.03])\n",
    "\n",
    "# Masking early observations (they depend on unknown pre-existing CMs)\n",
    "CMDelayCut = 10\n",
    "\n",
    "def statstr(d):\n",
    "    return f\"{d.mean():.3g} ({np.quantile(d, 0.05):.3g} .. {np.quantile(d, 0.95):.3g})\"\n",
    "\n",
    "CMModel = CountermeasureModelV2(dataset_size, ActiveCMS, DelayProb, CMDelayCut, Confirmed, name=\"CMV2\")"
   ]
  },
  {
   "cell_type": "markdown",
   "metadata": {},
   "source": [
    "Let's inspect the model more:"
   ]
  },
  {
   "cell_type": "code",
   "execution_count": null,
   "metadata": {},
   "outputs": [],
   "source": [
    "CMModel"
   ]
  },
  {
   "cell_type": "code",
   "execution_count": null,
   "metadata": {},
   "outputs": [
    {
     "name": "stderr",
     "output_type": "stream",
     "text": [
      "Only 100 samples in chain.\n",
      "WARNING:pymc3:Only 100 samples in chain.\n",
      "Auto-assigning NUTS sampler...\n",
      "INFO:pymc3:Auto-assigning NUTS sampler...\n",
      "Initializing NUTS using adapt_diag...\n",
      "INFO:pymc3:Initializing NUTS using adapt_diag...\n",
      "Multiprocess sampling (2 chains in 2 jobs)\n",
      "INFO:pymc3:Multiprocess sampling (2 chains in 2 jobs)\n",
      "NUTS: [CMV2_Observed_missing, CMV2_DailyGrowth, CMV2_CMReduction, CMV2_CountryScaleMult, CMV2_CountryGrowthRate, CMV2_InitialSize, CMV2_BaseGrowthRate]\n",
      "INFO:pymc3:NUTS: [CMV2_Observed_missing, CMV2_DailyGrowth, CMV2_CMReduction, CMV2_CountryScaleMult, CMV2_CountryGrowthRate, CMV2_InitialSize, CMV2_BaseGrowthRate]\n",
      "Sampling 2 chains, 0 divergences:  92%|█████████▏| 1098/1200 [02:22<00:12,  7.93draws/s]"
     ]
    }
   ],
   "source": [
    "CMModel.sample(100, chains=2, cores=2, init='adapt_diag')"
   ]
  },
  {
   "cell_type": "code",
   "execution_count": null,
   "metadata": {},
   "outputs": [],
   "source": [
    "CMModel.plot_inferred_cm_effect()"
   ]
  },
  {
   "cell_type": "code",
   "execution_count": null,
   "metadata": {},
   "outputs": [],
   "source": []
  }
 ],
 "metadata": {
  "kernelspec": {
   "display_name": "Python 3",
   "language": "python",
   "name": "python3"
  },
  "language_info": {
   "codemirror_mode": {
    "name": "ipython",
    "version": 3
   },
   "file_extension": ".py",
   "mimetype": "text/x-python",
   "name": "python",
   "nbconvert_exporter": "python",
   "pygments_lexer": "ipython3",
   "version": "3.7.4"
  }
 },
 "nbformat": 4,
 "nbformat_minor": 4
}
