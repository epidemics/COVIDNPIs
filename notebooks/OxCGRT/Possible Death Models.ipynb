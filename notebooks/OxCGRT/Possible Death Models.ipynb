{
 "cells": [
  {
   "cell_type": "markdown",
   "metadata": {},
   "source": [
    "# Looking into different death models"
   ]
  },
  {
   "cell_type": "code",
   "execution_count": 2,
   "metadata": {},
   "outputs": [],
   "source": [
    "### Initial imports\n",
    "import logging\n",
    "import numpy as np\n",
    "import pandas as pd\n",
    "import pymc3 as pm\n",
    "import theano.tensor as T\n",
    "import matplotlib.pyplot as plt\n",
    "import copy\n",
    "import theano\n",
    "\n",
    "%matplotlib inline"
   ]
  },
  {
   "cell_type": "code",
   "execution_count": 3,
   "metadata": {},
   "outputs": [
    {
     "name": "stdout",
     "output_type": "stream",
     "text": [
      "The true log growth rate is 0.08\n"
     ]
    }
   ],
   "source": [
    "new_deaths = np.logspace(-3, 5, 100, base=np.e)\n",
    "new_deaths[new_deaths < 1] = 0\n",
    "new_deaths = np.ceil(new_deaths)\n",
    "\n",
    "print(f\"The true log growth rate is {8/100}\")"
   ]
  },
  {
   "cell_type": "code",
   "execution_count": 4,
   "metadata": {},
   "outputs": [
    {
     "data": {
      "text/plain": [
       "[<matplotlib.lines.Line2D at 0x141855cd0>]"
      ]
     },
     "execution_count": 4,
     "metadata": {},
     "output_type": "execute_result"
    },
    {
     "data": {
      "image/png": "[encoded data removed]",
      "text/plain": [
       "<Figure size 400x300 with 1 Axes>"
      ]
     },
     "metadata": {
      "needs_background": "light"
     },
     "output_type": "display_data"
    }
   ],
   "source": [
    "plt.figure(figsize=(4, 3), dpi=100)\n",
    "plt.plot(new_deaths)"
   ]
  },
  {
   "cell_type": "markdown",
   "metadata": {},
   "source": [
    "The model uses actual deaths to reverse calculated expected deaths, effectively. We can assume that expected deaths growths exponentially (assuming that we are at the start of teh pandemic)"
   ]
  },
  {
   "cell_type": "code",
   "execution_count": null,
   "metadata": {},
   "outputs": [],
   "source": [
    "N_days = 100\n",
    "new_deaths_logmodel = copy.deepcopy(new_deaths)\n",
    "no_death_offset = 1e-3\n",
    "new_deaths_logmodel += no_death_offset\n",
    "\n",
    "with pm.Model() as logmodel:\n",
    "    log_growth_rate = T.ones(N_days) * pm.Normal(\"log_growth_rate\", 0, 0.5)\n",
    "    log_n0 = pm.Normal(\"log_n0\", -3, 1)\n",
    "    log_num_infected = pm.Deterministic(\"log_num_infected\", log_n0 + log_growth_rate.cumsum())\n",
    "    num_infected = pm.Deterministic(\"num_infected\", pm.math.exp(log_num_infected))\n",
    "    \n",
    "    # lognorm output\n",
    "    observed = pm.Normal(\"Observed\", log_num_infected, sigma=0.3, observed=np.log(new_deaths_logmodel))"
   ]
  },
  {
   "cell_type": "code",
   "execution_count": null,
   "metadata": {},
   "outputs": [],
   "source": [
    "pm.model_to_graphviz(logmodel)"
   ]
  },
  {
   "cell_type": "code",
   "execution_count": null,
   "metadata": {},
   "outputs": [],
   "source": [
    "with logmodel:\n",
    "    trace = pm.sample(500)"
   ]
  },
  {
   "cell_type": "code",
   "execution_count": null,
   "metadata": {},
   "outputs": [],
   "source": [
    "def produce_CIs(data):\n",
    "    means = np.mean(data, axis=0)\n",
    "    li = np.percentile(data, 2.5, axis=0)\n",
    "    ui = np.percentile(data, 97.5, axis=0)\n",
    "    err = np.array([means - li, ui - means])\n",
    "    return means, li, ui, err"
   ]
  },
  {
   "cell_type": "code",
   "execution_count": null,
   "metadata": {},
   "outputs": [],
   "source": [
    "means, _, _, err = produce_CIs(trace[\"num_infected\"])\n",
    "\n",
    "plt.figure(figsize=(8, 3), dpi=100)\n",
    "plt.semilogy(new_deaths_logmodel)\n",
    "plt.semilogy(new_deaths)\n",
    "plt.errorbar(np.arange(new_deaths_logmodel.size), means, yerr=err)\n",
    "\n",
    "pm.traceplot(trace, \"log_growth_rate\")"
   ]
  },
  {
   "cell_type": "markdown",
   "metadata": {},
   "source": [
    "# adding an offset"
   ]
  },
  {
   "cell_type": "code",
   "execution_count": null,
   "metadata": {},
   "outputs": [],
   "source": [
    "N_days = 100\n",
    "new_deaths_logmodel = copy.deepcopy(new_deaths)\n",
    "no_death_offset = 1e-3\n",
    "new_deaths_logmodel[new_deaths_logmodel < 1] = no_death_offset\n",
    "\n",
    "with pm.Model() as logmodel:\n",
    "    log_growth_rate = T.ones(N_days) * pm.Normal(\"log_growth_rate\", 0, 0.5)\n",
    "    log_n0 = pm.Normal(\"log_n0\", -3, 1)\n",
    "    log_num_infected = pm.Deterministic(\"log_num_infected\", log_n0 + log_growth_rate.cumsum())\n",
    "    num_infected = pm.Deterministic(\"num_infected\", pm.math.exp(log_num_infected))\n",
    "    num_infected_offset = pm.Deterministic(\"num_infected_offset\", pm.math.exp(log_num_infected) + no_death_offset)\n",
    "    \n",
    "    # lognorm output\n",
    "    observed = pm.Normal(\"Observed\", pm.math.log(num_infected_offset), sigma=0.3, observed=np.log(new_deaths_logmodel))\n",
    "    \n",
    "with logmodel:\n",
    "    trace = pm.sample(500)\n",
    "\n",
    "means, _, _, err = produce_CIs(trace[\"num_infected\"])\n",
    "means_offset, _, _, err_offset = produce_CIs(trace[\"num_infected_offset\"])\n",
    "\n",
    "plt.figure(figsize=(8, 3), dpi=100)\n",
    "plt.semilogy(new_deaths_logmodel)\n",
    "plt.semilogy(new_deaths)\n",
    "plt.errorbar(np.arange(new_deaths_logmodel.size), means, yerr=err)\n",
    "plt.errorbar(np.arange(new_deaths_logmodel.size), means_offset, yerr=err_offset)\n",
    "plt.legend()\n",
    "\n",
    "pm.traceplot(trace, \"log_growth_rate\")"
   ]
  },
  {
   "cell_type": "code",
   "execution_count": null,
   "metadata": {},
   "outputs": [],
   "source": [
    "N_days = 100\n",
    "new_deaths_masked_model = copy.deepcopy(new_deaths)\n",
    "new_deaths_masked_model[new_deaths_masked_model < 1] = np.nan\n",
    "new_deaths_masked_model = np.ma.masked_invalid(new_deaths_masked_model.astype(theano.config.floatX))\n",
    "\n",
    "with pm.Model() as masked_model:\n",
    "    log_growth_rate = T.ones(N_days) * pm.Normal(\"log_growth_rate\", 0, 0.5)\n",
    "    log_n0 = pm.Normal(\"log_n0\", -3, 1)\n",
    "    log_num_infected = pm.Deterministic(\"log_num_infected\", log_n0 + log_growth_rate.cumsum())\n",
    "    num_infected = pm.Deterministic(\"num_infected\", pm.math.exp(log_num_infected))\n",
    "    \n",
    "    # lognorm output\n",
    "    observed = pm.Normal(\"Observed\", pm.math.log(num_infected), sigma=0.3, observed=np.log(new_deaths_masked_model))\n",
    "    \n",
    "with masked_model:\n",
    "    trace = pm.sample(500)\n",
    "\n",
    "means, _, _, err = produce_CIs(trace[\"num_infected\"])\n",
    "\n",
    "plt.figure(figsize=(8, 3), dpi=100)\n",
    "plt.semilogy(new_deaths_logmodel)\n",
    "plt.semilogy(new_deaths)\n",
    "plt.errorbar(np.arange(new_deaths_logmodel.size), means, yerr=err)\n",
    "plt.legend()\n",
    "\n",
    "pm.traceplot(trace, \"log_growth_rate\")"
   ]
  },
  {
   "cell_type": "markdown",
   "metadata": {},
   "source": [
    "Of the methods we have tried, this is the one which has worked best .... "
   ]
  },
  {
   "cell_type": "code",
   "execution_count": null,
   "metadata": {},
   "outputs": [],
   "source": [
    "N_days = 100\n",
    "new_deaths_negative_binomial = copy.deepcopy(new_deaths)\n",
    "\n",
    "\n",
    "with pm.Model() as nb_model:\n",
    "    log_growth_rate = T.ones(N_days) * pm.Normal(\"log_growth_rate\", 0, 0.5)\n",
    "    log_n0 = pm.Normal(\"log_n0\", -3, 1)\n",
    "    log_num_infected = pm.Deterministic(\"log_num_infected\", log_n0 + log_growth_rate.cumsum())\n",
    "    num_infected = pm.Deterministic(\"num_infected\", pm.math.exp(log_num_infected))\n",
    "    \n",
    "    # lognorm output\n",
    "    observed = pm.NegativeBinomial(\"Observed\", mu=num_infected, alpha=0.3, observed=new_deaths_negative_binomial)\n",
    "    \n",
    "with nb_model:\n",
    "    trace = pm.sample(500)\n",
    "\n",
    "means, _, _, err = produce_CIs(trace[\"num_infected\"])\n",
    "\n",
    "plt.figure(figsize=(8, 3), dpi=100)\n",
    "plt.semilogy(new_deaths_logmodel)\n",
    "plt.semilogy(new_deaths)\n",
    "plt.errorbar(np.arange(new_deaths_logmodel.size), means, yerr=err)\n",
    "plt.legend()\n",
    "\n",
    "pm.traceplot(trace, \"log_growth_rate\")"
   ]
  },
  {
   "cell_type": "markdown",
   "metadata": {},
   "source": [
    "This one also worked well."
   ]
  },
  {
   "cell_type": "code",
   "execution_count": 33,
   "metadata": {},
   "outputs": [
    {
     "name": "stdout",
     "output_type": "stream",
     "text": [
      "target mean: 10 var: 20.0\n",
      "pmf mean: 10.000000000000004 pmf var: 20.000000000000014\n"
     ]
    },
    {
     "data": {
      "image/png": "[encoded data removed]",
      "text/plain": [
       "<Figure size 432x288 with 1 Axes>"
      ]
     },
     "metadata": {
      "needs_background": "light"
     },
     "output_type": "display_data"
    }
   ],
   "source": [
    "target_mean = 10\n",
    "Phi = 10\n",
    "target_var = 10 + ((10 ** 2) / (Phi))\n",
    "\n",
    "print(f\"target mean: {target_mean} var: {target_var}\")\n",
    "\n",
    "x_vals = np.arange(100)\n",
    "d = pm.NegativeBinomial.dist(mu=target_mean, alpha=Phi)\n",
    "pmf = np.exp(d.logp(x_vals).eval())\n",
    "plt.plot(x_vals, pmf)\n",
    "\n",
    "pmf_mean = np.sum([k * pmf[k] for k in range(len(x_vals))])\n",
    "pmf_var = np.sum([(k**2) * pmf[k] for k in range(len(x_vals))]) - pmf_mean**2\n",
    "print(f\"pmf mean: {pmf_mean} pmf var: {pmf_var}\")"
   ]
  },
  {
   "cell_type": "code",
   "execution_count": 30,
   "metadata": {},
   "outputs": [
    {
     "data": {
      "text/plain": [
       "array([7.71604938e-04, 2.14334705e-03, 3.34897977e-03, 4.13454292e-03,\n",
       "       4.48626619e-03, 4.48626619e-03, 4.24049081e-03, 3.84625016e-03,\n",
       "       3.38049331e-03, 2.89822814e-03, 2.43531671e-03, 2.01265843e-03,\n",
       "       1.64033215e-03, 1.32110907e-03, 1.05318006e-03, 8.32142268e-04,\n",
       "       6.52368477e-04, 5.07899334e-04, 3.92986239e-04, 3.02390150e-04,\n",
       "       2.31517458e-04, 1.76452585e-04, 1.33929376e-04, 1.01269849e-04,\n",
       "       7.63089022e-05, 5.73164643e-05, 4.29237575e-05, 3.20570662e-05,\n",
       "       2.38803790e-05, 1.77470118e-05, 1.31596283e-05, 9.73772936e-06,\n",
       "       7.19156038e-06, 5.30140024e-06, 3.90127312e-06, 2.86624148e-06,\n",
       "       2.10256161e-06, 1.54010377e-06, 1.12654751e-06, 8.22958224e-07,\n",
       "       6.00430891e-07, 4.37553743e-07, 3.18498390e-07, 2.31586474e-07,\n",
       "       1.68217190e-07, 1.22067069e-07, 8.84944589e-08, 6.40973899e-08,\n",
       "       4.63860656e-08, 3.35407596e-08, 2.42331988e-08, 1.74950259e-08,\n",
       "       1.26210983e-08, 9.09851336e-09, 6.55459412e-09, 4.71882626e-09,\n",
       "       3.39504201e-09, 2.44111892e-09, 1.75418131e-09, 1.25982571e-09,\n",
       "       9.04284616e-10, 6.48733552e-10, 4.65159171e-10, 3.33363421e-10,\n",
       "       2.38793344e-10, 1.70970383e-10, 1.22354550e-10, 8.75237372e-11,\n",
       "       6.25811756e-11, 4.47279634e-11, 3.19548843e-11, 2.28203895e-11,\n",
       "       1.62907578e-11, 1.16250951e-11, 8.29264569e-12, 5.91337303e-12,\n",
       "       4.21528603e-12, 3.00380899e-12, 2.13980795e-12, 1.52383554e-12,\n",
       "       1.08483995e-12, 7.72077406e-13, 5.49321796e-13, 3.90720976e-13,\n",
       "       2.77832799e-13, 1.97505900e-13, 1.40365114e-13, 9.97294745e-14,\n",
       "       7.08395359e-14, 5.03058186e-14, 3.57152336e-14, 2.53503449e-14,\n",
       "       1.79891906e-14, 1.27625936e-14, 9.05248788e-15, 6.41949279e-15,\n",
       "       4.55133943e-15, 3.22615639e-15, 2.28634183e-15, 1.61997488e-15])"
      ]
     },
     "execution_count": 30,
     "metadata": {},
     "output_type": "execute_result"
    }
   ],
   "source": [
    "pmf**2"
   ]
  },
  {
   "cell_type": "code",
   "execution_count": null,
   "metadata": {},
   "outputs": [],
   "source": []
  }
 ],
 "metadata": {
  "kernelspec": {
   "display_name": "Python 3",
   "language": "python",
   "name": "python3"
  },
  "language_info": {
   "codemirror_mode": {
    "name": "ipython",
    "version": 3
   },
   "file_extension": ".py",
   "mimetype": "text/x-python",
   "name": "python",
   "nbconvert_exporter": "python",
   "pygments_lexer": "ipython3",
   "version": "3.7.4"
  }
 },
 "nbformat": 4,
 "nbformat_minor": 4
}
