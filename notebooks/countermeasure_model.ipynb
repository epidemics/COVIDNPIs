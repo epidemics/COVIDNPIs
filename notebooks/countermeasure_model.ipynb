{
 "cells": [
  {
   "cell_type": "code",
   "execution_count": null,
   "metadata": {},
   "outputs": [],
   "source": [
    "import datetime\n",
    "import io\n",
    "import logging\n",
    "\n",
    "import dateutil\n",
    "import datetime\n",
    "import numpy as np\n",
    "import pandas as pd\n",
    "import pymc3 as pm\n",
    "import theano\n",
    "import theano.tensor as T\n",
    "\n",
    "logging.basicConfig(level=logging.INFO)\n",
    "log = logging.getLogger(__name__)\n",
    "\n",
    "import warnings\n",
    "warnings.simplefilter(\"ignore\")\n",
    "warnings.simplefilter(action='ignore', category=FutureWarning)"
   ]
  },
  {
   "cell_type": "code",
   "execution_count": null,
   "metadata": {},
   "outputs": [],
   "source": [
    "### Mock parameters\n",
    "\n",
    "if 0:\n",
    "    # Countermeasures\n",
    "    CMs = [\"Stay home\", \"Respirators\"]\n",
    "    nCMs = len(CMs)\n",
    "    # Countries\n",
    "    Cs = [\"CZ\", \"SK\", \"DE\", \"PL\"]\n",
    "    nCs = len(Cs)\n",
    "    # Days\n",
    "    Ds = [f\"03-{i}\" for i in range(10, 21)]\n",
    "    nDs = len(Ds)\n",
    "\n",
    "    # Probability of testing positive after transmission, from 0\n",
    "    DelayProb = [0.1 for i in range(10)]\n",
    "\n",
    "    ### Mock input data\n",
    "\n",
    "    # [country, CM, day] Which CMs are active, and to what extent\n",
    "    ActiveCMs = np.random.exponential(0.2, size=(nCs, nCMs, nDs)).astype(theano.config.floatX)\n",
    "\n",
    "    # Mock growth rate [country, day]\n",
    "    grate = np.random.lognormal(0.2, 0.2, size=(nCs, nDs))\n",
    "    # cummulation of the daily rates * measurememt error\n",
    "    Confirmed = np.cumprod(grate, axis=1) * np.random.lognormal(0.0, 0.3, size=(nCs, nDs)).astype(theano.config.floatX)\n",
    "    #Confirmed[:,7] = np.nan"
   ]
  },
  {
   "cell_type": "code",
   "execution_count": null,
   "metadata": {},
   "outputs": [],
   "source": [
    "from epimodel import RegionDataset, read_csv\n",
    "from epimodel.imports.countermeasures import import_simplified_countermeasures\n",
    "rds = RegionDataset.load('../data/regions.csv')\n",
    "csse = read_csv('../data/CSSE.csv')\n",
    "cms = import_simplified_countermeasures(rds, \"../data/interventions_visualisation_2020_03_30.csv\")\n",
    "cms.to_csv('../data/CMS_binary.csv')\n"
   ]
  },
  {
   "cell_type": "code",
   "execution_count": null,
   "metadata": {},
   "outputs": [],
   "source": [
    "cms_full = import_simplified_countermeasures(rds, \"../data/COVID 19 Containment measures data.csv\")"
   ]
  },
  {
   "cell_type": "code",
   "execution_count": null,
   "metadata": {},
   "outputs": [],
   "source": [
    "### Real params and data\n",
    "\n",
    "if 1:\n",
    "    # Countermeasures\n",
    "    CMs = [\"Contact isolation\", \"Some businesses suspended\",\"Many businesses suspended\",\n",
    "           \"Schools and universities closed\",\"Social distancing advised\",\"Gatherings limited to 10 or less\",\n",
    "           \"General curfew\",\"General strict isolation\"]\n",
    "#,\"Gatherings limited to 100\", \"Gatherings limited to 500\",\n",
    "#\"Widespread mask usage (over 75%)\", \"Staying home advised\",\n",
    "    #CMs = ['Asymptomatic isolation - semi-targeted', 'International travel restriction', 'School closure', 'Healthcare specialisation', 'Resumption', 'Asymptomatic isolation - targeted', 'Assisting people to stay home', 'Diagnostic criteria tightened', 'Public cleaning', 'Asymptomatic isolation - blanket', 'Public interaction reduction', 'Domestic travel restriction', 'Symptomatic isolation - targeted', 'Nonessential business suspension', 'Mask wearing', 'Public education and incentives', 'Activity cancellation', 'Testing criteria', 'Symptomatic isolation - blanket']\n",
    "    #CMS += ['Gatherings banned', 'Contact tracing', 'Testing']\n",
    "    nCMs = len(CMs)\n",
    "    # Countries\n",
    "    Cs = [\"DK\", \"CZ\", \"GE\", \"FR\", \"ES\", \"GB\", \"PL\", \"GR\", \"CH\", \"BE\", \"FI\", \"HU\", \"NO\", \"RO\", \"SE\", \"SI\", \"SK\"]\n",
    "    nCs = len(Cs)\n",
    "    # Days\n",
    "    FullDs = pd.date_range(start='2020-02-10', end='2020-04-01', tz='utc')\n",
    "    #[datetime.date(2020,2,i) for i in range(20, 30)] + [datetime.date(2020,3,i) for i in range(1, 29)]\n",
    "    # HACK: Assume fixed 7 days to CM effect\n",
    "    CM_Ds = FullDs[:-7]\n",
    "    JH_Ds = FullDs[7:]\n",
    "    JHName = \"Confirmed\"\n",
    "\n",
    "    nDs = len(CM_Ds)\n",
    "\n",
    "    # Probability of testing positive after transmission, from 0\n",
    "    #DelayProb = [0.00, 0.01, 0.02, 0.05, 0.09, 0.13, 0.15, 0.15, 0.13, 0.10, 0.07, 0.05, 0.03, 0.01, 0.01]\n",
    "\n",
    "    # [country, CM, day] Which CMs are active, and to what extent\n",
    "    sd = cms.loc[Cs, CMs]\n",
    "    for cm in CMs:\n",
    "        d = cms[cm]\n",
    "        print(f\"{cm[:50]:50} {d.min().min():.3f} .. {d.mean().mean():.3f} .. {d.max().max():.3f}\")\n",
    "    ActiveCMs = np.stack([sd.loc[c].loc[CM_Ds].T for c in Cs])\n",
    "    print(ActiveCMs.shape, (nCs, nCMs, nDs))\n",
    "\n",
    "    #ActiveCMs = np.stack([sd.loc[Cs, [(cm, d) for d in CM_Ds]].values for cm in CMs], axis=1)\n",
    "    assert ActiveCMs.shape == (nCs, nCMs, nDs)\n",
    "    ActiveCMs = ActiveCMs.astype(theano.config.floatX)\n",
    "\n",
    "    # [country, day]\n",
    "    Confirmed = csse[JHName].loc[(tuple(Cs), JH_Ds)].unstack(1).values\n",
    "    print(Confirmed.shape)\n",
    "    assert Confirmed.shape == (nCs, nDs)\n",
    "    Confirmed[Confirmed < 5.0] = np.nan\n",
    "    Confirmed = np.ma.masked_invalid(Confirmed.astype(theano.config.floatX))\n"
   ]
  },
  {
   "cell_type": "code",
   "execution_count": null,
   "metadata": {},
   "outputs": [],
   "source": [
    "with pm.Model() as model:\n",
    "    # [] Baseline growth rate (wide prior OK, mean estimates ~10% daily growth)\n",
    "    BaseGrowthRate = pm.Lognormal(\"BaseGrowthRate\", np.log(1.2), 2.0)\n",
    "    # [country] Initial size of epidemic (the day before the start, only those detected; wide prior OK)\n",
    "    InitialSize = pm.Lognormal(\"InitialSize\", 0.0, 10, shape=(nCs,))\n",
    "    # [country] Country growth rate\n",
    "    # TODO: Estimate growth rate variance\n",
    "    CountryGrowthRate = pm.Lognormal(\"CountryGrowthRate\", pm.math.log(BaseGrowthRate), 0.3, shape=(nCs,))\n",
    "    # [CM] How much countermeasures reduce growth rate\n",
    "    # TODO: Estimate variance, or use another dist.\n",
    "    #CMReduction = pm.Bound(pm.Lognormal, upper=1.0)(\"CMReduction\", 0.0, 0.1, shape=(nCMs,))\n",
    "    CMReduction = pm.Lognormal(\"CMReduction\", 0.0, 0.1, shape=(nCMs,))\n",
    "    # [country, CM, day] Reduction factor for each CM,C,D\n",
    "    ActiveCMReduction = T.reshape(CMReduction, (1, nCMs, 1)) ** ActiveCMs\n",
    "    # [country, day] Reduction factor from CMs for each C,D (noise added below)\n",
    "    GrowthReduction = pm.Deterministic(\"GrowthReduction\", T.prod(ActiveCMReduction, axis=1))\n",
    "    # [country, day] The ideal predicted daily growth\n",
    "    PreictedGrowth = pm.Deterministic(\"PreictedGrowth\", T.reshape(CountryGrowthRate, (nCs, 1)) * GrowthReduction)\n",
    "    # [country, day] The actual (still hidden) growth each day\n",
    "    # TODO: Estimate noise varince (should be small, measurement variance below)\n",
    "    #       Miscalibration: too low: time effects pushed into CMs, too high: explains away CMs\n",
    "    DailyGrowth =  pm.Lognormal(\"DailyGrowth\", pm.math.log(PreictedGrowth), 0.1, shape=(nCs, nDs))\n",
    "\n",
    "    # Below I assume plain exponentia growth of confirmed rather than e.g. depending on the remaining\n",
    "    # susceptible opulation etc. (Would be needed in later stages, though)\n",
    "\n",
    "    # [country, day] The number of cases that would be detected with noiseless testing\n",
    "    # (Noise source includes both false-P/N rates and local variance in test volume and targetting)\n",
    "    # (Since we ony care about growth rates and assume consistent testing, it is fine to ignore real size)\n",
    "    Size = pm.Deterministic(\"Size\", T.reshape(InitialSize, (nCs, 1)) * DailyGrowth.cumprod(axis=1))\n",
    "    # [country, day] Cummulative tested positives\n",
    "    Observed = pm.Lognormal(\"Observed\", pm.math.log(Size), 0.4, shape=(nCs, nDs), observed=Confirmed)\n"
   ]
  },
  {
   "cell_type": "code",
   "execution_count": null,
   "metadata": {},
   "outputs": [],
   "source": []
  },
  {
   "cell_type": "code",
   "execution_count": null,
   "metadata": {},
   "outputs": [],
   "source": [
    "print(model.check_test_point())\n",
    "with model:\n",
    "    trace = pm.sample(1000, chains=4, cores=4, init='adapt_diag')"
   ]
  },
  {
   "cell_type": "code",
   "execution_count": null,
   "metadata": {},
   "outputs": [],
   "source": [
    "pm.traceplot(trace, var_names=[\"BaseGrowthRate\", \"CountryGrowthRate\", \"CMReduction\"])"
   ]
  },
  {
   "cell_type": "code",
   "execution_count": null,
   "metadata": {},
   "outputs": [],
   "source": [
    "pm.forestplot(trace, varnames=['CMReduction'], credible_interval=0.9)\n",
    "print(', '.join(f\"{i}: {c}\" for i, c in enumerate(CMs)))"
   ]
  },
  {
   "cell_type": "code",
   "execution_count": null,
   "metadata": {},
   "outputs": [],
   "source": [
    "import plotly\n",
    "import chart_studio.plotly as py\n",
    "from plotly import graph_objects as go\n",
    "import plotly.express as px\n",
    "\n",
    "fig = go.Figure()\n",
    "x = list(JH_Ds)\n",
    "x_rev = x[::-1]\n",
    "print(trace['DailyGrowth'].shape)\n",
    "for i, c in enumerate(Cs):\n",
    "    d = trace['DailyGrowth'][:,i,:]\n",
    "    y = list(d.mean(axis=0))\n",
    "    ylo = list(np.quantile(d, 0.05, axis=0))\n",
    "    yhi = list(np.quantile(d, 0.95, axis=0))\n",
    "    color = px.colors.qualitative.Light24[i]\n",
    "    fig.add_trace(go.Scatter(\n",
    "        x=x,\n",
    "        y=y,\n",
    "        name=c, legendgroup=c, line_color=color\n",
    "    ))    \n",
    "    fig.add_trace(go.Scatter(\n",
    "        x=x+x[::-1],\n",
    "        y=ylo+yhi[::-1],\n",
    "        fill='toself',\n",
    "        fillcolor=color,\n",
    "        opacity=0.15,\n",
    "        line_color='rgba(255,255,255,0)',\n",
    "        showlegend=False,\n",
    "        name=c, legendgroup=c,\n",
    "    ))    \n",
    "fig.show()\n",
    "plotly.io.write_html(fig, 'daily_growth_rates.html', include_plotlyjs='cdn')"
   ]
  },
  {
   "cell_type": "code",
   "execution_count": null,
   "metadata": {},
   "outputs": [],
   "source": []
  },
  {
   "cell_type": "code",
   "execution_count": null,
   "metadata": {},
   "outputs": [],
   "source": []
  },
  {
   "cell_type": "code",
   "execution_count": null,
   "metadata": {},
   "outputs": [],
   "source": []
  }
 ],
 "metadata": {
  "kernelspec": {
   "display_name": "Python 3",
   "language": "python",
   "name": "python3"
  },
  "language_info": {
   "codemirror_mode": {
    "name": "ipython",
    "version": 3
   },
   "file_extension": ".py",
   "mimetype": "text/x-python",
   "name": "python",
   "nbconvert_exporter": "python",
   "pygments_lexer": "ipython3",
   "version": "3.7.5"
  }
 },
 "nbformat": 4,
 "nbformat_minor": 4
}
