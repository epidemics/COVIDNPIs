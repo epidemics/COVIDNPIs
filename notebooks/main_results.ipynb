{
 "cells": [
  {
   "cell_type": "markdown",
   "metadata": {},
   "source": [
    "This notebook is used to do a main model run"
   ]
  },
  {
   "cell_type": "code",
   "execution_count": 1,
   "metadata": {},
   "outputs": [
    {
     "name": "stderr",
     "output_type": "stream",
     "text": [
      "[2021-02-28 21:11:34,745] WARNING(theano.tensor.blas): Using NumPy C-API based implementation for BLAS functions.\n"
     ]
    },
    {
     "name": "stdout",
     "output_type": "stream",
     "text": [
      "Set Theano Environmental Variables for Parallelisation\n"
     ]
    }
   ],
   "source": [
    "from epimodel import EpidemiologicalParameters, preprocess_data\n",
    "from epimodel.numpyro_models.models import ComplexDifferentEffectsModel\n",
    "\n",
    "import numpy as np\n",
    "import jax\n",
    "import jax.numpy as jnp\n",
    "import numpyro\n",
    "numpyro.set_host_device_count(2)"
   ]
  },
  {
   "cell_type": "code",
   "execution_count": 2,
   "metadata": {},
   "outputs": [
    {
     "name": "stdout",
     "output_type": "stream",
     "text": [
      "Dropping NPI Mask Wearing\n",
      "Dropping NPI Travel Screen/Quarantine\n",
      "Dropping NPI Travel Bans\n",
      "Dropping NPI Public Transport Limited\n",
      "Dropping NPI Internal Movement Limited\n",
      "Dropping NPI Public Information Campaigns\n",
      "Dropping NPI Symptomatic Testing\n",
      "Masking invalid values\n"
     ]
    }
   ],
   "source": [
    "data = preprocess_data('../merged_data/data_final_nov.csv', last_day='2020-05-30', smoothing=1)\n",
    "data.mask_reopenings(print_out = False)"
   ]
  },
  {
   "cell_type": "code",
   "execution_count": 3,
   "metadata": {},
   "outputs": [
    {
     "name": "stdout",
     "output_type": "stream",
     "text": [
      "{'gi_mean_mean': 5.06, 'gi_mean_sd': 0.3265, 'gi_sd_mean': 2.11, 'gi_sd_sd': 0.5, 'deaths_delay_mean_mean': 21.819649695284962, 'deaths_delay_mean_sd': 1.0056755718977664, 'deaths_delay_disp_mean': 14.26238141720708, 'deaths_delay_disp_sd': 5.177442947725441, 'cases_delay_mean_mean': 10.92830227448381, 'cases_delay_mean_sd': 0.9387435298564465, 'cases_delay_disp_mean': 5.406593726647138, 'cases_delay_disp_sd': 0.2689502951493133}\n"
     ]
    }
   ],
   "source": [
    "ep = EpidemiologicalParameters()\n",
    "bd = ep.get_model_build_dict()\n",
    "print(bd)\n",
    "model = ComplexDifferentEffectsModel(data)\n",
    "run_model = model.build_model(**bd)"
   ]
  },
  {
   "cell_type": "code",
   "execution_count": 4,
   "metadata": {},
   "outputs": [
    {
     "data": {
      "text/plain": [
       "(41, 8, 130)"
      ]
     },
     "execution_count": 4,
     "metadata": {},
     "output_type": "execute_result"
    }
   ],
   "source": [
    "data.ActiveCMs.shape"
   ]
  },
  {
   "cell_type": "code",
   "execution_count": null,
   "metadata": {
    "scrolled": false
   },
   "outputs": [],
   "source": [
    "kernel = numpyro.infer.NUTS(run_model)\n",
    "print(f\"Ketnel: {kernel}\")\n",
    "mcmc = numpyro.infer.MCMC(kernel, 500, 2000, num_chains=2, progress_bar=True)\n",
    "print(f\"MCMC: {mcmc}\")\n",
    "mcmc.run(jax.random.PRNGKey(1), jnp.array(data.ActiveCMs), jnp.array(data.NewCases.data), jnp.array(model.all_observed_active))\n",
    "mcmc.print_summary()\n",
    "\n",
    "#with model:\n",
    "#    model.trace = pm.sample(2000, tune=500, cores=4, chains=4, max_treedepth=12, target_accept=0.96)"
   ]
  },
  {
   "cell_type": "code",
   "execution_count": null,
   "metadata": {},
   "outputs": [],
   "source": [
    "# save results in a pickle file\n",
    "import pickle\n",
    "pickle.dump(model.trace, open('traces/final_final_nov.pkl', 'wb'))"
   ]
  }
 ],
 "metadata": {
  "kernelspec": {
   "display_name": "Python 3",
   "language": "python",
   "name": "python3"
  },
  "language_info": {
   "codemirror_mode": {
    "name": "ipython",
    "version": 3
   },
   "file_extension": ".py",
   "mimetype": "text/x-python",
   "name": "python",
   "nbconvert_exporter": "python",
   "pygments_lexer": "ipython3",
   "version": "3.8.5"
  }
 },
 "nbformat": 4,
 "nbformat_minor": 4
}
