{
 "cells": [
  {
   "cell_type": "markdown",
   "metadata": {},
   "source": [
    "This notebook is used to do a main model run"
   ]
  },
  {
   "cell_type": "code",
   "execution_count": 4,
   "metadata": {},
   "outputs": [],
   "source": [
    "from epimodel import EpidemiologicalParameters, DefaultModel, preprocess_data\n",
    "\n",
    "import numpy as np\n",
    "import pymc3 as pm"
   ]
  },
  {
   "cell_type": "code",
   "execution_count": 14,
   "metadata": {},
   "outputs": [
    {
     "name": "stdout",
     "output_type": "stream",
     "text": [
      "Dropping NPI Travel Screen/Quarantine\n",
      "Dropping NPI Travel Bans\n",
      "Dropping NPI Public Transport Limited\n",
      "Dropping NPI Internal Movement Limited\n",
      "Dropping NPI Public Information Campaigns\n",
      "Dropping NPI Symptomatic Testing\n",
      "Masking invalid values\n"
     ]
    }
   ],
   "source": [
    "data = preprocess_data('../merged_data/double_entry_final.csv', last_day='2020-05-30', smoothing=1)\n",
    "# data.mask_reopenings(print_out = False)"
   ]
  },
  {
   "cell_type": "code",
   "execution_count": 47,
   "metadata": {},
   "outputs": [
    {
     "name": "stdout",
     "output_type": "stream",
     "text": [
      "NO : 236.0\n",
      "PL : 1061.0\n",
      "FR : 28720.0\n",
      "PT : 1396.0\n",
      "MY : 115.0\n",
      "AT : 668.0\n"
     ]
    }
   ],
   "source": [
    "eval_fold = random.choices(data.Rs, k=6)\n",
    "\n",
    "\n",
    "for r in eval_fold:\n",
    "    print(f'{r} : {data.Deaths[data.Rs.index(r), -1]}')"
   ]
  },
  {
   "cell_type": "code",
   "execution_count": null,
   "metadata": {},
   "outputs": [],
   "source": [
    "ep = EpidemiologicalParameters()"
   ]
  },
  {
   "cell_type": "code",
   "execution_count": null,
   "metadata": {},
   "outputs": [],
   "source": [
    "bd = ep.get_model_build_dict()"
   ]
  },
  {
   "cell_type": "code",
   "execution_count": null,
   "metadata": {},
   "outputs": [],
   "source": [
    "bd"
   ]
  },
  {
   "cell_type": "code",
   "execution_count": null,
   "metadata": {},
   "outputs": [],
   "source": [
    "with DefaultModel(data) as model:\n",
    "    model.build_model(**bd)"
   ]
  },
  {
   "cell_type": "code",
   "execution_count": null,
   "metadata": {},
   "outputs": [],
   "source": [
    "pm.model_to_graphviz(model)"
   ]
  },
  {
   "cell_type": "code",
   "execution_count": null,
   "metadata": {},
   "outputs": [],
   "source": [
    "with model:\n",
    "    model.trace = pm.sample(2000, tune=500, cores=4, chains=4, max_treedepth=12, target_accept=0.925)"
   ]
  },
  {
   "cell_type": "code",
   "execution_count": null,
   "metadata": {},
   "outputs": [],
   "source": [
    "# save results in a pickle file\n",
    "import pickle\n",
    "pickle.dump(model.trace, open('traces/final_results.pkl', 'wb'))"
   ]
  },
  {
   "cell_type": "code",
   "execution_count": null,
   "metadata": {},
   "outputs": [],
   "source": [
    "# csv file for mitigation calculator\n",
    "cm_red = np.zeros((8000, 8))\n",
    "cm_red[:, :] = model.trace.CMReduction[:, [0, 1, 2, 3, 4, 5, 6, 8]]\n",
    "\n",
    "# combine schools and unis into one NPI\n",
    "cm_red[:, 6] = cm_red[:, 6] * model.trace.CMReduction[:, 7]\n",
    "\n",
    "np.savetxt('traces.txt', cm_red, delimiter=',', header='Mask Wearing, Gatherings<1000, Gatherings<100, Gatherings<10, Some Business, Most Business, School+Uni, StayHome' )"
   ]
  }
 ],
 "metadata": {
  "kernelspec": {
   "display_name": "Python 3",
   "language": "python",
   "name": "python3"
  },
  "language_info": {
   "codemirror_mode": {
    "name": "ipython",
    "version": 3
   },
   "file_extension": ".py",
   "mimetype": "text/x-python",
   "name": "python",
   "nbconvert_exporter": "python",
   "pygments_lexer": "ipython3",
   "version": "3.8.3"
  }
 },
 "nbformat": 4,
 "nbformat_minor": 4
}
